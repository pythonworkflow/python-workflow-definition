{
 "cells": [
  {
   "cell_type": "markdown",
   "id": "0",
   "metadata": {},
   "source": [
    "# pyiron_workflow\n",
    "## Define workflow with pyiron_workflow"
   ]
  },
  {
   "cell_type": "code",
   "execution_count": null,
   "id": "1",
   "metadata": {},
   "outputs": [],
   "source": [
    "from inspect import isfunction\n",
    "import numpy as np\n",
    "from pyiron_workflow import Workflow, to_function_node, as_function_node\n",
    "from pyiron_workflow.api import inputs_to_dict\n",
    "from python_workflow_definition.pyiron_workflow import write_workflow_json"
   ]
  },
  {
   "cell_type": "code",
   "execution_count": null,
   "id": "2",
   "metadata": {},
   "outputs": [],
   "source": [
    "from workflow import (\n",
    "    calculate_qe as _calculate_qe, \n",
    "    generate_structures as _generate_structures, \n",
    "    get_bulk_structure as _get_bulk_structure, \n",
    "    plot_energy_volume_curve as _plot_energy_volume_curve,\n",
    ")"
   ]
  },
  {
   "cell_type": "code",
   "execution_count": null,
   "id": "3",
   "metadata": {},
   "outputs": [],
   "source": [
    "@as_function_node(\"output_dict\")\n",
    "def get_values_from_dict(input_dict):\n",
    "    return list(input_dict.values())"
   ]
  },
  {
   "cell_type": "code",
   "execution_count": null,
   "id": "4",
   "metadata": {},
   "outputs": [],
   "source": [
    "workflow_json_filename = \"pyiron_workflow_qe.json\""
   ]
  },
  {
   "cell_type": "code",
   "execution_count": null,
   "id": "5",
   "metadata": {},
   "outputs": [],
   "source": [
    "calculate_qe = to_function_node(\"calculate_qe\", _calculate_qe, \"calculate_qe\")\n",
    "generate_structures = to_function_node(\"generate_structures\", _generate_structures, \"generate_structures\")\n",
    "get_bulk_structure = to_function_node(\"get_bulk_structure\", _get_bulk_structure, \"get_bulk_structure\")\n",
    "plot_energy_volume_curve = to_function_node(\"plot_energy_volume_curve\", _plot_energy_volume_curve, \"plot_energy_volume_curve\", validate_output_labels=False)"
   ]
  },
  {
   "cell_type": "code",
   "execution_count": null,
   "id": "6",
   "metadata": {},
   "outputs": [],
   "source": [
    "wf = Workflow(\"my_workflow\")"
   ]
  },
  {
   "cell_type": "code",
   "execution_count": null,
   "id": "7",
   "metadata": {},
   "outputs": [],
   "source": [
    "wf.pseudopotentials = {\"Al\": \"Al.pbe-n-kjpaw_psl.1.0.0.UPF\"}"
   ]
  },
  {
   "cell_type": "code",
   "execution_count": null,
   "id": "8",
   "metadata": {},
   "outputs": [],
   "source": [
    "wf.element = \"Al\"\n",
    "wf.a = 4.04\n",
    "wf.cubic = True\n",
    "wf.structure = get_bulk_structure(\n",
    "    element=wf.element,\n",
    "    a=wf.a,\n",
    "    cubic=wf.cubic,\n",
    ")"
   ]
  },
  {
   "cell_type": "code",
   "execution_count": null,
   "id": "9",
   "metadata": {},
   "outputs": [],
   "source": [
    "wf.working_directory_0 = \"mini\"\n",
    "input_dict = {\n",
    "    \"structure\": wf.structure, \n",
    "    \"pseudopotentials\": wf.pseudopotentials, \n",
    "    \"kpts\": (3, 3, 3), \n",
    "    \"calculation\": \"vc-relax\", \n",
    "    \"smearing\": 0.02,\n",
    "}\n",
    "wf.input_dict_0 = inputs_to_dict(\n",
    "    input_specification=list(input_dict.keys()),\n",
    "    **input_dict\n",
    ")"
   ]
  },
  {
   "cell_type": "code",
   "execution_count": null,
   "id": "10",
   "metadata": {},
   "outputs": [],
   "source": [
    "wf.calc_mini = calculate_qe(\n",
    "    working_directory=wf.working_directory_0,\n",
    "    input_dict=wf.input_dict_0,\n",
    ")"
   ]
  },
  {
   "cell_type": "code",
   "execution_count": null,
   "id": "11",
   "metadata": {},
   "outputs": [],
   "source": [
    "number_of_strains = 5\n",
    "wf.strain_lst = np.linspace(0.9, 1.1, number_of_strains)\n",
    "wf.structure_lst = generate_structures(  # the generate_structures() function is not available in the workflow graph\n",
    "    structure=wf.calc_mini[\"structure\"],\n",
    "    strain_lst=wf.strain_lst,\n",
    ")"
   ]
  },
  {
   "cell_type": "code",
   "execution_count": null,
   "id": "12",
   "metadata": {},
   "outputs": [],
   "source": [
    "job_strain_lst = []\n",
    "for i in range(number_of_strains):\n",
    "    setattr(wf, \"input_dict_\" + str(i+1), inputs_to_dict(\n",
    "        input_specification=[\"structure\", \"pseudopotentials\", \"kpts\", \"calculation\", \"smearing\"],\n",
    "        structure=wf.structure_lst[\"s_\" + str(i)],\n",
    "        pseudopotentials=wf.pseudopotentials,\n",
    "        kpts=(3, 3, 3),\n",
    "        calculation=\"scf\",\n",
    "        smearing=0.02,\n",
    "    ))\n",
    "    setattr(wf, \"calc_strain_\" + str(i), calculate_qe(\n",
    "        working_directory=\"strain_\" + str(i),\n",
    "        input_dict=getattr(wf, \"input_dict_\" + str(i+1)),\n",
    "    ))\n",
    "    job_strain_lst.append(getattr(wf, \"calc_strain_\" + str(i)))"
   ]
  },
  {
   "cell_type": "code",
   "execution_count": null,
   "id": "13",
   "metadata": {},
   "outputs": [],
   "source": [
    "volume_dict = {\"s_\" + str(i): j[\"volume\"] for i, j in enumerate(job_strain_lst)}\n",
    "wf.volume_dict = inputs_to_dict(\n",
    "    input_specification=list(volume_dict.keys()),\n",
    "    **volume_dict\n",
    ")\n",
    "energy_dict = {\"s_\" + str(i): j[\"energy\"] for i, j in enumerate(job_strain_lst)}\n",
    "wf.energy_dict = inputs_to_dict(\n",
    "    input_specification=list(energy_dict.keys()),\n",
    "    **energy_dict,\n",
    ")\n",
    "wf.volume_lst = get_values_from_dict(\n",
    "    input_dict=wf.volume_dict\n",
    ")\n",
    "wf.energy_lst = get_values_from_dict(\n",
    "    input_dict=wf.energy_dict\n",
    ")"
   ]
  },
  {
   "cell_type": "code",
   "execution_count": null,
   "id": "14",
   "metadata": {},
   "outputs": [],
   "source": [
    "wf.plot = plot_energy_volume_curve(volume_lst=wf.volume_lst, energy_lst=wf.energy_lst)"
   ]
  },
  {
   "cell_type": "code",
   "execution_count": null,
   "id": "15",
   "metadata": {},
   "outputs": [],
   "source": [
    "wf.draw(size=(10,10))"
   ]
  },
  {
   "cell_type": "code",
   "execution_count": null,
   "id": "16",
   "metadata": {},
   "outputs": [],
   "source": [
    "write_workflow_json(graph_as_dict=wf.graph_as_dict, file_name=workflow_json_filename)"
   ]
  },
  {
   "cell_type": "code",
   "execution_count": null,
   "id": "17",
   "metadata": {},
   "outputs": [],
   "source": [
    "!cat {workflow_json_filename}"
   ]
  },
  {
   "cell_type": "markdown",
   "id": "18",
   "metadata": {},
   "source": [
    "## Load Workflow with aiida"
   ]
  },
  {
   "cell_type": "code",
   "execution_count": null,
   "id": "19",
   "metadata": {},
   "outputs": [],
   "source": [
    "from aiida import orm, load_profile\n",
    "\n",
    "load_profile()"
   ]
  },
  {
   "cell_type": "code",
   "execution_count": null,
   "id": "20",
   "metadata": {},
   "outputs": [],
   "source": [
    "from python_workflow_definition.aiida import load_workflow_json"
   ]
  },
  {
   "cell_type": "code",
   "execution_count": null,
   "id": "21",
   "metadata": {},
   "outputs": [],
   "source": [
    "wg = load_workflow_json(file_name=workflow_json_filename)"
   ]
  },
  {
   "cell_type": "code",
   "execution_count": null,
   "id": "22",
   "metadata": {},
   "outputs": [],
   "source": [
    "wg.nodes.get_bulk_structure1.inputs.a.value = orm.Float(4.05)"
   ]
  },
  {
   "cell_type": "code",
   "execution_count": null,
   "id": "23",
   "metadata": {},
   "outputs": [],
   "source": [
    "wg.run()"
   ]
  },
  {
   "cell_type": "markdown",
   "id": "24",
   "metadata": {},
   "source": [
    "## Load Workflow with jobflow"
   ]
  },
  {
   "cell_type": "code",
   "execution_count": null,
   "id": "25",
   "metadata": {},
   "outputs": [],
   "source": [
    "from python_workflow_definition.jobflow import load_workflow_json"
   ]
  },
  {
   "cell_type": "code",
   "execution_count": null,
   "id": "26",
   "metadata": {},
   "outputs": [],
   "source": [
    "from jobflow.managers.local import run_locally"
   ]
  },
  {
   "cell_type": "code",
   "execution_count": null,
   "id": "27",
   "metadata": {},
   "outputs": [],
   "source": [
    "flow = load_workflow_json(file_name=workflow_json_filename)"
   ]
  },
  {
   "cell_type": "code",
   "execution_count": null,
   "id": "28",
   "metadata": {},
   "outputs": [],
   "source": [
    "flow[0].function_kwargs[\"a\"] = 4.05"
   ]
  },
  {
   "cell_type": "code",
   "execution_count": null,
   "id": "29",
   "metadata": {},
   "outputs": [],
   "source": [
    "result = run_locally(flow)\n",
    "result"
   ]
  },
  {
   "cell_type": "markdown",
   "id": "30",
   "metadata": {},
   "source": [
    "## Load Workflow with pyiron_base"
   ]
  },
  {
   "cell_type": "code",
   "execution_count": null,
   "id": "31",
   "metadata": {},
   "outputs": [],
   "source": [
    "from python_workflow_definition.pyiron_base import load_workflow_json"
   ]
  },
  {
   "cell_type": "code",
   "execution_count": null,
   "id": "32",
   "metadata": {},
   "outputs": [],
   "source": [
    "delayed_object_lst = load_workflow_json(file_name=\"workflow.json\")\n",
    "delayed_object_lst[-1].draw()"
   ]
  },
  {
   "cell_type": "code",
   "execution_count": null,
   "id": "33",
   "metadata": {},
   "outputs": [],
   "source": [
    "delayed_object_lst[0].input['a'] = 4.05"
   ]
  },
  {
   "cell_type": "code",
   "execution_count": null,
   "id": "34",
   "metadata": {},
   "outputs": [],
   "source": [
    "delayed_object_lst[-1].pull()"
   ]
  },
  {
   "cell_type": "code",
   "execution_count": null,
   "id": "35",
   "metadata": {},
   "outputs": [],
   "source": []
  }
 ],
 "metadata": {},
 "nbformat": 4,
 "nbformat_minor": 5
}
