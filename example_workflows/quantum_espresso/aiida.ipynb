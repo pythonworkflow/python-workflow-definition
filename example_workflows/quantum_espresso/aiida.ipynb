{
 "cells": [
  {
   "cell_type": "markdown",
   "metadata": {},
   "source": [
    "# Aiida"
   ]
  },
  {
   "cell_type": "markdown",
   "metadata": {},
   "source": [
    "## Define workflow with aiida"
   ]
  },
  {
   "cell_type": "code",
   "execution_count": null,
   "metadata": {},
   "outputs": [],
   "source": [
    "from python_workflow_definition.aiida import write_workflow_json\n",
    "from python_workflow_definition.shared import get_dict, get_list\n",
    "\n",
    "from aiida import load_profile, orm\n",
    "\n",
    "load_profile()\n",
    "\n",
    "workflow_json_filename = \"aiida_qe.json\""
   ]
  },
  {
   "cell_type": "code",
   "execution_count": null,
   "metadata": {},
   "outputs": [],
   "source": [
    "from aiida_workgraph import task, WorkGraph"
   ]
  },
  {
   "cell_type": "code",
   "execution_count": null,
   "metadata": {},
   "outputs": [],
   "source": [
    "from workflow import (\n",
    "    generate_structures,\n",
    "    get_bulk_structure,\n",
    "    calculate_qe as _calculate_qe,\n",
    "    plot_energy_volume_curve,\n",
    ")"
   ]
  },
  {
   "cell_type": "code",
   "execution_count": null,
   "metadata": {},
   "outputs": [],
   "source": [
    "calculate_qe = task(outputs=[\"energy\", \"volume\", \"structure\"])(_calculate_qe)"
   ]
  },
  {
   "cell_type": "code",
   "execution_count": null,
   "metadata": {},
   "outputs": [],
   "source": [
    "wg = WorkGraph(\"wg-qe\")"
   ]
  },
  {
   "cell_type": "markdown",
   "metadata": {},
   "source": [
    "### Prepare the inputs"
   ]
  },
  {
   "cell_type": "code",
   "execution_count": null,
   "metadata": {},
   "outputs": [],
   "source": [
    "element = orm.Str(\"Al\")\n",
    "a = orm.Float(4.04)\n",
    "cubic = orm.Bool(True)\n",
    "relax_workdir = orm.Str(\"mini\")\n",
    "pseudopotentials = orm.Dict({\"Al\": \"Al.pbe-n-kjpaw_psl.1.0.0.UPF\"})\n",
    "kpts = orm.List([3, 3, 3])\n",
    "calc_type_relax = orm.Str(\"vc-relax\")\n",
    "calc_type_scf = orm.Str(\"scf\")\n",
    "smearing = orm.Float(0.02)\n",
    "strain_lst = orm.List([0.9, 0.95, 1.0, 1.05, 1.1])"
   ]
  },
  {
   "cell_type": "markdown",
   "metadata": {},
   "source": [
    "### Actual tasks to construct the EOS workflow"
   ]
  },
  {
   "cell_type": "code",
   "execution_count": null,
   "metadata": {},
   "outputs": [],
   "source": [
    "get_bulk_structure_task = wg.add_task(\n",
    "    get_bulk_structure,\n",
    "    element=element,\n",
    "    a=a,\n",
    "    cubic=cubic,\n",
    ")"
   ]
  },
  {
   "cell_type": "code",
   "execution_count": null,
   "metadata": {},
   "outputs": [],
   "source": [
    "relax_prepare_input_dict_task = wg.add_task(\n",
    "    get_dict,\n",
    "    structure=get_bulk_structure_task.outputs.result,\n",
    "    calculation=calc_type_relax,\n",
    "    kpts=kpts,\n",
    "    pseudopotentials=pseudopotentials,\n",
    "    smearing=smearing,\n",
    ")\n",
    "\n",
    "relax_task = wg.add_task(\n",
    "    calculate_qe,\n",
    "    input_dict=relax_prepare_input_dict_task.outputs.result,\n",
    "    working_directory=relax_workdir,\n",
    ")"
   ]
  },
  {
   "cell_type": "code",
   "execution_count": null,
   "metadata": {},
   "outputs": [],
   "source": [
    "generate_structures_task = wg.add_task(\n",
    "    generate_structures,\n",
    "    structure=relax_task.outputs.structure,\n",
    "    strain_lst=strain_lst,\n",
    ")"
   ]
  },
  {
   "cell_type": "code",
   "execution_count": null,
   "metadata": {},
   "outputs": [],
   "source": [
    "get_volumes_task = wg.add_task(get_list)"
   ]
  },
  {
   "cell_type": "code",
   "execution_count": null,
   "metadata": {},
   "outputs": [],
   "source": [
    "get_energies_task = wg.add_task(get_list)"
   ]
  },
  {
   "cell_type": "code",
   "execution_count": null,
   "metadata": {},
   "outputs": [],
   "source": [
    "strain_dir_tasks, scf_qe_tasks, scf_get_dict_tasks = [], [], []\n",
    "\n",
    "for i, strain in enumerate(strain_lst):\n",
    "\n",
    "    structure_key = f\"s_{i}\"\n",
    "    strain_dir = orm.Str(f\"strain_{i}\")\n",
    "    generate_structures_task.add_output(\"workgraph.any\", structure_key)\n",
    "\n",
    "    scf_prepare_input_dict_task = wg.add_task(\n",
    "        get_dict,\n",
    "        structure=generate_structures_task.outputs[structure_key],\n",
    "        calculation=calc_type_scf,\n",
    "        kpts=kpts,\n",
    "        pseudopotentials=pseudopotentials,\n",
    "        smearing=smearing,\n",
    "    )\n",
    "\n",
    "    scf_qe_task = wg.add_task(\n",
    "        calculate_qe,\n",
    "        input_dict=scf_prepare_input_dict_task.outputs.result,\n",
    "        working_directory=strain_dir,\n",
    "    )\n",
    "\n",
    "    # collect energy and volume\n",
    "    get_energies_task.set({f\"{i}\": scf_qe_task.outputs.energy})\n",
    "    get_volumes_task.set({f\"{i}\": scf_qe_task.outputs.volume})"
   ]
  },
  {
   "cell_type": "code",
   "execution_count": null,
   "metadata": {},
   "outputs": [],
   "source": [
    "plot_energy_volume_curve_task = wg.add_task(\n",
    "    plot_energy_volume_curve,\n",
    "    volume_lst=get_volumes_task.outputs.result,\n",
    "    energy_lst=get_energies_task.outputs.result,\n",
    ")"
   ]
  },
  {
   "cell_type": "code",
   "execution_count": null,
   "metadata": {},
   "outputs": [],
   "source": [
    "wg"
   ]
  },
  {
   "cell_type": "code",
   "execution_count": null,
   "metadata": {},
   "outputs": [],
   "source": [
    "_ = write_workflow_json(wg=wg, file_name=workflow_json_filename)\n"
   ]
  },
  {
   "cell_type": "code",
   "execution_count": null,
   "metadata": {},
   "outputs": [],
   "source": [
    "!cat {workflow_json_filename}"
   ]
  },
  {
   "cell_type": "markdown",
   "metadata": {},
   "source": [
    "## Load Workflow with jobflow"
   ]
  },
  {
   "cell_type": "code",
   "execution_count": null,
   "metadata": {},
   "outputs": [],
   "source": [
    "from python_workflow_definition.jobflow import load_workflow_json"
   ]
  },
  {
   "cell_type": "code",
   "execution_count": null,
   "metadata": {},
   "outputs": [],
   "source": [
    "from jobflow.managers.local import run_locally"
   ]
  },
  {
   "cell_type": "code",
   "execution_count": null,
   "metadata": {},
   "outputs": [],
   "source": [
    "flow = load_workflow_json(file_name=workflow_json_filename)"
   ]
  },
  {
   "cell_type": "code",
   "execution_count": null,
   "metadata": {},
   "outputs": [],
   "source": [
    "flow[0].function_kwargs[\"a\"] = 4.05"
   ]
  },
  {
   "cell_type": "code",
   "execution_count": null,
   "metadata": {},
   "outputs": [],
   "source": [
    "result = run_locally(flow)\n",
    "result"
   ]
  },
  {
   "cell_type": "markdown",
   "metadata": {},
   "source": [
    "## Load Workflow with pyiron_base"
   ]
  },
  {
   "cell_type": "code",
   "execution_count": null,
   "metadata": {},
   "outputs": [],
   "source": [
    "from python_workflow_definition.pyiron_base import load_workflow_json"
   ]
  },
  {
   "cell_type": "code",
   "execution_count": null,
   "metadata": {},
   "outputs": [],
   "source": [
    "delayed_object_lst = load_workflow_json(file_name=workflow_json_filename)\n",
    "delayed_object_lst[-1].draw()"
   ]
  },
  {
   "cell_type": "code",
   "execution_count": null,
   "metadata": {},
   "outputs": [],
   "source": [
    "delayed_object_lst[0].input['a'] = 4.05"
   ]
  },
  {
   "cell_type": "code",
   "execution_count": null,
   "metadata": {},
   "outputs": [],
   "source": [
    "delayed_object_lst[-1].pull()"
   ]
  },
  {
   "cell_type": "markdown",
   "metadata": {},
   "source": [
    "## Load Workflow with pyiron_workflow"
   ]
  },
  {
   "cell_type": "code",
   "execution_count": null,
   "metadata": {},
   "outputs": [],
   "source": [
    "from python_workflow_definition.pyiron_workflow import load_workflow_json"
   ]
  },
  {
   "cell_type": "code",
   "execution_count": null,
   "metadata": {},
   "outputs": [],
   "source": [
    "wf = load_workflow_json(file_name=workflow_json_filename)"
   ]
  },
  {
   "cell_type": "code",
   "execution_count": null,
   "metadata": {},
   "outputs": [],
   "source": [
    "wf.get_bulk_structure.inputs.a.value = 4.05"
   ]
  },
  {
   "cell_type": "code",
   "execution_count": null,
   "metadata": {},
   "outputs": [],
   "source": [
    "wf.draw(size=(10,10))"
   ]
  },
  {
   "cell_type": "code",
   "execution_count": null,
   "metadata": {},
   "outputs": [],
   "source": [
    "wf.run()"
   ]
  }
 ],
 "metadata": {},
 "nbformat": 4,
 "nbformat_minor": 4
}
