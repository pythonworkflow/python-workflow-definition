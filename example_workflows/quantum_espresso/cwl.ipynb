{
 "metadata": {
  "kernelspec": {
   "display_name": "Python 3 (ipykernel)",
   "language": "python",
   "name": "python3"
  },
  "language_info": {
   "name": "python",
   "version": "3.12.8",
   "mimetype": "text/x-python",
   "codemirror_mode": {
    "name": "ipython",
    "version": 3
   },
   "pygments_lexer": "ipython3",
   "nbconvert_exporter": "python",
   "file_extension": ".py"
  }
 },
 "nbformat_minor": 5,
 "nbformat": 4,
 "cells": [
  {
   "id": "4eca79ef-1053-4f69-89ad-2bee8411068e",
   "cell_type": "code",
   "source": "import os",
   "metadata": {
    "trusted": true
   },
   "outputs": [],
   "execution_count": 1
  },
  {
   "id": "377fef56-484d-491c-b19e-1be6931e44eb",
   "cell_type": "code",
   "source": "import pickle",
   "metadata": {
    "trusted": true
   },
   "outputs": [],
   "execution_count": 2
  },
  {
   "id": "92e3921b-2bb8-4333-8cfe-4bd27f785d24",
   "cell_type": "code",
   "source": "from python_workflow_definition.cwl import write_workflow",
   "metadata": {
    "trusted": true
   },
   "outputs": [],
   "execution_count": 3
  },
  {
   "id": "5303c059-8ae4-4557-858e-b4bd64eac711",
   "cell_type": "code",
   "source": "write_workflow(file_name=\"workflow.json\")",
   "metadata": {
    "trusted": true
   },
   "outputs": [],
   "execution_count": 4
  },
  {
   "id": "0192ca74-3971-464b-9435-c156e0b6e623",
   "cell_type": "code",
   "source": "os.environ[\"ESPRESSO_PSEUDO\"] = os.path.abspath(os.path.join(\"../../espresso/pseudo\"))",
   "metadata": {
    "trusted": true
   },
   "outputs": [],
   "execution_count": 5
  },
  {
   "id": "df302bd2-e9b6-4595-979c-67c46414d986",
   "cell_type": "code",
   "source": "! cwltool --preserve-environment=ESPRESSO_PSEUDO workflow.cwl workflow.yml",
   "metadata": {
    "trusted": true
   },
   "outputs": [
    {
     "name": "stdout",
     "output_type": "stream",
     "text": "/srv/conda/envs/notebook/bin/cwltool:11: DeprecationWarning: Nesting argument groups is deprecated.\n  sys.exit(run())\n\u001B[1;30mINFO\u001B[0m /srv/conda/envs/notebook/bin/cwltool 3.1.20250110105449\n\u001B[1;30mINFO\u001B[0m Resolved 'workflow.cwl' to 'file:///home/jovyan/example_workflows/quantum_espresso/workflow.cwl'\n\u001B[1;30mINFO\u001B[0m [workflow ] start\n\u001B[1;30mINFO\u001B[0m [workflow ] starting step get_bulk_structure_0\n\u001B[1;30mINFO\u001B[0m [step get_bulk_structure_0] start\n\u001B[1;30mINFO\u001B[0m [job get_bulk_structure_0] /tmp/9sant4h9$ python \\\n    -m \\\n    python_workflow_definition.cwl \\\n    --workflowfile=/tmp/va137af6/stga19aac01-d6f9-48d3-ba6b-d8a6e460f525/workflow.py \\\n    --function=workflow.get_bulk_structure \\\n    --arg_cubic=/tmp/va137af6/stgd2861bb7-939d-449d-9600-71f380ee058d/cubic.pickle \\\n    --arg_element=/tmp/va137af6/stg93f5775e-477a-4b2e-87ac-822ff4097346/element.pickle \\\n    --arg_a=/tmp/va137af6/stgcfd0bd7b-a186-4b46-80a6-663aeb5d0fa9/a.pickle\n\u001B[1;30mINFO\u001B[0m [job get_bulk_structure_0] Max memory used: 110MiB\n\u001B[1;30mINFO\u001B[0m [job get_bulk_structure_0] completed success\n\u001B[1;30mINFO\u001B[0m [step get_bulk_structure_0] completed success\n\u001B[1;30mINFO\u001B[0m [workflow ] starting step get_dict_13\n\u001B[1;30mINFO\u001B[0m [step get_dict_13] start\n\u001B[1;30mINFO\u001B[0m [job get_dict_13] /tmp/_o8rxcyc$ python \\\n    -m \\\n    python_workflow_definition.cwl \\\n    --function=python_workflow_definition.shared.get_dict \\\n    --arg_smearing=/tmp/1h2uwpt9/stg17e865b8-f1f4-406f-a9c7-b8deddc5695d/smearing.pickle \\\n    --arg_calculation=/tmp/1h2uwpt9/stgf1d25320-f3de-48f7-8087-5cdb5531765c/calculation_0.pickle \\\n    --arg_kpts=/tmp/1h2uwpt9/stgc9e37196-83cf-49d9-88e1-b5acb7c53e7f/kpts.pickle \\\n    --arg_pseudopotentials=/tmp/1h2uwpt9/stgcfb6bfd1-3ae7-4600-b07d-ca107c1a275c/pseudopotentials.pickle \\\n    --arg_structure=/tmp/1h2uwpt9/stg0da627e7-f19e-4948-b23e-4552aa692862/result.pickle\n\u001B[1;30mINFO\u001B[0m [job get_dict_13] completed success\n\u001B[1;30mINFO\u001B[0m [step get_dict_13] completed success\n\u001B[1;30mINFO\u001B[0m [workflow ] starting step calculate_qe_1\n\u001B[1;30mINFO\u001B[0m [step calculate_qe_1] start\n\u001B[1;30mINFO\u001B[0m [job calculate_qe_1] /tmp/q56p65x4$ python \\\n    -m \\\n    python_workflow_definition.cwl \\\n    --workflowfile=/tmp/5hwlsb8q/stga00637b3-d27a-4b67-b4b2-5857ffc8f94a/workflow.py \\\n    --function=workflow.calculate_qe \\\n    --arg_input_dict=/tmp/5hwlsb8q/stgea0d773c-cef9-49b7-9895-09c22db6f52d/result.pickle \\\n    --arg_working_directory=/tmp/5hwlsb8q/stg541840e1-d4a6-4a2c-a220-ab09e72c869d/working_directory_0.pickle\n[jupyter-pythonworkflow-fl--x---d7231032:09273] mca_base_component_repository_open: unable to open mca_btl_openib: librdmacm.so.1: cannot open shared object file: No such file or directory (ignored)\nNote: The following floating-point exceptions are signalling: IEEE_INVALID_FLAG\n\u001B[1;30mINFO\u001B[0m [job calculate_qe_1] Max memory used: 273MiB\n\u001B[1;30mINFO\u001B[0m [job calculate_qe_1] completed success\n\u001B[1;30mINFO\u001B[0m [step calculate_qe_1] completed success\n\u001B[1;30mINFO\u001B[0m [workflow ] starting step generate_structures_2\n\u001B[1;30mINFO\u001B[0m [step generate_structures_2] start\n\u001B[1;30mINFO\u001B[0m [job generate_structures_2] /tmp/81vwps2h$ python \\\n    -m \\\n    python_workflow_definition.cwl \\\n    --workflowfile=/tmp/0d6xih7u/stg8da9bfd1-34a7-4282-8446-97a728d4747b/workflow.py \\\n    --function=workflow.generate_structures \\\n    --arg_structure=/tmp/0d6xih7u/stg89eb15f9-014d-4c20-8197-87c6c7345ffe/structure.pickle \\\n    --arg_strain_lst=/tmp/0d6xih7u/stg80ec088c-9b6a-45bd-8565-e68fd3c76210/strain_lst.pickle\n\u001B[1;30mINFO\u001B[0m [job generate_structures_2] Max memory used: 96MiB\n\u001B[1;30mINFO\u001B[0m [job generate_structures_2] completed success\n\u001B[1;30mINFO\u001B[0m [step generate_structures_2] completed success\n\u001B[1;30mINFO\u001B[0m [workflow ] starting step get_dict_25\n\u001B[1;30mINFO\u001B[0m [step get_dict_25] start\n\u001B[1;30mINFO\u001B[0m [job get_dict_25] /tmp/hj3teyvh$ python \\\n    -m \\\n    python_workflow_definition.cwl \\\n    --function=python_workflow_definition.shared.get_dict \\\n    --arg_smearing=/tmp/ky497mud/stgf2ab029c-fd78-4490-a4aa-2ee352fa40a2/smearing.pickle \\\n    --arg_calculation=/tmp/ky497mud/stg12f82711-28cb-42e6-80c5-59e7fa946ea8/calculation_1.pickle \\\n    --arg_kpts=/tmp/ky497mud/stgd35fecc6-83e5-493e-85ad-caf6acd301cb/kpts.pickle \\\n    --arg_pseudopotentials=/tmp/ky497mud/stg9b98aba6-11a6-4718-bd3a-23f160518077/pseudopotentials.pickle \\\n    --arg_structure=/tmp/ky497mud/stg00376f4a-a991-469a-b494-27c160e6c15d/s_2.pickle\n\u001B[1;30mINFO\u001B[0m [job get_dict_25] completed success\n\u001B[1;30mINFO\u001B[0m [step get_dict_25] completed success\n\u001B[1;30mINFO\u001B[0m [workflow ] starting step get_dict_20\n\u001B[1;30mINFO\u001B[0m [step get_dict_20] start\n\u001B[1;30mINFO\u001B[0m [job get_dict_20] /tmp/y9drdoe7$ python \\\n    -m \\\n    python_workflow_definition.cwl \\\n    --function=python_workflow_definition.shared.get_dict \\\n    --arg_smearing=/tmp/dsu142t1/stgcba59359-36e1-4bf9-9e6f-e7cf99a23077/smearing.pickle \\\n    --arg_calculation=/tmp/dsu142t1/stg56a2646f-2057-4670-bb4e-f55af62c5858/calculation_1.pickle \\\n    --arg_kpts=/tmp/dsu142t1/stgc443e9a8-c9b6-4c5e-8321-6a70d347706b/kpts.pickle \\\n    --arg_pseudopotentials=/tmp/dsu142t1/stg47b4b44d-c69c-4629-aaed-0e15bf14426e/pseudopotentials.pickle \\\n    --arg_structure=/tmp/dsu142t1/stg0e5b3c6e-a315-4eaf-9a66-dbf5669eaada/s_0.pickle\n\u001B[1;30mINFO\u001B[0m [job get_dict_20] completed success\n\u001B[1;30mINFO\u001B[0m [step get_dict_20] completed success\n\u001B[1;30mINFO\u001B[0m [workflow ] starting step get_dict_23\n\u001B[1;30mINFO\u001B[0m [step get_dict_23] start\n\u001B[1;30mINFO\u001B[0m [job get_dict_23] /tmp/9v59c4vd$ python \\\n    -m \\\n    python_workflow_definition.cwl \\\n    --function=python_workflow_definition.shared.get_dict \\\n    --arg_smearing=/tmp/2mc_byfs/stgace4b178-c0ff-406e-95ac-754318766886/smearing.pickle \\\n    --arg_calculation=/tmp/2mc_byfs/stg793df1d8-8f8d-4bb3-9c7c-243a48dc494b/calculation_1.pickle \\\n    --arg_kpts=/tmp/2mc_byfs/stga852e76a-885f-4e39-8ab4-ecebf95c656f/kpts.pickle \\\n    --arg_pseudopotentials=/tmp/2mc_byfs/stgd06acdff-6e0c-476c-be57-1f21b2d03711/pseudopotentials.pickle \\\n    --arg_structure=/tmp/2mc_byfs/stg02210df5-d3e2-42b8-a75e-47e2f2c9f274/s_1.pickle\n\u001B[1;30mINFO\u001B[0m [job get_dict_23] completed success\n\u001B[1;30mINFO\u001B[0m [step get_dict_23] completed success\n\u001B[1;30mINFO\u001B[0m [workflow ] starting step get_dict_29\n\u001B[1;30mINFO\u001B[0m [step get_dict_29] start\n\u001B[1;30mINFO\u001B[0m [job get_dict_29] /tmp/q_svsf9g$ python \\\n    -m \\\n    python_workflow_definition.cwl \\\n    --function=python_workflow_definition.shared.get_dict \\\n    --arg_smearing=/tmp/8u8e7db4/stgbba611dc-3b23-4653-a293-f71d492a42af/smearing.pickle \\\n    --arg_calculation=/tmp/8u8e7db4/stge9a32972-6649-4eb5-abd7-9db61d929d2d/calculation_1.pickle \\\n    --arg_kpts=/tmp/8u8e7db4/stg02098ea5-7487-4a66-bb77-99a6336d7b71/kpts.pickle \\\n    --arg_pseudopotentials=/tmp/8u8e7db4/stg571b6259-4599-4c39-8cb2-79a70feb78b8/pseudopotentials.pickle \\\n    --arg_structure=/tmp/8u8e7db4/stg64c55a4d-8af6-40bf-abfd-3ec8a690b90b/s_4.pickle\n\u001B[1;30mINFO\u001B[0m [job get_dict_29] completed success\n\u001B[1;30mINFO\u001B[0m [step get_dict_29] completed success\n\u001B[1;30mINFO\u001B[0m [workflow ] starting step get_dict_27\n\u001B[1;30mINFO\u001B[0m [step get_dict_27] start\n\u001B[1;30mINFO\u001B[0m [job get_dict_27] /tmp/vgcwzb84$ python \\\n    -m \\\n    python_workflow_definition.cwl \\\n    --function=python_workflow_definition.shared.get_dict \\\n    --arg_smearing=/tmp/xf32x1ld/stg3cbb6408-2383-49d0-9476-ef3fbee7c165/smearing.pickle \\\n    --arg_calculation=/tmp/xf32x1ld/stgeb36ed3b-b442-43ea-b14d-1397875e8839/calculation_1.pickle \\\n    --arg_kpts=/tmp/xf32x1ld/stge8854d32-32f3-4a90-8e66-8ce7b1160d8d/kpts.pickle \\\n    --arg_pseudopotentials=/tmp/xf32x1ld/stg0dba3c44-e6af-46a9-9f00-c08969392ede/pseudopotentials.pickle \\\n    --arg_structure=/tmp/xf32x1ld/stg4223a500-1f85-4651-9130-bd1629008770/s_3.pickle\n\u001B[1;30mINFO\u001B[0m [job get_dict_27] completed success\n\u001B[1;30mINFO\u001B[0m [step get_dict_27] completed success\n\u001B[1;30mINFO\u001B[0m [workflow ] starting step calculate_qe_3\n\u001B[1;30mINFO\u001B[0m [step calculate_qe_3] start\n\u001B[1;30mINFO\u001B[0m [job calculate_qe_3] /tmp/v2e_84tz$ python \\\n    -m \\\n    python_workflow_definition.cwl \\\n    --workflowfile=/tmp/n81xp6_a/stgf98a9803-3329-400e-a03c-02b51d3f3c97/workflow.py \\\n    --function=workflow.calculate_qe \\\n    --arg_input_dict=/tmp/n81xp6_a/stgd93a737b-2598-4fb8-bdcb-bb1d2048116f/result.pickle \\\n    --arg_working_directory=/tmp/n81xp6_a/stg5ad2a52b-2844-45e4-b227-3d835efa01f6/working_directory_1.pickle\n[jupyter-pythonworkflow-fl--x---d7231032:09459] mca_base_component_repository_open: unable to open mca_btl_openib: librdmacm.so.1: cannot open shared object file: No such file or directory (ignored)\nNote: The following floating-point exceptions are signalling: IEEE_INVALID_FLAG\n\u001B[1;30mINFO\u001B[0m [job calculate_qe_3] Max memory used: 240MiB\n\u001B[1;30mINFO\u001B[0m [job calculate_qe_3] completed success\n\u001B[1;30mINFO\u001B[0m [step calculate_qe_3] completed success\n\u001B[1;30mINFO\u001B[0m [workflow ] starting step calculate_qe_4\n\u001B[1;30mINFO\u001B[0m [step calculate_qe_4] start\n\u001B[1;30mINFO\u001B[0m [job calculate_qe_4] /tmp/tgwdkhxx$ python \\\n    -m \\\n    python_workflow_definition.cwl \\\n    --workflowfile=/tmp/l5mihx97/stgf73a20aa-bd97-46af-a923-b8d776da2b98/workflow.py \\\n    --function=workflow.calculate_qe \\\n    --arg_input_dict=/tmp/l5mihx97/stgb8c3fcbe-9277-46c4-b8a2-a1171a292580/result.pickle \\\n    --arg_working_directory=/tmp/l5mihx97/stg3ae0b93a-2e0b-4f1b-b079-985ea6bbaa72/working_directory_2.pickle\n[jupyter-pythonworkflow-fl--x---d7231032:09533] mca_base_component_repository_open: unable to open mca_btl_openib: librdmacm.so.1: cannot open shared object file: No such file or directory (ignored)\nNote: The following floating-point exceptions are signalling: IEEE_INVALID_FLAG\n\u001B[1;30mINFO\u001B[0m [job calculate_qe_4] Max memory used: 213MiB\n\u001B[1;30mINFO\u001B[0m [job calculate_qe_4] completed success\n\u001B[1;30mINFO\u001B[0m [step calculate_qe_4] completed success\n\u001B[1;30mINFO\u001B[0m [workflow ] starting step calculate_qe_5\n\u001B[1;30mINFO\u001B[0m [step calculate_qe_5] start\n\u001B[1;30mINFO\u001B[0m [job calculate_qe_5] /tmp/d36x49f6$ python \\\n    -m \\\n    python_workflow_definition.cwl \\\n    --workflowfile=/tmp/nvm7fsf5/stg384bab04-833c-43f2-bd00-f4b5a5c93eec/workflow.py \\\n    --function=workflow.calculate_qe \\\n    --arg_input_dict=/tmp/nvm7fsf5/stg9aa51e21-01b0-4157-b73f-a3feee8a917a/result.pickle \\\n    --arg_working_directory=/tmp/nvm7fsf5/stg02ef6345-c598-4127-95c7-e92d0a977c40/working_directory_3.pickle\n[jupyter-pythonworkflow-fl--x---d7231032:09611] mca_base_component_repository_open: unable to open mca_btl_openib: librdmacm.so.1: cannot open shared object file: No such file or directory (ignored)\nNote: The following floating-point exceptions are signalling: IEEE_INVALID_FLAG\n\u001B[1;30mINFO\u001B[0m [job calculate_qe_5] Max memory used: 243MiB\n\u001B[1;30mINFO\u001B[0m [job calculate_qe_5] completed success\n\u001B[1;30mINFO\u001B[0m [step calculate_qe_5] completed success\n\u001B[1;30mINFO\u001B[0m [workflow ] starting step calculate_qe_6\n\u001B[1;30mINFO\u001B[0m [step calculate_qe_6] start\n\u001B[1;30mINFO\u001B[0m [job calculate_qe_6] /tmp/eiyg8it6$ python \\\n    -m \\\n    python_workflow_definition.cwl \\\n    --workflowfile=/tmp/708xmf3f/stg791b1717-cfb1-4569-ba75-d648a84e0a72/workflow.py \\\n    --function=workflow.calculate_qe \\\n    --arg_input_dict=/tmp/708xmf3f/stg9ebf7054-080c-4173-a8b9-2247d01a0068/result.pickle \\\n    --arg_working_directory=/tmp/708xmf3f/stg1afccee5-d9b6-46ed-bc2c-fa36bdb8013d/working_directory_4.pickle\n[jupyter-pythonworkflow-fl--x---d7231032:09688] mca_base_component_repository_open: unable to open mca_btl_openib: librdmacm.so.1: cannot open shared object file: No such file or directory (ignored)\nNote: The following floating-point exceptions are signalling: IEEE_INVALID_FLAG\n\u001B[1;30mINFO\u001B[0m [job calculate_qe_6] Max memory used: 245MiB\n\u001B[1;30mINFO\u001B[0m [job calculate_qe_6] completed success\n\u001B[1;30mINFO\u001B[0m [step calculate_qe_6] completed success\n\u001B[1;30mINFO\u001B[0m [workflow ] starting step calculate_qe_7\n\u001B[1;30mINFO\u001B[0m [step calculate_qe_7] start\n\u001B[1;30mINFO\u001B[0m [job calculate_qe_7] /tmp/qjgxwxnd$ python \\\n    -m \\\n    python_workflow_definition.cwl \\\n    --workflowfile=/tmp/g3sp392q/stg0a51a8da-c7a7-4d90-a49c-1817002a62a6/workflow.py \\\n    --function=workflow.calculate_qe \\\n    --arg_input_dict=/tmp/g3sp392q/stg67e73a60-3cc6-46dd-b009-cfc0034aec2c/result.pickle \\\n    --arg_working_directory=/tmp/g3sp392q/stgf3d265db-820b-4af3-8975-0a6faa0d7a67/working_directory_5.pickle\n[jupyter-pythonworkflow-fl--x---d7231032:09770] mca_base_component_repository_open: unable to open mca_btl_openib: librdmacm.so.1: cannot open shared object file: No such file or directory (ignored)\nNote: The following floating-point exceptions are signalling: IEEE_INVALID_FLAG\n\u001B[1;30mINFO\u001B[0m [job calculate_qe_7] Max memory used: 244MiB\n\u001B[1;30mINFO\u001B[0m [job calculate_qe_7] completed success\n\u001B[1;30mINFO\u001B[0m [step calculate_qe_7] completed success\n\u001B[1;30mINFO\u001B[0m [workflow ] starting step get_list_31\n\u001B[1;30mINFO\u001B[0m [step get_list_31] start\n\u001B[1;30mINFO\u001B[0m [job get_list_31] /tmp/mnovytq_$ python \\\n    -m \\\n    python_workflow_definition.cwl \\\n    --function=python_workflow_definition.shared.get_list \\\n    --arg_0=/tmp/bz0ntajx/stgdab2f59b-b118-44c4-96ef-b4639edaee4e/energy.pickle \\\n    --arg_2=/tmp/bz0ntajx/stg2e9bec4d-1824-4152-b003-aab0eac204cd/energy.pickle \\\n    --arg_1=/tmp/bz0ntajx/stg9511563e-9784-48a9-8d81-74ade3a084c1/energy.pickle \\\n    --arg_4=/tmp/bz0ntajx/stg17845efd-e335-421e-9891-6e627254edb4/energy.pickle \\\n    --arg_3=/tmp/bz0ntajx/stg051fa3bc-832a-4d70-b9fb-b9948f51904d/energy.pickle\n\u001B[1;30mINFO\u001B[0m [job get_list_31] completed success\n\u001B[1;30mINFO\u001B[0m [step get_list_31] completed success\n\u001B[1;30mINFO\u001B[0m [workflow ] starting step get_list_30\n\u001B[1;30mINFO\u001B[0m [step get_list_30] start\n\u001B[1;30mINFO\u001B[0m [job get_list_30] /tmp/vc0dzppy$ python \\\n    -m \\\n    python_workflow_definition.cwl \\\n    --function=python_workflow_definition.shared.get_list \\\n    --arg_0=/tmp/mejux8b1/stg71e3a6a9-c56b-4be8-8720-0ca90ac40513/volume.pickle \\\n    --arg_2=/tmp/mejux8b1/stg429d498d-cf56-4561-a653-8048c1213851/volume.pickle \\\n    --arg_1=/tmp/mejux8b1/stgee1a0001-20f2-45de-ac4e-77b0d0c59957/volume.pickle \\\n    --arg_4=/tmp/mejux8b1/stg0de2a6dc-57cd-4a0c-9637-ef2e63e96fce/volume.pickle \\\n    --arg_3=/tmp/mejux8b1/stga4551f25-d5f6-47c6-92ea-452cf694a286/volume.pickle\n\u001B[1;30mINFO\u001B[0m [job get_list_30] completed success\n\u001B[1;30mINFO\u001B[0m [step get_list_30] completed success\n\u001B[1;30mINFO\u001B[0m [workflow ] starting step plot_energy_volume_curve_8\n\u001B[1;30mINFO\u001B[0m [step plot_energy_volume_curve_8] start\n\u001B[1;30mINFO\u001B[0m [job plot_energy_volume_curve_8] /tmp/j4v3j3mt$ python \\\n    -m \\\n    python_workflow_definition.cwl \\\n    --workflowfile=/tmp/_67k4bu3/stg5be48d76-8a92-4b02-b3d6-7bdb4c35c9ce/workflow.py \\\n    --function=workflow.plot_energy_volume_curve \\\n    --arg_volume_lst=/tmp/_67k4bu3/stgd43e71b0-d16b-4eb2-8d14-83924dafd7d6/result.pickle \\\n    --arg_energy_lst=/tmp/_67k4bu3/stg43eeacdd-5042-4f2d-8efc-d8e0d5fe1c14/result.pickle\n\u001B[1;30mINFO\u001B[0m [job plot_energy_volume_curve_8] Max memory used: 112MiB\n\u001B[1;30mINFO\u001B[0m [job plot_energy_volume_curve_8] completed success\n\u001B[1;30mINFO\u001B[0m [step plot_energy_volume_curve_8] completed success\n\u001B[1;30mINFO\u001B[0m [workflow ] completed success\n{\n    \"result_file\": {\n        \"location\": \"file:///home/jovyan/example_workflows/quantum_espresso/result.pickle\",\n        \"basename\": \"result.pickle\",\n        \"class\": \"File\",\n        \"checksum\": \"sha1$dbc1aaddc8b7343d6d33b34edcf608b8f8801918\",\n        \"size\": 4,\n        \"path\": \"/home/jovyan/example_workflows/quantum_espresso/result.pickle\"\n    }\n}\u001B[1;30mINFO\u001B[0m Final process status is success\n"
    }
   ],
   "execution_count": 6
  },
  {
   "id": "2942dbba-ea0a-4d20-be5c-ed9992d09ff8",
   "cell_type": "code",
   "source": "with open(\"result.pickle\", \"rb\") as f:\n    print(pickle.load(f))",
   "metadata": {
    "trusted": true
   },
   "outputs": [
    {
     "name": "stdout",
     "output_type": "stream",
     "text": "None\n"
    }
   ],
   "execution_count": 7
  },
  {
   "id": "60e909ee-d0d0-4bd1-81c8-dd5274ae5834",
   "cell_type": "code",
   "source": "",
   "metadata": {
    "trusted": true
   },
   "outputs": [],
   "execution_count": null
  }
 ]
}
