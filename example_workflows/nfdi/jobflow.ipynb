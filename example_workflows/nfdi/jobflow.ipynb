{
 "metadata": {
  "kernelspec": {
   "display_name": "Python 3 (ipykernel)",
   "language": "python",
   "name": "python3"
  },
  "language_info": {
   "name": "python",
   "version": "3.12.8",
   "mimetype": "text/x-python",
   "codemirror_mode": {
    "name": "ipython",
    "version": 3
   },
   "pygments_lexer": "ipython3",
   "nbconvert_exporter": "python",
   "file_extension": ".py"
  }
 },
 "nbformat_minor": 5,
 "nbformat": 4,
 "cells": [
  {
   "id": "048b53d1-db08-44ff-84cc-a4ff50032944",
   "cell_type": "markdown",
   "source": "# jobflow",
   "metadata": {}
  },
  {
   "id": "106ded66-d202-46ac-82b0-2755ca309bdd",
   "cell_type": "markdown",
   "source": "https://github.com/BAMresearch/NFDI4IngScientificWorkflowRequirements",
   "metadata": {}
  },
  {
   "id": "856b2ba2-93d5-4516-93e1-a1eac49c48f2",
   "cell_type": "markdown",
   "source": "## Define workflow with jobflow",
   "metadata": {}
  },
  {
   "id": "43d5c810-a701-4971-8534-56dcbd112716",
   "cell_type": "code",
   "source": "import os",
   "metadata": {
    "trusted": true
   },
   "outputs": [],
   "execution_count": 1
  },
  {
   "id": "89c02460-b543-442c-a27e-f1757dc2262e",
   "cell_type": "code",
   "source": "from jobflow import job, Flow\n\nfrom python_workflow_definition.jobflow import write_workflow_json",
   "metadata": {
    "trusted": true
   },
   "outputs": [],
   "execution_count": 2
  },
  {
   "id": "864f048d78ea3f08",
   "cell_type": "code",
   "source": "from workflow import (\n    generate_mesh as _generate_mesh, \n    convert_to_xdmf as _convert_to_xdmf,\n    poisson as _poisson,\n    plot_over_line as _plot_over_line,\n    substitute_macros as _substitute_macros,\n    compile_paper as _compile_paper,\n)",
   "metadata": {
    "trusted": true
   },
   "outputs": [],
   "execution_count": 3
  },
  {
   "id": "147b81b7b494ceda",
   "cell_type": "code",
   "source": "generate_mesh = job(_generate_mesh)\nconvert_to_xdmf = job(_convert_to_xdmf)\npoisson = job(_poisson)\nplot_over_line = job(_plot_over_line)\nsubstitute_macros = job(_substitute_macros)\ncompile_paper = job(_compile_paper)",
   "metadata": {
    "trusted": true
   },
   "outputs": [],
   "execution_count": 4
  },
  {
   "id": "981e548b-a3b4-49a3-9653-85e90f05c60e",
   "cell_type": "code",
   "source": "source_directory = os.path.abspath(os.path.join(os.curdir, \"source\"))",
   "metadata": {
    "trusted": true
   },
   "outputs": [],
   "execution_count": 5
  },
  {
   "id": "8d911f98-3b80-457f-a0f4-3cb37ebf1691",
   "cell_type": "code",
   "source": "domain_size = 2.0",
   "metadata": {
    "trusted": true
   },
   "outputs": [],
   "execution_count": 6
  },
  {
   "id": "71d411b6-cbec-489e-99e3-ba71680bcb5b",
   "cell_type": "code",
   "source": "gmsh_output_file = generate_mesh(\n    domain_size=domain_size,\n    source_directory=source_directory,\n)",
   "metadata": {
    "tags": [],
    "trusted": true
   },
   "outputs": [],
   "execution_count": 7
  },
  {
   "id": "1d0d9804-f250-48b3-a5d0-a546d520f79b",
   "cell_type": "code",
   "source": "meshio_output_dict = convert_to_xdmf(\n    gmsh_output_file=gmsh_output_file.output,\n)",
   "metadata": {
    "tags": [],
    "trusted": true
   },
   "outputs": [],
   "execution_count": 8
  },
  {
   "id": "7b69bcff-e2b1-4d4a-b62c-6a1c86eeb590",
   "cell_type": "code",
   "source": "poisson_dict = poisson(\n    meshio_output_xdmf=meshio_output_dict.output.xdmf_file, \n    meshio_output_h5=meshio_output_dict.output.h5_file,\n    source_directory=source_directory,\n)",
   "metadata": {
    "tags": [],
    "trusted": true
   },
   "outputs": [],
   "execution_count": 9
  },
  {
   "id": "3c4a29b0-eb1e-490a-8be0-e03cfff15e0a",
   "cell_type": "code",
   "source": "pvbatch_output_file = plot_over_line(\n    poisson_output_pvd_file=poisson_dict.output.pvd_file, \n    poisson_output_vtu_file=poisson_dict.output.vtu_file,\n    source_directory=source_directory,\n)",
   "metadata": {
    "tags": [],
    "trusted": true
   },
   "outputs": [],
   "execution_count": 10
  },
  {
   "id": "a0a4c233-322d-4723-9627-62ca2487bfa9",
   "cell_type": "code",
   "source": "macros_tex_file = substitute_macros( \n    pvbatch_output_file=pvbatch_output_file.output, \n    ndofs=poisson_dict.output.numdofs, \n    domain_size=domain_size,\n    source_directory=source_directory,\n)",
   "metadata": {
    "tags": [],
    "trusted": true
   },
   "outputs": [],
   "execution_count": 11
  },
  {
   "id": "c281408f-e63d-4380-a7e6-c595d49fbb8f",
   "cell_type": "code",
   "source": "paper_output = compile_paper(\n    macros_tex=macros_tex_file.output, \n    plot_file=pvbatch_output_file.output,\n    source_directory=source_directory,\n)",
   "metadata": {
    "trusted": true
   },
   "outputs": [],
   "execution_count": 12
  },
  {
   "id": "a384d70a-8ef5-4fdd-880c-56ac7eaf87b9",
   "cell_type": "code",
   "source": "flow = Flow([gmsh_output_file, meshio_output_dict, poisson_dict, pvbatch_output_file, macros_tex_file, paper_output])",
   "metadata": {
    "trusted": true
   },
   "outputs": [],
   "execution_count": 13
  },
  {
   "id": "fb23ad9c-76fd-4c0b-b546-e305d6c49796",
   "cell_type": "code",
   "source": "workflow_json_filename = \"jobflow_nfdi.json\"",
   "metadata": {
    "trusted": true
   },
   "outputs": [],
   "execution_count": 14
  },
  {
   "id": "4139547a-9717-4708-b1a5-8202a0382d77",
   "cell_type": "code",
   "source": "write_workflow_json(flow=flow, file_name=workflow_json_filename)",
   "metadata": {
    "trusted": true
   },
   "outputs": [],
   "execution_count": 15
  },
  {
   "id": "11a829e2-face-469f-b343-2c95763b1f13",
   "cell_type": "markdown",
   "source": "## Load Workflow with aiida",
   "metadata": {}
  },
  {
   "id": "4f3acabe-55df-479a-af4d-a23a80c4660d",
   "cell_type": "code",
   "source": "from aiida import load_profile\n\nload_profile()",
   "metadata": {
    "trusted": true
   },
   "outputs": [
    {
     "execution_count": 16,
     "output_type": "execute_result",
     "data": {
      "text/plain": "Profile<uuid='3ce302a995914d2e8a7b6327a10fe381' name='pwd'>"
     },
     "metadata": {}
    }
   ],
   "execution_count": 16
  },
  {
   "id": "b6ba9444-a2c8-451b-b74c-19b0f69ba369",
   "cell_type": "code",
   "source": "from python_workflow_definition.aiida import load_workflow_json",
   "metadata": {
    "trusted": true
   },
   "outputs": [],
   "execution_count": 17
  },
  {
   "id": "c3528d55-6bf7-47ed-a110-65c47446ba92",
   "cell_type": "code",
   "source": "wg = load_workflow_json(file_name=workflow_json_filename)\nwg",
   "metadata": {
    "trusted": true
   },
   "outputs": [
    {
     "execution_count": 18,
     "output_type": "execute_result",
     "data": {
      "text/plain": "NodeGraphWidget(settings={'minimap': True}, style={'width': '90%', 'height': '600px'}, value={'name': 'WorkGra…",
      "application/vnd.jupyter.widget-view+json": {
       "version_major": 2,
       "version_minor": 1,
       "model_id": "47a0a80d777f424aa98a551c4cbe7e1e"
      }
     },
     "metadata": {}
    }
   ],
   "execution_count": 18
  },
  {
   "id": "5ef48778-4209-425f-8c6b-85a4cd2f92ec",
   "cell_type": "code",
   "source": "wg.run()",
   "metadata": {
    "trusted": true
   },
   "outputs": [
    {
     "name": "stderr",
     "output_type": "stream",
     "text": "05/24/2025 05:44:19 AM <3034> aiida.orm.nodes.process.workflow.workchain.WorkChainNode: [REPORT] [51|WorkGraphEngine|continue_workgraph]: tasks ready to run: generate_mesh1\n05/24/2025 05:44:21 AM <3034> aiida.orm.nodes.process.workflow.workchain.WorkChainNode: [REPORT] [51|WorkGraphEngine|update_task_state]: Task: generate_mesh1, type: PyFunction, finished.\n05/24/2025 05:44:21 AM <3034> aiida.orm.nodes.process.workflow.workchain.WorkChainNode: [REPORT] [51|WorkGraphEngine|continue_workgraph]: tasks ready to run: convert_to_xdmf2\n05/24/2025 05:44:22 AM <3034> aiida.orm.nodes.process.workflow.workchain.WorkChainNode: [REPORT] [51|WorkGraphEngine|update_task_state]: Task: convert_to_xdmf2, type: PyFunction, finished.\n05/24/2025 05:44:22 AM <3034> aiida.orm.nodes.process.workflow.workchain.WorkChainNode: [REPORT] [51|WorkGraphEngine|continue_workgraph]: tasks ready to run: poisson3\n05/24/2025 05:44:25 AM <3034> aiida.orm.nodes.process.workflow.workchain.WorkChainNode: [REPORT] [51|WorkGraphEngine|update_task_state]: Task: poisson3, type: PyFunction, finished.\n05/24/2025 05:44:25 AM <3034> aiida.orm.nodes.process.workflow.workchain.WorkChainNode: [REPORT] [51|WorkGraphEngine|continue_workgraph]: tasks ready to run: plot_over_line4\n05/24/2025 05:44:27 AM <3034> aiida.orm.nodes.process.workflow.workchain.WorkChainNode: [REPORT] [51|WorkGraphEngine|update_task_state]: Task: plot_over_line4, type: PyFunction, finished.\n05/24/2025 05:44:27 AM <3034> aiida.orm.nodes.process.workflow.workchain.WorkChainNode: [REPORT] [51|WorkGraphEngine|continue_workgraph]: tasks ready to run: substitute_macros5\n05/24/2025 05:44:29 AM <3034> aiida.orm.nodes.process.workflow.workchain.WorkChainNode: [REPORT] [51|WorkGraphEngine|update_task_state]: Task: substitute_macros5, type: PyFunction, finished.\n05/24/2025 05:44:29 AM <3034> aiida.orm.nodes.process.workflow.workchain.WorkChainNode: [REPORT] [51|WorkGraphEngine|continue_workgraph]: tasks ready to run: compile_paper6\n05/24/2025 05:44:31 AM <3034> aiida.orm.nodes.process.workflow.workchain.WorkChainNode: [REPORT] [51|WorkGraphEngine|update_task_state]: Task: compile_paper6, type: PyFunction, finished.\n05/24/2025 05:44:31 AM <3034> aiida.orm.nodes.process.workflow.workchain.WorkChainNode: [REPORT] [51|WorkGraphEngine|continue_workgraph]: tasks ready to run: \n05/24/2025 05:44:31 AM <3034> aiida.orm.nodes.process.workflow.workchain.WorkChainNode: [REPORT] [51|WorkGraphEngine|finalize]: Finalize workgraph.\n"
    }
   ],
   "execution_count": 19
  },
  {
   "id": "397b16a2-e1ec-4eec-8562-1c84f585c347",
   "cell_type": "markdown",
   "source": "## Load Workflow with pyiron_base",
   "metadata": {}
  },
  {
   "id": "be4d5d93-e9f6-4072-a6be-0ee5dc93590f",
   "cell_type": "code",
   "source": "from python_workflow_definition.pyiron_base import load_workflow_json",
   "metadata": {
    "trusted": true
   },
   "outputs": [],
   "execution_count": 20
  },
  {
   "id": "4452a648-d4c3-4f5f-8678-ffb54bef17dc",
   "cell_type": "code",
   "source": "delayed_object_lst = load_workflow_json(file_name=workflow_json_filename)\ndelayed_object_lst[-1].draw()",
   "metadata": {
    "trusted": true
   },
   "outputs": [
    {
     "output_type": "display_data",
     "data": {
      "text/plain": "<IPython.core.display.SVG object>",
      "image/svg+xml": "<svg xmlns=\"http://www.w3.org/2000/svg\" xmlns:xlink=\"http://www.w3.org/1999/xlink\" width=\"3266pt\" height=\"476pt\" viewBox=\"0.00 0.00 3265.99 476.00\">\n<g id=\"graph0\" class=\"graph\" transform=\"scale(1 1) rotate(0) translate(4 472)\">\n<polygon fill=\"white\" stroke=\"none\" points=\"-4,4 -4,-472 3261.99,-472 3261.99,4 -4,4\"/>\n<!-- create_function_job_724cfd00ffeb70f8b463a938195e0447 -->\n<g id=\"node1\" class=\"node\">\n<title>create_function_job_724cfd00ffeb70f8b463a938195e0447</title>\n<ellipse fill=\"none\" stroke=\"black\" cx=\"2502\" cy=\"-18\" rx=\"487.88\" ry=\"18\"/>\n<text text-anchor=\"middle\" x=\"2502\" y=\"-13.32\" font-family=\"Times,serif\" font-size=\"14.00\">create_function_job=&lt;pyiron_base.project.delayed.DelayedObject object at 0x7da7483b9b80&gt;</text>\n</g>\n<!-- macros_tex_b52804e5fa845b3657fa99b738e02cf7 -->\n<g id=\"node2\" class=\"node\">\n<title>macros_tex_b52804e5fa845b3657fa99b738e02cf7</title>\n<ellipse fill=\"none\" stroke=\"black\" cx=\"1567\" cy=\"-90\" rx=\"447.37\" ry=\"18\"/>\n<text text-anchor=\"middle\" x=\"1567\" y=\"-85.33\" font-family=\"Times,serif\" font-size=\"14.00\">macros_tex=&lt;pyiron_base.project.delayed.DelayedObject object at 0x7da7483b9910&gt;</text>\n</g>\n<!-- macros_tex_b52804e5fa845b3657fa99b738e02cf7&#45;&gt;create_function_job_724cfd00ffeb70f8b463a938195e0447 -->\n<g id=\"edge1\" class=\"edge\">\n<title>macros_tex_b52804e5fa845b3657fa99b738e02cf7-&gt;create_function_job_724cfd00ffeb70f8b463a938195e0447</title>\n<path fill=\"none\" stroke=\"black\" d=\"M1772.77,-73.59C1923.18,-62.33 2126.93,-47.08 2280.83,-35.56\"/>\n<polygon fill=\"black\" stroke=\"black\" points=\"2281.07,-39.05 2290.78,-34.81 2280.54,-32.07 2281.07,-39.05\"/>\n</g>\n<!-- pvbatch_output_file_554a54a50a86b23416c0daf6ab0938df -->\n<g id=\"node3\" class=\"node\">\n<title>pvbatch_output_file_554a54a50a86b23416c0daf6ab0938df</title>\n<ellipse fill=\"none\" stroke=\"black\" cx=\"1567\" cy=\"-162\" rx=\"487.88\" ry=\"18\"/>\n<text text-anchor=\"middle\" x=\"1567\" y=\"-157.32\" font-family=\"Times,serif\" font-size=\"14.00\">pvbatch_output_file=&lt;pyiron_base.project.delayed.DelayedObject object at 0x7da7483b95e0&gt;</text>\n</g>\n<!-- pvbatch_output_file_554a54a50a86b23416c0daf6ab0938df&#45;&gt;macros_tex_b52804e5fa845b3657fa99b738e02cf7 -->\n<g id=\"edge2\" class=\"edge\">\n<title>pvbatch_output_file_554a54a50a86b23416c0daf6ab0938df-&gt;macros_tex_b52804e5fa845b3657fa99b738e02cf7</title>\n<path fill=\"none\" stroke=\"black\" d=\"M1567,-143.7C1567,-136.41 1567,-127.73 1567,-119.54\"/>\n<polygon fill=\"black\" stroke=\"black\" points=\"1570.5,-119.62 1567,-109.62 1563.5,-119.62 1570.5,-119.62\"/>\n</g>\n<!-- poisson_output_pvd_file_50ce5e5ed091c2b7a77b69e1c1750ad9 -->\n<g id=\"node4\" class=\"node\">\n<title>poisson_output_pvd_file_50ce5e5ed091c2b7a77b69e1c1750ad9</title>\n<ellipse fill=\"none\" stroke=\"black\" cx=\"2424\" cy=\"-234\" rx=\"509.45\" ry=\"18\"/>\n<text text-anchor=\"middle\" x=\"2424\" y=\"-229.32\" font-family=\"Times,serif\" font-size=\"14.00\">poisson_output_pvd_file=&lt;pyiron_base.project.delayed.DelayedObject object at 0x7da7483b9280&gt;</text>\n</g>\n<!-- poisson_output_pvd_file_50ce5e5ed091c2b7a77b69e1c1750ad9&#45;&gt;pvbatch_output_file_554a54a50a86b23416c0daf6ab0938df -->\n<g id=\"edge3\" class=\"edge\">\n<title>poisson_output_pvd_file_50ce5e5ed091c2b7a77b69e1c1750ad9-&gt;pvbatch_output_file_554a54a50a86b23416c0daf6ab0938df</title>\n<path fill=\"none\" stroke=\"black\" d=\"M2227.39,-216.94C2091.58,-205.85 1911.32,-191.12 1773.44,-179.86\"/>\n<polygon fill=\"black\" stroke=\"black\" points=\"1774.09,-176.4 1763.84,-179.08 1773.52,-183.38 1774.09,-176.4\"/>\n</g>\n<!-- plot_file_554a54a50a86b23416c0daf6ab0938df -->\n<g id=\"node5\" class=\"node\">\n<title>plot_file_554a54a50a86b23416c0daf6ab0938df</title>\n<ellipse fill=\"none\" stroke=\"black\" cx=\"2502\" cy=\"-162\" rx=\"429.48\" ry=\"18\"/>\n<text text-anchor=\"middle\" x=\"2502\" y=\"-157.32\" font-family=\"Times,serif\" font-size=\"14.00\">plot_file=&lt;pyiron_base.project.delayed.DelayedObject object at 0x7da7483b95e0&gt;</text>\n</g>\n<!-- poisson_output_pvd_file_50ce5e5ed091c2b7a77b69e1c1750ad9&#45;&gt;plot_file_554a54a50a86b23416c0daf6ab0938df -->\n<g id=\"edge4\" class=\"edge\">\n<title>poisson_output_pvd_file_50ce5e5ed091c2b7a77b69e1c1750ad9-&gt;plot_file_554a54a50a86b23416c0daf6ab0938df</title>\n<path fill=\"none\" stroke=\"black\" d=\"M2443.28,-215.7C2452.66,-207.28 2464.09,-197.02 2474.38,-187.79\"/>\n<polygon fill=\"black\" stroke=\"black\" points=\"2476.44,-190.64 2481.54,-181.36 2471.76,-185.43 2476.44,-190.64\"/>\n</g>\n<!-- plot_file_554a54a50a86b23416c0daf6ab0938df&#45;&gt;create_function_job_724cfd00ffeb70f8b463a938195e0447 -->\n<g id=\"edge26\" class=\"edge\">\n<title>plot_file_554a54a50a86b23416c0daf6ab0938df-&gt;create_function_job_724cfd00ffeb70f8b463a938195e0447</title>\n<path fill=\"none\" stroke=\"black\" d=\"M2502,-143.59C2502,-119.61 2502,-76.14 2502,-47.42\"/>\n<polygon fill=\"black\" stroke=\"black\" points=\"2505.5,-47.62 2502,-37.62 2498.5,-47.62 2505.5,-47.62\"/>\n</g>\n<!-- meshio_output_xdmf_52103bbf2f92608bdb3c6bedb045e0e1 -->\n<g id=\"node6\" class=\"node\">\n<title>meshio_output_xdmf_52103bbf2f92608bdb3c6bedb045e0e1</title>\n<ellipse fill=\"none\" stroke=\"black\" cx=\"1201\" cy=\"-306\" rx=\"493.67\" ry=\"18\"/>\n<text text-anchor=\"middle\" x=\"1201\" y=\"-301.32\" font-family=\"Times,serif\" font-size=\"14.00\">meshio_output_xdmf=&lt;pyiron_base.project.delayed.DelayedObject object at 0x7da7483b8e90&gt;</text>\n</g>\n<!-- meshio_output_xdmf_52103bbf2f92608bdb3c6bedb045e0e1&#45;&gt;poisson_output_pvd_file_50ce5e5ed091c2b7a77b69e1c1750ad9 -->\n<g id=\"edge5\" class=\"edge\">\n<title>meshio_output_xdmf_52103bbf2f92608bdb3c6bedb045e0e1-&gt;poisson_output_pvd_file_50ce5e5ed091c2b7a77b69e1c1750ad9</title>\n<path fill=\"none\" stroke=\"black\" d=\"M1458.87,-290.24C1662.31,-278.6 1945.3,-262.4 2152.24,-250.55\"/>\n<polygon fill=\"black\" stroke=\"black\" points=\"2152.29,-254.06 2162.07,-249.99 2151.89,-247.07 2152.29,-254.06\"/>\n</g>\n<!-- poisson_output_vtu_file_fdcc35c5e09c1b2a481c5350749d9810 -->\n<g id=\"node7\" class=\"node\">\n<title>poisson_output_vtu_file_fdcc35c5e09c1b2a481c5350749d9810</title>\n<ellipse fill=\"none\" stroke=\"black\" cx=\"1389\" cy=\"-234\" rx=\"507.35\" ry=\"18\"/>\n<text text-anchor=\"middle\" x=\"1389\" y=\"-229.32\" font-family=\"Times,serif\" font-size=\"14.00\">poisson_output_vtu_file=&lt;pyiron_base.project.delayed.DelayedObject object at 0x7da7483b9250&gt;</text>\n</g>\n<!-- meshio_output_xdmf_52103bbf2f92608bdb3c6bedb045e0e1&#45;&gt;poisson_output_vtu_file_fdcc35c5e09c1b2a481c5350749d9810 -->\n<g id=\"edge6\" class=\"edge\">\n<title>meshio_output_xdmf_52103bbf2f92608bdb3c6bedb045e0e1-&gt;poisson_output_vtu_file_fdcc35c5e09c1b2a481c5350749d9810</title>\n<path fill=\"none\" stroke=\"black\" d=\"M1247.47,-287.7C1273.01,-278.19 1304.89,-266.32 1331.93,-256.25\"/>\n<polygon fill=\"black\" stroke=\"black\" points=\"1332.84,-259.64 1340.99,-252.88 1330.4,-253.08 1332.84,-259.64\"/>\n</g>\n<!-- ndofs_e826761b60042b070e0c0a24b472ee26 -->\n<g id=\"node8\" class=\"node\">\n<title>ndofs_e826761b60042b070e0c0a24b472ee26</title>\n<ellipse fill=\"none\" stroke=\"black\" cx=\"446\" cy=\"-234\" rx=\"417.91\" ry=\"18\"/>\n<text text-anchor=\"middle\" x=\"446\" y=\"-229.32\" font-family=\"Times,serif\" font-size=\"14.00\">ndofs=&lt;pyiron_base.project.delayed.DelayedObject object at 0x7da7483b9670&gt;</text>\n</g>\n<!-- meshio_output_xdmf_52103bbf2f92608bdb3c6bedb045e0e1&#45;&gt;ndofs_e826761b60042b070e0c0a24b472ee26 -->\n<g id=\"edge7\" class=\"edge\">\n<title>meshio_output_xdmf_52103bbf2f92608bdb3c6bedb045e0e1-&gt;ndofs_e826761b60042b070e0c0a24b472ee26</title>\n<path fill=\"none\" stroke=\"black\" d=\"M1025.41,-288.72C906.17,-277.66 748.83,-263.08 628.21,-251.89\"/>\n<polygon fill=\"black\" stroke=\"black\" points=\"628.81,-248.43 618.53,-251 628.16,-255.4 628.81,-248.43\"/>\n</g>\n<!-- poisson_output_vtu_file_fdcc35c5e09c1b2a481c5350749d9810&#45;&gt;pvbatch_output_file_554a54a50a86b23416c0daf6ab0938df -->\n<g id=\"edge23\" class=\"edge\">\n<title>poisson_output_vtu_file_fdcc35c5e09c1b2a481c5350749d9810-&gt;pvbatch_output_file_554a54a50a86b23416c0daf6ab0938df</title>\n<path fill=\"none\" stroke=\"black\" d=\"M1433,-215.7C1456.96,-206.27 1486.83,-194.53 1512.28,-184.52\"/>\n<polygon fill=\"black\" stroke=\"black\" points=\"1513.46,-187.82 1521.48,-180.9 1510.89,-181.3 1513.46,-187.82\"/>\n</g>\n<!-- poisson_output_vtu_file_fdcc35c5e09c1b2a481c5350749d9810&#45;&gt;plot_file_554a54a50a86b23416c0daf6ab0938df -->\n<g id=\"edge24\" class=\"edge\">\n<title>poisson_output_vtu_file_fdcc35c5e09c1b2a481c5350749d9810-&gt;plot_file_554a54a50a86b23416c0daf6ab0938df</title>\n<path fill=\"none\" stroke=\"black\" d=\"M1631.53,-217.75C1817.52,-206.05 2073.05,-189.98 2259.13,-178.28\"/>\n<polygon fill=\"black\" stroke=\"black\" points=\"2259.17,-181.78 2268.93,-177.66 2258.73,-174.79 2259.17,-181.78\"/>\n</g>\n<!-- ndofs_e826761b60042b070e0c0a24b472ee26&#45;&gt;macros_tex_b52804e5fa845b3657fa99b738e02cf7 -->\n<g id=\"edge25\" class=\"edge\">\n<title>ndofs_e826761b60042b070e0c0a24b472ee26-&gt;macros_tex_b52804e5fa845b3657fa99b738e02cf7</title>\n<path fill=\"none\" stroke=\"black\" d=\"M555.46,-216.19C679.94,-197.35 889.33,-166.51 1070,-144 1176.12,-130.78 1295.26,-118 1390.28,-108.31\"/>\n<polygon fill=\"black\" stroke=\"black\" points=\"1390.35,-111.82 1399.94,-107.33 1389.64,-104.86 1390.35,-111.82\"/>\n</g>\n<!-- gmsh_output_file_553a0d07e32ca83a3640e955a7b868a4 -->\n<g id=\"node9\" class=\"node\">\n<title>gmsh_output_file_553a0d07e32ca83a3640e955a7b868a4</title>\n<ellipse fill=\"none\" stroke=\"black\" cx=\"1698\" cy=\"-378\" rx=\"475.78\" ry=\"18\"/>\n<text text-anchor=\"middle\" x=\"1698\" y=\"-373.32\" font-family=\"Times,serif\" font-size=\"14.00\">gmsh_output_file=&lt;pyiron_base.project.delayed.DelayedObject object at 0x7da7483b8b90&gt;</text>\n</g>\n<!-- gmsh_output_file_553a0d07e32ca83a3640e955a7b868a4&#45;&gt;meshio_output_xdmf_52103bbf2f92608bdb3c6bedb045e0e1 -->\n<g id=\"edge8\" class=\"edge\">\n<title>gmsh_output_file_553a0d07e32ca83a3640e955a7b868a4-&gt;meshio_output_xdmf_52103bbf2f92608bdb3c6bedb045e0e1</title>\n<path fill=\"none\" stroke=\"black\" d=\"M1578.01,-360.1C1503.81,-349.65 1408.52,-336.23 1332.31,-325.49\"/>\n<polygon fill=\"black\" stroke=\"black\" points=\"1333.1,-322.07 1322.71,-324.14 1332.12,-329 1333.1,-322.07\"/>\n</g>\n<!-- meshio_output_h5_0e11ecf3d5834e399bb91f99309bf3fe -->\n<g id=\"node10\" class=\"node\">\n<title>meshio_output_h5_0e11ecf3d5834e399bb91f99309bf3fe</title>\n<ellipse fill=\"none\" stroke=\"black\" cx=\"2194\" cy=\"-306\" rx=\"481.04\" ry=\"18\"/>\n<text text-anchor=\"middle\" x=\"2194\" y=\"-301.32\" font-family=\"Times,serif\" font-size=\"14.00\">meshio_output_h5=&lt;pyiron_base.project.delayed.DelayedObject object at 0x7da7483b8e60&gt;</text>\n</g>\n<!-- gmsh_output_file_553a0d07e32ca83a3640e955a7b868a4&#45;&gt;meshio_output_h5_0e11ecf3d5834e399bb91f99309bf3fe -->\n<g id=\"edge9\" class=\"edge\">\n<title>gmsh_output_file_553a0d07e32ca83a3640e955a7b868a4-&gt;meshio_output_h5_0e11ecf3d5834e399bb91f99309bf3fe</title>\n<path fill=\"none\" stroke=\"black\" d=\"M1817.75,-360.1C1891.94,-349.63 1987.24,-336.18 2063.37,-325.44\"/>\n<polygon fill=\"black\" stroke=\"black\" points=\"2063.55,-328.95 2072.96,-324.08 2062.57,-322.01 2063.55,-328.95\"/>\n</g>\n<!-- meshio_output_h5_0e11ecf3d5834e399bb91f99309bf3fe&#45;&gt;poisson_output_pvd_file_50ce5e5ed091c2b7a77b69e1c1750ad9 -->\n<g id=\"edge20\" class=\"edge\">\n<title>meshio_output_h5_0e11ecf3d5834e399bb91f99309bf3fe-&gt;poisson_output_pvd_file_50ce5e5ed091c2b7a77b69e1c1750ad9</title>\n<path fill=\"none\" stroke=\"black\" d=\"M2250.85,-287.7C2282.78,-277.98 2322.83,-265.79 2356.36,-255.59\"/>\n<polygon fill=\"black\" stroke=\"black\" points=\"2357.01,-259.05 2365.56,-252.79 2354.97,-252.35 2357.01,-259.05\"/>\n</g>\n<!-- meshio_output_h5_0e11ecf3d5834e399bb91f99309bf3fe&#45;&gt;poisson_output_vtu_file_fdcc35c5e09c1b2a481c5350749d9810 -->\n<g id=\"edge21\" class=\"edge\">\n<title>meshio_output_h5_0e11ecf3d5834e399bb91f99309bf3fe-&gt;poisson_output_vtu_file_fdcc35c5e09c1b2a481c5350749d9810</title>\n<path fill=\"none\" stroke=\"black\" d=\"M2009.32,-288.94C1882.91,-277.95 1715.49,-263.39 1586.45,-252.17\"/>\n<polygon fill=\"black\" stroke=\"black\" points=\"1587.04,-248.71 1576.77,-251.33 1586.43,-255.68 1587.04,-248.71\"/>\n</g>\n<!-- meshio_output_h5_0e11ecf3d5834e399bb91f99309bf3fe&#45;&gt;ndofs_e826761b60042b070e0c0a24b472ee26 -->\n<g id=\"edge22\" class=\"edge\">\n<title>meshio_output_h5_0e11ecf3d5834e399bb91f99309bf3fe-&gt;ndofs_e826761b60042b070e0c0a24b472ee26</title>\n<path fill=\"none\" stroke=\"black\" d=\"M1873.9,-292.18C1555.45,-279.43 1070.13,-259.99 755.47,-247.39\"/>\n<polygon fill=\"black\" stroke=\"black\" points=\"755.99,-243.91 745.86,-247.01 755.71,-250.91 755.99,-243.91\"/>\n</g>\n<!-- domain_size_f12a7f1986b9dd058dfc666dbe230b20 -->\n<g id=\"node11\" class=\"node\">\n<title>domain_size_f12a7f1986b9dd058dfc666dbe230b20</title>\n<ellipse fill=\"none\" stroke=\"black\" cx=\"849\" cy=\"-450\" rx=\"96.45\" ry=\"18\"/>\n<text text-anchor=\"middle\" x=\"849\" y=\"-445.32\" font-family=\"Times,serif\" font-size=\"14.00\">domain_size=2.0</text>\n</g>\n<!-- domain_size_f12a7f1986b9dd058dfc666dbe230b20&#45;&gt;macros_tex_b52804e5fa845b3657fa99b738e02cf7 -->\n<g id=\"edge10\" class=\"edge\">\n<title>domain_size_f12a7f1986b9dd058dfc666dbe230b20-&gt;macros_tex_b52804e5fa845b3657fa99b738e02cf7</title>\n<path fill=\"none\" stroke=\"black\" d=\"M758.95,-443.29C540.45,-428.24 0,-383.31 0,-307 0,-307 0,-307 0,-233 0,-52.14 628.72,-158.52 809,-144 981.7,-130.09 1176.71,-116.51 1325.68,-106.57\"/>\n<polygon fill=\"black\" stroke=\"black\" points=\"1325.52,-110.09 1335.27,-105.93 1325.06,-103.1 1325.52,-110.09\"/>\n</g>\n<!-- domain_size_f12a7f1986b9dd058dfc666dbe230b20&#45;&gt;gmsh_output_file_553a0d07e32ca83a3640e955a7b868a4 -->\n<g id=\"edge11\" class=\"edge\">\n<title>domain_size_f12a7f1986b9dd058dfc666dbe230b20-&gt;gmsh_output_file_553a0d07e32ca83a3640e955a7b868a4</title>\n<path fill=\"none\" stroke=\"black\" d=\"M935.87,-441.84C1066.09,-431.1 1315.62,-410.53 1493.68,-395.85\"/>\n<polygon fill=\"black\" stroke=\"black\" points=\"1493.85,-399.34 1503.53,-395.03 1493.27,-392.37 1493.85,-399.34\"/>\n</g>\n<!-- source_directory_053958014e7cd4a4df22cfa51c9fc696 -->\n<g id=\"node12\" class=\"node\">\n<title>source_directory_053958014e7cd4a4df22cfa51c9fc696</title>\n<ellipse fill=\"none\" stroke=\"black\" cx=\"2929\" cy=\"-450\" rx=\"328.99\" ry=\"18\"/>\n<text text-anchor=\"middle\" x=\"2929\" y=\"-445.32\" font-family=\"Times,serif\" font-size=\"14.00\">source_directory=/home/jovyan/example_workflows/nfdi/source</text>\n</g>\n<!-- source_directory_053958014e7cd4a4df22cfa51c9fc696&#45;&gt;create_function_job_724cfd00ffeb70f8b463a938195e0447 -->\n<g id=\"edge12\" class=\"edge\">\n<title>source_directory_053958014e7cd4a4df22cfa51c9fc696-&gt;create_function_job_724cfd00ffeb70f8b463a938195e0447</title>\n<path fill=\"none\" stroke=\"black\" d=\"M2971.08,-431.67C2988.89,-422.87 3008.96,-410.87 3024,-396 3056.42,-363.95 3075,-352.59 3075,-307 3075,-307 3075,-307 3075,-161 3075,-88.75 2901.2,-53.01 2745.03,-35.48\"/>\n<polygon fill=\"black\" stroke=\"black\" points=\"2745.65,-32.03 2735.33,-34.42 2744.88,-38.99 2745.65,-32.03\"/>\n</g>\n<!-- source_directory_053958014e7cd4a4df22cfa51c9fc696&#45;&gt;macros_tex_b52804e5fa845b3657fa99b738e02cf7 -->\n<g id=\"edge13\" class=\"edge\">\n<title>source_directory_053958014e7cd4a4df22cfa51c9fc696-&gt;macros_tex_b52804e5fa845b3657fa99b738e02cf7</title>\n<path fill=\"none\" stroke=\"black\" d=\"M2956.65,-431.63C2969.84,-422.3 2985.09,-409.87 2996,-396 3022.93,-361.77 3037,-350.55 3037,-307 3037,-307 3037,-307 3037,-233 3037,-174.49 2994.1,-166.27 2940,-144 2856.12,-109.47 2387.17,-97.26 2020.37,-93.04\"/>\n<polygon fill=\"black\" stroke=\"black\" points=\"2020.56,-89.54 2010.52,-92.93 2020.48,-96.54 2020.56,-89.54\"/>\n</g>\n<!-- source_directory_053958014e7cd4a4df22cfa51c9fc696&#45;&gt;pvbatch_output_file_554a54a50a86b23416c0daf6ab0938df -->\n<g id=\"edge14\" class=\"edge\">\n<title>source_directory_053958014e7cd4a4df22cfa51c9fc696-&gt;pvbatch_output_file_554a54a50a86b23416c0daf6ab0938df</title>\n<path fill=\"none\" stroke=\"black\" d=\"M2937.34,-431.75C2956.82,-388.7 2999.45,-275.7 2942,-216 2937.6,-211.42 2332.02,-189.53 1926.1,-175.35\"/>\n<polygon fill=\"black\" stroke=\"black\" points=\"1926.38,-171.86 1916.26,-175.01 1926.13,-178.86 1926.38,-171.86\"/>\n</g>\n<!-- source_directory_053958014e7cd4a4df22cfa51c9fc696&#45;&gt;poisson_output_pvd_file_50ce5e5ed091c2b7a77b69e1c1750ad9 -->\n<g id=\"edge15\" class=\"edge\">\n<title>source_directory_053958014e7cd4a4df22cfa51c9fc696-&gt;poisson_output_pvd_file_50ce5e5ed091c2b7a77b69e1c1750ad9</title>\n<path fill=\"none\" stroke=\"black\" d=\"M2922.92,-431.57C2910.05,-397.55 2876.59,-322.57 2821,-288 2793.96,-271.19 2735.47,-259.62 2671.48,-251.7\"/>\n<polygon fill=\"black\" stroke=\"black\" points=\"2672.17,-248.26 2661.83,-250.54 2671.34,-255.21 2672.17,-248.26\"/>\n</g>\n<!-- source_directory_053958014e7cd4a4df22cfa51c9fc696&#45;&gt;plot_file_554a54a50a86b23416c0daf6ab0938df -->\n<g id=\"edge19\" class=\"edge\">\n<title>source_directory_053958014e7cd4a4df22cfa51c9fc696-&gt;plot_file_554a54a50a86b23416c0daf6ab0938df</title>\n<path fill=\"none\" stroke=\"black\" d=\"M2949.82,-431.62C2959.46,-422.2 2969.89,-409.7 2975,-396 3002.99,-321.06 3028.33,-275.63 2975,-216 2959.45,-198.62 2865.64,-186.26 2765.6,-177.87\"/>\n<polygon fill=\"black\" stroke=\"black\" points=\"2766.09,-174.4 2755.84,-177.07 2765.52,-181.38 2766.09,-174.4\"/>\n</g>\n<!-- source_directory_053958014e7cd4a4df22cfa51c9fc696&#45;&gt;poisson_output_vtu_file_fdcc35c5e09c1b2a481c5350749d9810 -->\n<g id=\"edge17\" class=\"edge\">\n<title>source_directory_053958014e7cd4a4df22cfa51c9fc696-&gt;poisson_output_vtu_file_fdcc35c5e09c1b2a481c5350749d9810</title>\n<path fill=\"none\" stroke=\"black\" d=\"M2910.58,-431.65C2872.13,-396.69 2778.97,-318.54 2684,-288 2661.91,-280.9 2130.2,-260.93 1755.06,-247.63\"/>\n<polygon fill=\"black\" stroke=\"black\" points=\"1755.36,-244.14 1745.25,-247.28 1755.12,-251.14 1755.36,-244.14\"/>\n</g>\n<!-- source_directory_053958014e7cd4a4df22cfa51c9fc696&#45;&gt;ndofs_e826761b60042b070e0c0a24b472ee26 -->\n<g id=\"edge18\" class=\"edge\">\n<title>source_directory_053958014e7cd4a4df22cfa51c9fc696-&gt;ndofs_e826761b60042b070e0c0a24b472ee26</title>\n<path fill=\"none\" stroke=\"black\" d=\"M2599.82,-449.37C2253.93,-447.3 1694.3,-436.96 1213,-396 982.72,-376.4 922.53,-378.76 698,-324 626.82,-306.64 547.57,-276.83 497.29,-256.54\"/>\n<polygon fill=\"black\" stroke=\"black\" points=\"498.68,-253.33 488.1,-252.8 496.05,-259.81 498.68,-253.33\"/>\n</g>\n<!-- source_directory_053958014e7cd4a4df22cfa51c9fc696&#45;&gt;gmsh_output_file_553a0d07e32ca83a3640e955a7b868a4 -->\n<g id=\"edge16\" class=\"edge\">\n<title>source_directory_053958014e7cd4a4df22cfa51c9fc696-&gt;gmsh_output_file_553a0d07e32ca83a3640e955a7b868a4</title>\n<path fill=\"none\" stroke=\"black\" d=\"M2706.79,-436.36C2498.75,-424.53 2187.56,-406.84 1965.89,-394.23\"/>\n<polygon fill=\"black\" stroke=\"black\" points=\"1966.1,-390.74 1955.92,-393.67 1965.7,-397.73 1966.1,-390.74\"/>\n</g>\n</g>\n</svg>"
     },
     "metadata": {}
    }
   ],
   "execution_count": 21
  },
  {
   "id": "1c2760b6-96b4-4f44-ac49-a229d4a0cf67",
   "cell_type": "code",
   "source": "delayed_object_lst[-1].pull()",
   "metadata": {
    "trusted": true
   },
   "outputs": [
    {
     "name": "stdout",
     "output_type": "stream",
     "text": "The job generate_mesh_47725c16637f799ac042e47468005db3 was saved and received the ID: 1\nThe job convert_to_xdmf_d6a46eb9a4ec352aa996e783ec3c785f was saved and received the ID: 2\nThe job poisson_3c147fc86db87cf0c0f94bda333f8cd8 was saved and received the ID: 3\nThe job plot_over_line_ef50933291910dadcc8311924971e127 was saved and received the ID: 4\nThe job substitute_macros_63766eafd6b1980c7832dd8c9a97c96e was saved and received the ID: 5\nThe job compile_paper_128d1d58374953c00e95b8de62cbb10b was saved and received the ID: 6\n"
    },
    {
     "execution_count": 22,
     "output_type": "execute_result",
     "data": {
      "text/plain": "'/home/jovyan/example_workflows/nfdi/postprocessing/paper.pdf'"
     },
     "metadata": {}
    }
   ],
   "execution_count": 22
  },
  {
   "metadata": {},
   "cell_type": "markdown",
   "source": "## Load Workflow with pyiron_workflow",
   "id": "8e73fa07cebd7b72"
  },
  {
   "metadata": {},
   "cell_type": "code",
   "outputs": [],
   "execution_count": null,
   "source": "from python_workflow_definition.pyiron_workflow import load_workflow_json",
   "id": "aa99fbd94b03a869"
  },
  {
   "metadata": {},
   "cell_type": "code",
   "outputs": [],
   "execution_count": null,
   "source": "wf = load_workflow_json(file_name=workflow_json_filename)",
   "id": "728b8684fee475b5"
  },
  {
   "metadata": {},
   "cell_type": "code",
   "outputs": [],
   "execution_count": null,
   "source": "wf.draw(size=(10,10))",
   "id": "7b814f0f74f0b15a"
  },
  {
   "metadata": {},
   "cell_type": "code",
   "outputs": [],
   "execution_count": null,
   "source": "wf.run()",
   "id": "447506cdca5080e6"
  }
 ]
}
