{
 "metadata": {
  "kernelspec": {
   "display_name": "Python 3 (ipykernel)",
   "language": "python",
   "name": "python3"
  },
  "language_info": {
   "name": "python",
   "version": "3.12.8",
   "mimetype": "text/x-python",
   "codemirror_mode": {
    "name": "ipython",
    "version": 3
   },
   "pygments_lexer": "ipython3",
   "nbconvert_exporter": "python",
   "file_extension": ".py"
  }
 },
 "nbformat_minor": 5,
 "nbformat": 4,
 "cells": [
  {
   "id": "106ded66-d202-46ac-82b0-2755ca309bdd",
   "cell_type": "markdown",
   "source": "# Aiida\n\nhttps://github.com/BAMresearch/NFDI4IngScientificWorkflowRequirements",
   "metadata": {}
  },
  {
   "id": "11e09b78-cb72-465f-9c8b-5b77f0aa729c",
   "cell_type": "markdown",
   "source": "## Define workflow with aiida",
   "metadata": {}
  },
  {
   "id": "17173d54-dc76-4052-ab39-d44771ac903d",
   "cell_type": "code",
   "source": "import os",
   "metadata": {
    "trusted": true
   },
   "outputs": [],
   "execution_count": 1
  },
  {
   "id": "89c02460-b543-442c-a27e-f1757dc2262e",
   "cell_type": "code",
   "source": "from python_workflow_definition.aiida import write_workflow_json\n\nfrom aiida_workgraph import WorkGraph, task\nfrom aiida import orm, load_profile\nload_profile()",
   "metadata": {
    "trusted": true
   },
   "outputs": [
    {
     "execution_count": 2,
     "output_type": "execute_result",
     "data": {
      "text/plain": "Profile<uuid='3ce302a995914d2e8a7b6327a10fe381' name='pwd'>"
     },
     "metadata": {}
    }
   ],
   "execution_count": 2
  },
  {
   "id": "6dac225a1ce86b25",
   "cell_type": "code",
   "source": "from workflow import (\n    generate_mesh,\n    convert_to_xdmf as _convert_to_xdmf,\n    poisson as _poisson,\n    plot_over_line,\n    substitute_macros,\n    compile_paper,\n)",
   "metadata": {
    "trusted": true
   },
   "outputs": [],
   "execution_count": 3
  },
  {
   "id": "c47205d289499756",
   "cell_type": "code",
   "source": "convert_to_xdmf = task(outputs=[\"xdmf_file\", \"h5_file\"])(_convert_to_xdmf)\npoisson = task(outputs=[\"numdofs\", \"pvd_file\", \"vtu_file\"])(_poisson)",
   "metadata": {
    "trusted": true
   },
   "outputs": [],
   "execution_count": 4
  },
  {
   "id": "37c9d988-1755-446c-9f7b-c32f99e280d4",
   "cell_type": "code",
   "source": "source_directory = orm.Str(os.path.abspath(os.path.join(os.curdir, \"source\")))",
   "metadata": {
    "trusted": true
   },
   "outputs": [],
   "execution_count": 5
  },
  {
   "id": "8d911f98-3b80-457f-a0f4-3cb37ebf1691",
   "cell_type": "code",
   "source": "domain_size = orm.Float(2.0)",
   "metadata": {
    "trusted": true
   },
   "outputs": [],
   "execution_count": 6
  },
  {
   "id": "1e7e14ba-c4a7-485f-9bd8-44625830cca0",
   "cell_type": "code",
   "source": "wg = WorkGraph(\"wg-nfdi\")",
   "metadata": {
    "trusted": true
   },
   "outputs": [],
   "execution_count": 7
  },
  {
   "id": "71d411b6-cbec-489e-99e3-ba71680bcb5b",
   "cell_type": "code",
   "source": "gmsh_output_file = wg.add_task(\n    generate_mesh,\n    domain_size=domain_size,\n    source_directory=source_directory,\n)",
   "metadata": {
    "tags": [],
    "trusted": true
   },
   "outputs": [],
   "execution_count": 8
  },
  {
   "id": "1d0d9804-f250-48b3-a5d0-a546d520f79b",
   "cell_type": "code",
   "source": "meshio_output_dict = wg.add_task(\n    convert_to_xdmf,\n    gmsh_output_file=gmsh_output_file.outputs.result,\n)",
   "metadata": {
    "tags": [],
    "trusted": true
   },
   "outputs": [],
   "execution_count": 9
  },
  {
   "id": "7b69bcff-e2b1-4d4a-b62c-6a1c86eeb590",
   "cell_type": "code",
   "source": "poisson_dict = wg.add_task(\n    poisson,\n    meshio_output_xdmf=meshio_output_dict.outputs.xdmf_file, \n    meshio_output_h5=meshio_output_dict.outputs.h5_file,\n    source_directory=source_directory,\n)",
   "metadata": {
    "tags": [],
    "trusted": true
   },
   "outputs": [],
   "execution_count": 10
  },
  {
   "id": "3c4a29b0-eb1e-490a-8be0-e03cfff15e0a",
   "cell_type": "code",
   "source": "pvbatch_output_file = wg.add_task(\n    plot_over_line,\n    poisson_output_pvd_file=poisson_dict.outputs.pvd_file, \n    poisson_output_vtu_file=poisson_dict.outputs.vtu_file,\n    source_directory=source_directory,\n)",
   "metadata": {
    "tags": [],
    "trusted": true
   },
   "outputs": [],
   "execution_count": 11
  },
  {
   "id": "a0a4c233-322d-4723-9627-62ca2487bfa9",
   "cell_type": "code",
   "source": "macros_tex_file = wg.add_task(\n    substitute_macros,\n    pvbatch_output_file=pvbatch_output_file.outputs.result, \n    ndofs=poisson_dict.outputs.numdofs, \n    domain_size=domain_size,\n    source_directory=source_directory,\n)",
   "metadata": {
    "tags": [],
    "trusted": true
   },
   "outputs": [],
   "execution_count": 12
  },
  {
   "id": "c281408f-e63d-4380-a7e6-c595d49fbb8f",
   "cell_type": "code",
   "source": "paper_output = wg.add_task(\n    compile_paper,\n    macros_tex=macros_tex_file.outputs.result, \n    plot_file=pvbatch_output_file.outputs.result,\n    source_directory=source_directory,\n)",
   "metadata": {
    "trusted": true
   },
   "outputs": [],
   "execution_count": 13
  },
  {
   "id": "a384d70a-8ef5-4fdd-880c-56ac7eaf87b9",
   "cell_type": "code",
   "source": "wg",
   "metadata": {
    "trusted": true
   },
   "outputs": [
    {
     "execution_count": 14,
     "output_type": "execute_result",
     "data": {
      "text/plain": "NodeGraphWidget(settings={'minimap': True}, style={'width': '90%', 'height': '600px'}, value={'name': 'wg-nfdi…",
      "application/vnd.jupyter.widget-view+json": {
       "version_major": 2,
       "version_minor": 1,
       "model_id": "17520c019e5c413fb7a119ecc997c3ea"
      }
     },
     "metadata": {}
    }
   ],
   "execution_count": 14
  },
  {
   "id": "fb23ad9c-76fd-4c0b-b546-e305d6c49796",
   "cell_type": "code",
   "source": "workflow_json_filename = \"aiida_nfdi.json\"",
   "metadata": {
    "trusted": true
   },
   "outputs": [],
   "execution_count": 15
  },
  {
   "id": "4139547a-9717-4708-b1a5-8202a0382d77",
   "cell_type": "code",
   "source": "write_workflow_json(wg=wg, file_name=workflow_json_filename)",
   "metadata": {
    "trusted": true
   },
   "outputs": [],
   "execution_count": 16
  },
  {
   "id": "490df6a3-e402-4620-acf2-dbcfa0c5d537",
   "cell_type": "code",
   "source": "!cat {workflow_json_filename}",
   "metadata": {
    "trusted": true
   },
   "outputs": [
    {
     "name": "stdout",
     "output_type": "stream",
     "text": "{\n  \"version\": \"0.1.0\",\n  \"nodes\": [\n    {\n      \"id\": 0,\n      \"type\": \"function\",\n      \"value\": \"workflow.generate_mesh\"\n    },\n    {\n      \"id\": 1,\n      \"type\": \"function\",\n      \"value\": \"workflow.convert_to_xdmf\"\n    },\n    {\n      \"id\": 2,\n      \"type\": \"function\",\n      \"value\": \"workflow.poisson\"\n    },\n    {\n      \"id\": 3,\n      \"type\": \"function\",\n      \"value\": \"workflow.plot_over_line\"\n    },\n    {\n      \"id\": 4,\n      \"type\": \"function\",\n      \"value\": \"workflow.substitute_macros\"\n    },\n    {\n      \"id\": 5,\n      \"type\": \"function\",\n      \"value\": \"workflow.compile_paper\"\n    },\n    {\n      \"id\": 6,\n      \"type\": \"input\",\n      \"name\": \"domain_size\",\n      \"value\": 2.0\n    },\n    {\n      \"id\": 7,\n      \"type\": \"input\",\n      \"name\": \"source_directory\",\n      \"value\": \"/home/jovyan/example_workflows/nfdi/source\"\n    },\n    {\n      \"id\": 8,\n      \"type\": \"output\",\n      \"name\": \"result\"\n    }\n  ],\n  \"edges\": [\n    {\n      \"target\": 1,\n      \"targetPort\": \"gmsh_output_file\",\n      \"source\": 0,\n      \"sourcePort\": null\n    },\n    {\n      \"target\": 2,\n      \"targetPort\": \"meshio_output_xdmf\",\n      \"source\": 1,\n      \"sourcePort\": \"xdmf_file\"\n    },\n    {\n      \"target\": 2,\n      \"targetPort\": \"meshio_output_h5\",\n      \"source\": 1,\n      \"sourcePort\": \"h5_file\"\n    },\n    {\n      \"target\": 3,\n      \"targetPort\": \"poisson_output_pvd_file\",\n      \"source\": 2,\n      \"sourcePort\": \"pvd_file\"\n    },\n    {\n      \"target\": 3,\n      \"targetPort\": \"poisson_output_vtu_file\",\n      \"source\": 2,\n      \"sourcePort\": \"vtu_file\"\n    },\n    {\n      \"target\": 4,\n      \"targetPort\": \"pvbatch_output_file\",\n      \"source\": 3,\n      \"sourcePort\": null\n    },\n    {\n      \"target\": 4,\n      \"targetPort\": \"ndofs\",\n      \"source\": 2,\n      \"sourcePort\": \"numdofs\"\n    },\n    {\n      \"target\": 5,\n      \"targetPort\": \"macros_tex\",\n      \"source\": 4,\n      \"sourcePort\": null\n    },\n    {\n      \"target\": 5,\n      \"targetPort\": \"plot_file\",\n      \"source\": 3,\n      \"sourcePort\": null\n    },\n    {\n      \"target\": 0,\n      \"targetPort\": \"domain_size\",\n      \"source\": 6,\n      \"sourcePort\": null\n    },\n    {\n      \"target\": 0,\n      \"targetPort\": \"source_directory\",\n      \"source\": 7,\n      \"sourcePort\": null\n    },\n    {\n      \"target\": 2,\n      \"targetPort\": \"source_directory\",\n      \"source\": 7,\n      \"sourcePort\": null\n    },\n    {\n      \"target\": 3,\n      \"targetPort\": \"source_directory\",\n      \"source\": 7,\n      \"sourcePort\": null\n    },\n    {\n      \"target\": 4,\n      \"targetPort\": \"domain_size\",\n      \"source\": 6,\n      \"sourcePort\": null\n    },\n    {\n      \"target\": 4,\n      \"targetPort\": \"source_directory\",\n      \"source\": 7,\n      \"sourcePort\": null\n    },\n    {\n      \"target\": 5,\n      \"targetPort\": \"source_directory\",\n      \"source\": 7,\n      \"sourcePort\": null\n    },\n    {\n      \"target\": 8,\n      \"targetPort\": null,\n      \"source\": 5,\n      \"sourcePort\": null\n    }\n  ]\n}"
    }
   ],
   "execution_count": 17
  },
  {
   "id": "11a829e2-face-469f-b343-2c95763b1f13",
   "cell_type": "markdown",
   "source": "## Load Workflow with jobflow",
   "metadata": {}
  },
  {
   "id": "4f3acabe-55df-479a-af4d-a23a80c4660d",
   "cell_type": "code",
   "source": "from python_workflow_definition.jobflow import load_workflow_json",
   "metadata": {
    "trusted": true
   },
   "outputs": [],
   "execution_count": 18
  },
  {
   "id": "b6ba9444-a2c8-451b-b74c-19b0f69ba369",
   "cell_type": "code",
   "source": "from jobflow.managers.local import run_locally",
   "metadata": {
    "trusted": true
   },
   "outputs": [],
   "execution_count": 19
  },
  {
   "id": "c3528d55-6bf7-47ed-a110-65c47446ba92",
   "cell_type": "code",
   "source": "flow = load_workflow_json(file_name=workflow_json_filename)",
   "metadata": {
    "trusted": true
   },
   "outputs": [],
   "execution_count": 20
  },
  {
   "id": "5ef48778-4209-425f-8c6b-85a4cd2f92ec",
   "cell_type": "code",
   "source": "result = run_locally(flow)\nresult",
   "metadata": {
    "trusted": true
   },
   "outputs": [
    {
     "name": "stdout",
     "output_type": "stream",
     "text": "2025-05-24 05:41:02,340 INFO Started executing jobs locally\n2025-05-24 05:41:02,615 INFO Starting job - generate_mesh (1c3eab15-7639-4f4e-9ca7-7523ba640ca5)\n2025-05-24 05:41:03,800 INFO Finished job - generate_mesh (1c3eab15-7639-4f4e-9ca7-7523ba640ca5)\n2025-05-24 05:41:03,801 INFO Starting job - convert_to_xdmf (07acbed1-2abb-4141-896d-170b58aba7c2)\n2025-05-24 05:41:05,099 INFO Finished job - convert_to_xdmf (07acbed1-2abb-4141-896d-170b58aba7c2)\n2025-05-24 05:41:05,100 INFO Starting job - poisson (b212b743-f36d-4f7b-a64a-79060469f34b)\n2025-05-24 05:41:12,945 INFO Finished job - poisson (b212b743-f36d-4f7b-a64a-79060469f34b)\n2025-05-24 05:41:12,946 INFO Starting job - plot_over_line (af5a3a54-b7fa-45f8-a70f-7f95d23c32c4)\n2025-05-24 05:41:14,360 INFO Finished job - plot_over_line (af5a3a54-b7fa-45f8-a70f-7f95d23c32c4)\n2025-05-24 05:41:14,360 INFO Starting job - substitute_macros (ec55c04a-a5cb-4d8f-9981-961f7297532e)\n2025-05-24 05:41:15,171 INFO Finished job - substitute_macros (ec55c04a-a5cb-4d8f-9981-961f7297532e)\n2025-05-24 05:41:15,172 INFO Starting job - compile_paper (629539b7-2541-4ba7-9546-b7adb0cc312e)\n2025-05-24 05:42:14,698 INFO Finished job - compile_paper (629539b7-2541-4ba7-9546-b7adb0cc312e)\n2025-05-24 05:42:14,699 INFO Finished executing jobs locally\n"
    },
    {
     "execution_count": 21,
     "output_type": "execute_result",
     "data": {
      "text/plain": "{'1c3eab15-7639-4f4e-9ca7-7523ba640ca5': {1: Response(output='/home/jovyan/example_workflows/nfdi/preprocessing/square.msh', detour=None, addition=None, replace=None, stored_data=None, stop_children=False, stop_jobflow=False, job_dir=PosixPath('/home/jovyan/example_workflows/nfdi'))},\n '07acbed1-2abb-4141-896d-170b58aba7c2': {1: Response(output={'xdmf_file': '/home/jovyan/example_workflows/nfdi/preprocessing/square.xdmf', 'h5_file': '/home/jovyan/example_workflows/nfdi/preprocessing/square.h5'}, detour=None, addition=None, replace=None, stored_data=None, stop_children=False, stop_jobflow=False, job_dir=PosixPath('/home/jovyan/example_workflows/nfdi'))},\n 'b212b743-f36d-4f7b-a64a-79060469f34b': {1: Response(output={'numdofs': 357, 'pvd_file': '/home/jovyan/example_workflows/nfdi/processing/poisson.pvd', 'vtu_file': '/home/jovyan/example_workflows/nfdi/processing/poisson000000.vtu'}, detour=None, addition=None, replace=None, stored_data=None, stop_children=False, stop_jobflow=False, job_dir=PosixPath('/home/jovyan/example_workflows/nfdi'))},\n 'af5a3a54-b7fa-45f8-a70f-7f95d23c32c4': {1: Response(output='/home/jovyan/example_workflows/nfdi/postprocessing/plotoverline.csv', detour=None, addition=None, replace=None, stored_data=None, stop_children=False, stop_jobflow=False, job_dir=PosixPath('/home/jovyan/example_workflows/nfdi'))},\n 'ec55c04a-a5cb-4d8f-9981-961f7297532e': {1: Response(output='/home/jovyan/example_workflows/nfdi/postprocessing/macros.tex', detour=None, addition=None, replace=None, stored_data=None, stop_children=False, stop_jobflow=False, job_dir=PosixPath('/home/jovyan/example_workflows/nfdi'))},\n '629539b7-2541-4ba7-9546-b7adb0cc312e': {1: Response(output='/home/jovyan/example_workflows/nfdi/postprocessing/paper.pdf', detour=None, addition=None, replace=None, stored_data=None, stop_children=False, stop_jobflow=False, job_dir=PosixPath('/home/jovyan/example_workflows/nfdi'))}}"
     },
     "metadata": {}
    }
   ],
   "execution_count": 21
  },
  {
   "id": "397b16a2-e1ec-4eec-8562-1c84f585c347",
   "cell_type": "markdown",
   "source": "## Load Workflow with pyiron_base",
   "metadata": {}
  },
  {
   "id": "be4d5d93-e9f6-4072-a6be-0ee5dc93590f",
   "cell_type": "code",
   "source": "from python_workflow_definition.pyiron_base import load_workflow_json",
   "metadata": {
    "trusted": true
   },
   "outputs": [],
   "execution_count": 22
  },
  {
   "id": "4452a648-d4c3-4f5f-8678-ffb54bef17dc",
   "cell_type": "code",
   "source": "delayed_object_lst = load_workflow_json(file_name=workflow_json_filename)\ndelayed_object_lst[-1].draw()",
   "metadata": {
    "trusted": true
   },
   "outputs": [
    {
     "output_type": "display_data",
     "data": {
      "text/plain": "<IPython.core.display.SVG object>",
      "image/svg+xml": "<svg xmlns=\"http://www.w3.org/2000/svg\" xmlns:xlink=\"http://www.w3.org/1999/xlink\" width=\"3239pt\" height=\"476pt\" viewBox=\"0.00 0.00 3238.99 476.00\">\n<g id=\"graph0\" class=\"graph\" transform=\"scale(1 1) rotate(0) translate(4 472)\">\n<polygon fill=\"white\" stroke=\"none\" points=\"-4,4 -4,-472 3234.99,-472 3234.99,4 -4,4\"/>\n<!-- create_function_job_724cfd00ffeb70f8b463a938195e0447 -->\n<g id=\"node1\" class=\"node\">\n<title>create_function_job_724cfd00ffeb70f8b463a938195e0447</title>\n<ellipse fill=\"none\" stroke=\"black\" cx=\"2479\" cy=\"-18\" rx=\"482.62\" ry=\"18\"/>\n<text text-anchor=\"middle\" x=\"2479\" y=\"-13.32\" font-family=\"Times,serif\" font-size=\"14.00\">create_function_job=&lt;pyiron_base.project.delayed.DelayedObject object at 0x74ee3cf38aa0&gt;</text>\n</g>\n<!-- macros_tex_b52804e5fa845b3657fa99b738e02cf7 -->\n<g id=\"node2\" class=\"node\">\n<title>macros_tex_b52804e5fa845b3657fa99b738e02cf7</title>\n<ellipse fill=\"none\" stroke=\"black\" cx=\"1551\" cy=\"-90\" rx=\"443.16\" ry=\"18\"/>\n<text text-anchor=\"middle\" x=\"1551\" y=\"-85.33\" font-family=\"Times,serif\" font-size=\"14.00\">macros_tex=&lt;pyiron_base.project.delayed.DelayedObject object at 0x74ee3cf38830&gt;</text>\n</g>\n<!-- macros_tex_b52804e5fa845b3657fa99b738e02cf7&#45;&gt;create_function_job_724cfd00ffeb70f8b463a938195e0447 -->\n<g id=\"edge1\" class=\"edge\">\n<title>macros_tex_b52804e5fa845b3657fa99b738e02cf7-&gt;create_function_job_724cfd00ffeb70f8b463a938195e0447</title>\n<path fill=\"none\" stroke=\"black\" d=\"M1755.23,-73.59C1904.65,-62.32 2107.09,-47.05 2259.88,-35.53\"/>\n<polygon fill=\"black\" stroke=\"black\" points=\"2260.04,-39.03 2269.75,-34.78 2259.51,-32.05 2260.04,-39.03\"/>\n</g>\n<!-- pvbatch_output_file_554a54a50a86b23416c0daf6ab0938df -->\n<g id=\"node3\" class=\"node\">\n<title>pvbatch_output_file_554a54a50a86b23416c0daf6ab0938df</title>\n<ellipse fill=\"none\" stroke=\"black\" cx=\"1551\" cy=\"-162\" rx=\"484.2\" ry=\"18\"/>\n<text text-anchor=\"middle\" x=\"1551\" y=\"-157.32\" font-family=\"Times,serif\" font-size=\"14.00\">pvbatch_output_file=&lt;pyiron_base.project.delayed.DelayedObject object at 0x74ee3cf38500&gt;</text>\n</g>\n<!-- pvbatch_output_file_554a54a50a86b23416c0daf6ab0938df&#45;&gt;macros_tex_b52804e5fa845b3657fa99b738e02cf7 -->\n<g id=\"edge2\" class=\"edge\">\n<title>pvbatch_output_file_554a54a50a86b23416c0daf6ab0938df-&gt;macros_tex_b52804e5fa845b3657fa99b738e02cf7</title>\n<path fill=\"none\" stroke=\"black\" d=\"M1551,-143.7C1551,-136.41 1551,-127.73 1551,-119.54\"/>\n<polygon fill=\"black\" stroke=\"black\" points=\"1554.5,-119.62 1551,-109.62 1547.5,-119.62 1554.5,-119.62\"/>\n</g>\n<!-- poisson_output_pvd_file_50ce5e5ed091c2b7a77b69e1c1750ad9 -->\n<g id=\"node4\" class=\"node\">\n<title>poisson_output_pvd_file_50ce5e5ed091c2b7a77b69e1c1750ad9</title>\n<ellipse fill=\"none\" stroke=\"black\" cx=\"2401\" cy=\"-234\" rx=\"504.71\" ry=\"18\"/>\n<text text-anchor=\"middle\" x=\"2401\" y=\"-229.32\" font-family=\"Times,serif\" font-size=\"14.00\">poisson_output_pvd_file=&lt;pyiron_base.project.delayed.DelayedObject object at 0x74ee3cf07a10&gt;</text>\n</g>\n<!-- poisson_output_pvd_file_50ce5e5ed091c2b7a77b69e1c1750ad9&#45;&gt;pvbatch_output_file_554a54a50a86b23416c0daf6ab0938df -->\n<g id=\"edge3\" class=\"edge\">\n<title>poisson_output_pvd_file_50ce5e5ed091c2b7a77b69e1c1750ad9-&gt;pvbatch_output_file_554a54a50a86b23416c0daf6ab0938df</title>\n<path fill=\"none\" stroke=\"black\" d=\"M2205.99,-216.94C2071.44,-205.86 1892.86,-191.15 1756.16,-179.9\"/>\n<polygon fill=\"black\" stroke=\"black\" points=\"1756.49,-176.41 1746.24,-179.08 1755.92,-183.39 1756.49,-176.41\"/>\n</g>\n<!-- plot_file_554a54a50a86b23416c0daf6ab0938df -->\n<g id=\"node5\" class=\"node\">\n<title>plot_file_554a54a50a86b23416c0daf6ab0938df</title>\n<ellipse fill=\"none\" stroke=\"black\" cx=\"2479\" cy=\"-162\" rx=\"425.8\" ry=\"18\"/>\n<text text-anchor=\"middle\" x=\"2479\" y=\"-157.32\" font-family=\"Times,serif\" font-size=\"14.00\">plot_file=&lt;pyiron_base.project.delayed.DelayedObject object at 0x74ee3cf38500&gt;</text>\n</g>\n<!-- poisson_output_pvd_file_50ce5e5ed091c2b7a77b69e1c1750ad9&#45;&gt;plot_file_554a54a50a86b23416c0daf6ab0938df -->\n<g id=\"edge4\" class=\"edge\">\n<title>poisson_output_pvd_file_50ce5e5ed091c2b7a77b69e1c1750ad9-&gt;plot_file_554a54a50a86b23416c0daf6ab0938df</title>\n<path fill=\"none\" stroke=\"black\" d=\"M2420.28,-215.7C2429.66,-207.28 2441.09,-197.02 2451.38,-187.79\"/>\n<polygon fill=\"black\" stroke=\"black\" points=\"2453.44,-190.64 2458.54,-181.36 2448.76,-185.43 2453.44,-190.64\"/>\n</g>\n<!-- plot_file_554a54a50a86b23416c0daf6ab0938df&#45;&gt;create_function_job_724cfd00ffeb70f8b463a938195e0447 -->\n<g id=\"edge26\" class=\"edge\">\n<title>plot_file_554a54a50a86b23416c0daf6ab0938df-&gt;create_function_job_724cfd00ffeb70f8b463a938195e0447</title>\n<path fill=\"none\" stroke=\"black\" d=\"M2479,-143.59C2479,-119.61 2479,-76.14 2479,-47.42\"/>\n<polygon fill=\"black\" stroke=\"black\" points=\"2482.5,-47.62 2479,-37.62 2475.5,-47.62 2482.5,-47.62\"/>\n</g>\n<!-- meshio_output_xdmf_52103bbf2f92608bdb3c6bedb045e0e1 -->\n<g id=\"node6\" class=\"node\">\n<title>meshio_output_xdmf_52103bbf2f92608bdb3c6bedb045e0e1</title>\n<ellipse fill=\"none\" stroke=\"black\" cx=\"1189\" cy=\"-306\" rx=\"489.46\" ry=\"18\"/>\n<text text-anchor=\"middle\" x=\"1189\" y=\"-301.32\" font-family=\"Times,serif\" font-size=\"14.00\">meshio_output_xdmf=&lt;pyiron_base.project.delayed.DelayedObject object at 0x74ee3cf07da0&gt;</text>\n</g>\n<!-- meshio_output_xdmf_52103bbf2f92608bdb3c6bedb045e0e1&#45;&gt;poisson_output_pvd_file_50ce5e5ed091c2b7a77b69e1c1750ad9 -->\n<g id=\"edge5\" class=\"edge\">\n<title>meshio_output_xdmf_52103bbf2f92608bdb3c6bedb045e0e1-&gt;poisson_output_pvd_file_50ce5e5ed091c2b7a77b69e1c1750ad9</title>\n<path fill=\"none\" stroke=\"black\" d=\"M1444.55,-290.24C1646.24,-278.59 1926.84,-262.39 2131.95,-250.54\"/>\n<polygon fill=\"black\" stroke=\"black\" points=\"2131.9,-254.05 2141.68,-249.98 2131.49,-247.06 2131.9,-254.05\"/>\n</g>\n<!-- poisson_output_vtu_file_fdcc35c5e09c1b2a481c5350749d9810 -->\n<g id=\"node7\" class=\"node\">\n<title>poisson_output_vtu_file_fdcc35c5e09c1b2a481c5350749d9810</title>\n<ellipse fill=\"none\" stroke=\"black\" cx=\"1376\" cy=\"-234\" rx=\"502.61\" ry=\"18\"/>\n<text text-anchor=\"middle\" x=\"1376\" y=\"-229.32\" font-family=\"Times,serif\" font-size=\"14.00\">poisson_output_vtu_file=&lt;pyiron_base.project.delayed.DelayedObject object at 0x74ee3cf381a0&gt;</text>\n</g>\n<!-- meshio_output_xdmf_52103bbf2f92608bdb3c6bedb045e0e1&#45;&gt;poisson_output_vtu_file_fdcc35c5e09c1b2a481c5350749d9810 -->\n<g id=\"edge6\" class=\"edge\">\n<title>meshio_output_xdmf_52103bbf2f92608bdb3c6bedb045e0e1-&gt;poisson_output_vtu_file_fdcc35c5e09c1b2a481c5350749d9810</title>\n<path fill=\"none\" stroke=\"black\" d=\"M1235.22,-287.7C1260.62,-278.19 1292.34,-266.32 1319.23,-256.25\"/>\n<polygon fill=\"black\" stroke=\"black\" points=\"1320.1,-259.66 1328.24,-252.88 1317.65,-253.11 1320.1,-259.66\"/>\n</g>\n<!-- ndofs_e826761b60042b070e0c0a24b472ee26 -->\n<g id=\"node8\" class=\"node\">\n<title>ndofs_e826761b60042b070e0c0a24b472ee26</title>\n<ellipse fill=\"none\" stroke=\"black\" cx=\"442\" cy=\"-234\" rx=\"413.7\" ry=\"18\"/>\n<text text-anchor=\"middle\" x=\"442\" y=\"-229.32\" font-family=\"Times,serif\" font-size=\"14.00\">ndofs=&lt;pyiron_base.project.delayed.DelayedObject object at 0x74ee3cf38590&gt;</text>\n</g>\n<!-- meshio_output_xdmf_52103bbf2f92608bdb3c6bedb045e0e1&#45;&gt;ndofs_e826761b60042b070e0c0a24b472ee26 -->\n<g id=\"edge7\" class=\"edge\">\n<title>meshio_output_xdmf_52103bbf2f92608bdb3c6bedb045e0e1-&gt;ndofs_e826761b60042b070e0c0a24b472ee26</title>\n<path fill=\"none\" stroke=\"black\" d=\"M1015.28,-288.72C897.41,-277.68 741.94,-263.11 622.64,-251.93\"/>\n<polygon fill=\"black\" stroke=\"black\" points=\"623,-248.45 612.72,-251 622.35,-255.42 623,-248.45\"/>\n</g>\n<!-- poisson_output_vtu_file_fdcc35c5e09c1b2a481c5350749d9810&#45;&gt;pvbatch_output_file_554a54a50a86b23416c0daf6ab0938df -->\n<g id=\"edge23\" class=\"edge\">\n<title>poisson_output_vtu_file_fdcc35c5e09c1b2a481c5350749d9810-&gt;pvbatch_output_file_554a54a50a86b23416c0daf6ab0938df</title>\n<path fill=\"none\" stroke=\"black\" d=\"M1419.26,-215.7C1442.82,-206.27 1472.18,-194.53 1497.2,-184.52\"/>\n<polygon fill=\"black\" stroke=\"black\" points=\"1498.24,-187.87 1506.23,-180.91 1495.64,-181.37 1498.24,-187.87\"/>\n</g>\n<!-- poisson_output_vtu_file_fdcc35c5e09c1b2a481c5350749d9810&#45;&gt;plot_file_554a54a50a86b23416c0daf6ab0938df -->\n<g id=\"edge24\" class=\"edge\">\n<title>poisson_output_vtu_file_fdcc35c5e09c1b2a481c5350749d9810-&gt;plot_file_554a54a50a86b23416c0daf6ab0938df</title>\n<path fill=\"none\" stroke=\"black\" d=\"M1616.01,-217.77C1800.31,-206.07 2053.66,-189.99 2238.16,-178.28\"/>\n<polygon fill=\"black\" stroke=\"black\" points=\"2238.11,-181.79 2247.87,-177.67 2237.67,-174.81 2238.11,-181.79\"/>\n</g>\n<!-- ndofs_e826761b60042b070e0c0a24b472ee26&#45;&gt;macros_tex_b52804e5fa845b3657fa99b738e02cf7 -->\n<g id=\"edge25\" class=\"edge\">\n<title>ndofs_e826761b60042b070e0c0a24b472ee26-&gt;macros_tex_b52804e5fa845b3657fa99b738e02cf7</title>\n<path fill=\"none\" stroke=\"black\" d=\"M550.05,-216.17C672.93,-197.32 879.63,-166.47 1058,-144 1163.05,-130.77 1280.97,-118.02 1375.13,-108.34\"/>\n<polygon fill=\"black\" stroke=\"black\" points=\"1375.4,-111.83 1384.99,-107.33 1374.68,-104.87 1375.4,-111.83\"/>\n</g>\n<!-- gmsh_output_file_553a0d07e32ca83a3640e955a7b868a4 -->\n<g id=\"node9\" class=\"node\">\n<title>gmsh_output_file_553a0d07e32ca83a3640e955a7b868a4</title>\n<ellipse fill=\"none\" stroke=\"black\" cx=\"1682\" cy=\"-378\" rx=\"471.57\" ry=\"18\"/>\n<text text-anchor=\"middle\" x=\"1682\" y=\"-373.32\" font-family=\"Times,serif\" font-size=\"14.00\">gmsh_output_file=&lt;pyiron_base.project.delayed.DelayedObject object at 0x74ee3cf07b00&gt;</text>\n</g>\n<!-- gmsh_output_file_553a0d07e32ca83a3640e955a7b868a4&#45;&gt;meshio_output_xdmf_52103bbf2f92608bdb3c6bedb045e0e1 -->\n<g id=\"edge8\" class=\"edge\">\n<title>gmsh_output_file_553a0d07e32ca83a3640e955a7b868a4-&gt;meshio_output_xdmf_52103bbf2f92608bdb3c6bedb045e0e1</title>\n<path fill=\"none\" stroke=\"black\" d=\"M1562.97,-360.1C1489.37,-349.65 1394.85,-336.23 1319.26,-325.49\"/>\n<polygon fill=\"black\" stroke=\"black\" points=\"1320.14,-322.08 1309.74,-324.14 1319.15,-329.02 1320.14,-322.08\"/>\n</g>\n<!-- meshio_output_h5_0e11ecf3d5834e399bb91f99309bf3fe -->\n<g id=\"node10\" class=\"node\">\n<title>meshio_output_h5_0e11ecf3d5834e399bb91f99309bf3fe</title>\n<ellipse fill=\"none\" stroke=\"black\" cx=\"2174\" cy=\"-306\" rx=\"477.36\" ry=\"18\"/>\n<text text-anchor=\"middle\" x=\"2174\" y=\"-301.32\" font-family=\"Times,serif\" font-size=\"14.00\">meshio_output_h5=&lt;pyiron_base.project.delayed.DelayedObject object at 0x74ee3cf07d70&gt;</text>\n</g>\n<!-- gmsh_output_file_553a0d07e32ca83a3640e955a7b868a4&#45;&gt;meshio_output_h5_0e11ecf3d5834e399bb91f99309bf3fe -->\n<g id=\"edge9\" class=\"edge\">\n<title>gmsh_output_file_553a0d07e32ca83a3640e955a7b868a4-&gt;meshio_output_h5_0e11ecf3d5834e399bb91f99309bf3fe</title>\n<path fill=\"none\" stroke=\"black\" d=\"M1800.79,-360.1C1874.37,-349.63 1968.91,-336.18 2044.43,-325.44\"/>\n<polygon fill=\"black\" stroke=\"black\" points=\"2044.52,-328.96 2053.93,-324.08 2043.53,-322.03 2044.52,-328.96\"/>\n</g>\n<!-- meshio_output_h5_0e11ecf3d5834e399bb91f99309bf3fe&#45;&gt;poisson_output_pvd_file_50ce5e5ed091c2b7a77b69e1c1750ad9 -->\n<g id=\"edge20\" class=\"edge\">\n<title>meshio_output_h5_0e11ecf3d5834e399bb91f99309bf3fe-&gt;poisson_output_pvd_file_50ce5e5ed091c2b7a77b69e1c1750ad9</title>\n<path fill=\"none\" stroke=\"black\" d=\"M2230.11,-287.7C2261.49,-278.02 2300.81,-265.9 2333.81,-255.72\"/>\n<polygon fill=\"black\" stroke=\"black\" points=\"2334.78,-259.08 2343.3,-252.79 2332.71,-252.4 2334.78,-259.08\"/>\n</g>\n<!-- meshio_output_h5_0e11ecf3d5834e399bb91f99309bf3fe&#45;&gt;poisson_output_vtu_file_fdcc35c5e09c1b2a481c5350749d9810 -->\n<g id=\"edge21\" class=\"edge\">\n<title>meshio_output_h5_0e11ecf3d5834e399bb91f99309bf3fe-&gt;poisson_output_vtu_file_fdcc35c5e09c1b2a481c5350749d9810</title>\n<path fill=\"none\" stroke=\"black\" d=\"M1990.67,-288.92C1865.48,-277.94 1699.8,-263.4 1572,-252.19\"/>\n<polygon fill=\"black\" stroke=\"black\" points=\"1572.3,-248.71 1562.04,-251.32 1571.69,-255.68 1572.3,-248.71\"/>\n</g>\n<!-- meshio_output_h5_0e11ecf3d5834e399bb91f99309bf3fe&#45;&gt;ndofs_e826761b60042b070e0c0a24b472ee26 -->\n<g id=\"edge22\" class=\"edge\">\n<title>meshio_output_h5_0e11ecf3d5834e399bb91f99309bf3fe-&gt;ndofs_e826761b60042b070e0c0a24b472ee26</title>\n<path fill=\"none\" stroke=\"black\" d=\"M1856.83,-292.18C1541.45,-279.44 1060.89,-260.01 749.09,-247.41\"/>\n<polygon fill=\"black\" stroke=\"black\" points=\"749.26,-243.92 739.13,-247.01 748.98,-250.91 749.26,-243.92\"/>\n</g>\n<!-- domain_size_f12a7f1986b9dd058dfc666dbe230b20 -->\n<g id=\"node11\" class=\"node\">\n<title>domain_size_f12a7f1986b9dd058dfc666dbe230b20</title>\n<ellipse fill=\"none\" stroke=\"black\" cx=\"841\" cy=\"-450\" rx=\"96.45\" ry=\"18\"/>\n<text text-anchor=\"middle\" x=\"841\" y=\"-445.32\" font-family=\"Times,serif\" font-size=\"14.00\">domain_size=2.0</text>\n</g>\n<!-- domain_size_f12a7f1986b9dd058dfc666dbe230b20&#45;&gt;macros_tex_b52804e5fa845b3657fa99b738e02cf7 -->\n<g id=\"edge10\" class=\"edge\">\n<title>domain_size_f12a7f1986b9dd058dfc666dbe230b20-&gt;macros_tex_b52804e5fa845b3657fa99b738e02cf7</title>\n<path fill=\"none\" stroke=\"black\" d=\"M751,-443.15C534.04,-427.85 0,-382.52 0,-307 0,-307 0,-307 0,-233 0,-54.13 621.71,-158.51 800,-144 970.77,-130.1 1163.57,-116.54 1311.05,-106.62\"/>\n<polygon fill=\"black\" stroke=\"black\" points=\"1311.23,-110.11 1320.98,-105.95 1310.76,-103.13 1311.23,-110.11\"/>\n</g>\n<!-- domain_size_f12a7f1986b9dd058dfc666dbe230b20&#45;&gt;gmsh_output_file_553a0d07e32ca83a3640e955a7b868a4 -->\n<g id=\"edge11\" class=\"edge\">\n<title>domain_size_f12a7f1986b9dd058dfc666dbe230b20-&gt;gmsh_output_file_553a0d07e32ca83a3640e955a7b868a4</title>\n<path fill=\"none\" stroke=\"black\" d=\"M927.83,-441.77C1057.05,-431.02 1303.59,-410.5 1479.61,-395.85\"/>\n<polygon fill=\"black\" stroke=\"black\" points=\"1479.66,-399.35 1489.33,-395.04 1479.08,-392.38 1479.66,-399.35\"/>\n</g>\n<!-- source_directory_053958014e7cd4a4df22cfa51c9fc696 -->\n<g id=\"node12\" class=\"node\">\n<title>source_directory_053958014e7cd4a4df22cfa51c9fc696</title>\n<ellipse fill=\"none\" stroke=\"black\" cx=\"2902\" cy=\"-450\" rx=\"328.99\" ry=\"18\"/>\n<text text-anchor=\"middle\" x=\"2902\" y=\"-445.32\" font-family=\"Times,serif\" font-size=\"14.00\">source_directory=/home/jovyan/example_workflows/nfdi/source</text>\n</g>\n<!-- source_directory_053958014e7cd4a4df22cfa51c9fc696&#45;&gt;create_function_job_724cfd00ffeb70f8b463a938195e0447 -->\n<g id=\"edge12\" class=\"edge\">\n<title>source_directory_053958014e7cd4a4df22cfa51c9fc696-&gt;create_function_job_724cfd00ffeb70f8b463a938195e0447</title>\n<path fill=\"none\" stroke=\"black\" d=\"M2944.08,-431.67C2961.89,-422.87 2981.96,-410.87 2997,-396 3029.42,-363.95 3048,-352.59 3048,-307 3048,-307 3048,-307 3048,-161 3048,-88.91 2873.91,-53.13 2718.32,-35.54\"/>\n<polygon fill=\"black\" stroke=\"black\" points=\"2718.98,-32.09 2708.66,-34.47 2718.21,-39.05 2718.98,-32.09\"/>\n</g>\n<!-- source_directory_053958014e7cd4a4df22cfa51c9fc696&#45;&gt;macros_tex_b52804e5fa845b3657fa99b738e02cf7 -->\n<g id=\"edge13\" class=\"edge\">\n<title>source_directory_053958014e7cd4a4df22cfa51c9fc696-&gt;macros_tex_b52804e5fa845b3657fa99b738e02cf7</title>\n<path fill=\"none\" stroke=\"black\" d=\"M2929.65,-431.63C2942.84,-422.3 2958.09,-409.87 2969,-396 2995.93,-361.77 3010,-350.55 3010,-307 3010,-307 3010,-307 3010,-233 3010,-174.82 2967.74,-166.29 2914,-144 2830.75,-109.47 2364.51,-97.26 2000.23,-93.04\"/>\n<polygon fill=\"black\" stroke=\"black\" points=\"2000.49,-89.55 1990.45,-92.93 2000.41,-96.55 2000.49,-89.55\"/>\n</g>\n<!-- source_directory_053958014e7cd4a4df22cfa51c9fc696&#45;&gt;pvbatch_output_file_554a54a50a86b23416c0daf6ab0938df -->\n<g id=\"edge14\" class=\"edge\">\n<title>source_directory_053958014e7cd4a4df22cfa51c9fc696-&gt;pvbatch_output_file_554a54a50a86b23416c0daf6ab0938df</title>\n<path fill=\"none\" stroke=\"black\" d=\"M2910.34,-431.75C2929.81,-388.71 2972.44,-275.71 2915,-216 2910.63,-211.46 2309.9,-189.56 1907.22,-175.37\"/>\n<polygon fill=\"black\" stroke=\"black\" points=\"1907.59,-171.88 1897.48,-175.02 1907.35,-178.87 1907.59,-171.88\"/>\n</g>\n<!-- source_directory_053958014e7cd4a4df22cfa51c9fc696&#45;&gt;poisson_output_pvd_file_50ce5e5ed091c2b7a77b69e1c1750ad9 -->\n<g id=\"edge15\" class=\"edge\">\n<title>source_directory_053958014e7cd4a4df22cfa51c9fc696-&gt;poisson_output_pvd_file_50ce5e5ed091c2b7a77b69e1c1750ad9</title>\n<path fill=\"none\" stroke=\"black\" d=\"M2896.02,-431.58C2883.36,-397.57 2850.34,-322.62 2795,-288 2768.14,-271.2 2709.86,-259.63 2646.17,-251.7\"/>\n<polygon fill=\"black\" stroke=\"black\" points=\"2646.91,-248.27 2636.56,-250.55 2646.07,-255.22 2646.91,-248.27\"/>\n</g>\n<!-- source_directory_053958014e7cd4a4df22cfa51c9fc696&#45;&gt;plot_file_554a54a50a86b23416c0daf6ab0938df -->\n<g id=\"edge19\" class=\"edge\">\n<title>source_directory_053958014e7cd4a4df22cfa51c9fc696-&gt;plot_file_554a54a50a86b23416c0daf6ab0938df</title>\n<path fill=\"none\" stroke=\"black\" d=\"M2922.82,-431.62C2932.46,-422.2 2942.89,-409.7 2948,-396 2975.99,-321.06 3001.3,-275.66 2948,-216 2932.54,-198.7 2838.97,-186.33 2739.42,-177.92\"/>\n<polygon fill=\"black\" stroke=\"black\" points=\"2739.97,-174.45 2729.72,-177.12 2739.39,-181.43 2739.97,-174.45\"/>\n</g>\n<!-- source_directory_053958014e7cd4a4df22cfa51c9fc696&#45;&gt;poisson_output_vtu_file_fdcc35c5e09c1b2a481c5350749d9810 -->\n<g id=\"edge17\" class=\"edge\">\n<title>source_directory_053958014e7cd4a4df22cfa51c9fc696-&gt;poisson_output_vtu_file_fdcc35c5e09c1b2a481c5350749d9810</title>\n<path fill=\"none\" stroke=\"black\" d=\"M2883.85,-431.65C2845.95,-396.7 2754.07,-318.56 2660,-288 2638.11,-280.89 2110.53,-260.91 1738.54,-247.62\"/>\n<polygon fill=\"black\" stroke=\"black\" points=\"1738.94,-244.13 1728.82,-247.27 1738.69,-251.12 1738.94,-244.13\"/>\n</g>\n<!-- source_directory_053958014e7cd4a4df22cfa51c9fc696&#45;&gt;ndofs_e826761b60042b070e0c0a24b472ee26 -->\n<g id=\"edge18\" class=\"edge\">\n<title>source_directory_053958014e7cd4a4df22cfa51c9fc696-&gt;ndofs_e826761b60042b070e0c0a24b472ee26</title>\n<path fill=\"none\" stroke=\"black\" d=\"M2572.91,-449.37C2229.81,-447.26 1676.78,-436.87 1201,-396 972.93,-376.41 913.26,-378.81 691,-324 620.61,-306.64 542.32,-276.84 492.65,-256.54\"/>\n<polygon fill=\"black\" stroke=\"black\" points=\"494.18,-253.38 483.6,-252.81 491.51,-259.86 494.18,-253.38\"/>\n</g>\n<!-- source_directory_053958014e7cd4a4df22cfa51c9fc696&#45;&gt;gmsh_output_file_553a0d07e32ca83a3640e955a7b868a4 -->\n<g id=\"edge16\" class=\"edge\">\n<title>source_directory_053958014e7cd4a4df22cfa51c9fc696-&gt;gmsh_output_file_553a0d07e32ca83a3640e955a7b868a4</title>\n<path fill=\"none\" stroke=\"black\" d=\"M2680.71,-436.3C2474.56,-424.47 2166.88,-406.82 1947.56,-394.24\"/>\n<polygon fill=\"black\" stroke=\"black\" points=\"1947.9,-390.75 1937.72,-393.67 1947.5,-397.74 1947.9,-390.75\"/>\n</g>\n</g>\n</svg>"
     },
     "metadata": {}
    }
   ],
   "execution_count": 23
  },
  {
   "id": "1c2760b6-96b4-4f44-ac49-a229d4a0cf67",
   "cell_type": "code",
   "source": "delayed_object_lst[-1].pull()",
   "metadata": {
    "trusted": true
   },
   "outputs": [
    {
     "name": "stdout",
     "output_type": "stream",
     "text": "The job generate_mesh_47725c16637f799ac042e47468005db3 was saved and received the ID: 1\nThe job convert_to_xdmf_d6a46eb9a4ec352aa996e783ec3c785f was saved and received the ID: 2\nThe job poisson_3c147fc86db87cf0c0f94bda333f8cd8 was saved and received the ID: 3\nThe job plot_over_line_ef50933291910dadcc8311924971e127 was saved and received the ID: 4\nThe job substitute_macros_63766eafd6b1980c7832dd8c9a97c96e was saved and received the ID: 5\nThe job compile_paper_128d1d58374953c00e95b8de62cbb10b was saved and received the ID: 6\n"
    },
    {
     "execution_count": 24,
     "output_type": "execute_result",
     "data": {
      "text/plain": "'/home/jovyan/example_workflows/nfdi/postprocessing/paper.pdf'"
     },
     "metadata": {}
    }
   ],
   "execution_count": 24
  },
  {
   "metadata": {},
   "cell_type": "markdown",
   "source": "## Load Workflow with pyiron_workflow",
   "id": "afaf2bc0b3a491ca"
  },
  {
   "metadata": {},
   "cell_type": "code",
   "outputs": [],
   "execution_count": null,
   "source": "from python_workflow_definition.pyiron_workflow import load_workflow_json",
   "id": "6172b410eb776fc4"
  },
  {
   "metadata": {},
   "cell_type": "code",
   "outputs": [],
   "execution_count": null,
   "source": "wf = load_workflow_json(file_name=workflow_json_filename)",
   "id": "668fe64b18b4d604"
  },
  {
   "metadata": {},
   "cell_type": "code",
   "outputs": [],
   "execution_count": null,
   "source": "wf.draw(size=(10,10))",
   "id": "8c4fd72394841ffa"
  },
  {
   "metadata": {},
   "cell_type": "code",
   "outputs": [],
   "execution_count": null,
   "source": "wf.run()",
   "id": "c1427e3ce0716f64"
  }
 ]
}
