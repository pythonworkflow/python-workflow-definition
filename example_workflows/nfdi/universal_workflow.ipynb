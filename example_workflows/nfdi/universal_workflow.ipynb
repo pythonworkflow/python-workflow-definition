{
 "metadata": {
  "kernelspec": {
   "display_name": "Python 3 (ipykernel)",
   "language": "python",
   "name": "python3"
  },
  "language_info": {
   "name": "python",
   "version": "3.12.8",
   "mimetype": "text/x-python",
   "codemirror_mode": {
    "name": "ipython",
    "version": 3
   },
   "pygments_lexer": "ipython3",
   "nbconvert_exporter": "python",
   "file_extension": ".py"
  }
 },
 "nbformat_minor": 4,
 "nbformat": 4,
 "cells": [
  {
   "cell_type": "markdown",
   "source": "# Load Simple Workflow",
   "metadata": {}
  },
  {
   "cell_type": "markdown",
   "source": "## Plot",
   "metadata": {}
  },
  {
   "cell_type": "code",
   "source": "from python_workflow_definition.plot import plot",
   "metadata": {
    "trusted": true
   },
   "outputs": [],
   "execution_count": 1
  },
  {
   "cell_type": "code",
   "source": "plot(file_name='workflow.json')",
   "metadata": {
    "trusted": true
   },
   "outputs": [
    {
     "output_type": "display_data",
     "data": {
      "text/plain": "<IPython.core.display.SVG object>",
      "image/svg+xml": "<svg xmlns=\"http://www.w3.org/2000/svg\" xmlns:xlink=\"http://www.w3.org/1999/xlink\" width=\"893pt\" height=\"636pt\" viewBox=\"0.00 0.00 893.02 636.25\">\n<g id=\"graph0\" class=\"graph\" transform=\"scale(1 1) rotate(0) translate(4 632.25)\">\n<polygon fill=\"white\" stroke=\"none\" points=\"-4,4 -4,-632.25 889.02,-632.25 889.02,4 -4,4\"/>\n<!-- 0 -->\n<g id=\"node1\" class=\"node\">\n<title>0</title>\n<ellipse fill=\"none\" stroke=\"black\" cx=\"482.02\" cy=\"-521\" rx=\"134.86\" ry=\"18\"/>\n<text text-anchor=\"middle\" x=\"482.02\" y=\"-516.33\" font-family=\"Times,serif\" font-size=\"14.00\">workflow.generate_mesh</text>\n</g>\n<!-- 1 -->\n<g id=\"node2\" class=\"node\">\n<title>1</title>\n<ellipse fill=\"none\" stroke=\"black\" cx=\"482.02\" cy=\"-431.75\" rx=\"141.17\" ry=\"18\"/>\n<text text-anchor=\"middle\" x=\"482.02\" y=\"-427.07\" font-family=\"Times,serif\" font-size=\"14.00\">workflow.convert_to_xdmf</text>\n</g>\n<!-- 0&#45;&gt;1 -->\n<g id=\"edge1\" class=\"edge\">\n<title>0-&gt;1</title>\n<path fill=\"none\" stroke=\"black\" d=\"M482.02,-502.76C482.02,-490.93 482.02,-474.95 482.02,-461.25\"/>\n<polygon fill=\"black\" stroke=\"black\" points=\"485.52,-461.47 482.02,-451.47 478.52,-461.47 485.52,-461.47\"/>\n<text text-anchor=\"middle\" x=\"542.77\" y=\"-471.7\" font-family=\"Times,serif\" font-size=\"14.00\">gmsh_output_file</text>\n</g>\n<!-- 2 -->\n<g id=\"node3\" class=\"node\">\n<title>2</title>\n<ellipse fill=\"none\" stroke=\"black\" cx=\"404.02\" cy=\"-342.5\" rx=\"96.45\" ry=\"18\"/>\n<text text-anchor=\"middle\" x=\"404.02\" y=\"-337.82\" font-family=\"Times,serif\" font-size=\"14.00\">workflow.poisson</text>\n</g>\n<!-- 1&#45;&gt;2 -->\n<g id=\"edge2\" class=\"edge\">\n<title>1-&gt;2</title>\n<path fill=\"none\" stroke=\"black\" d=\"M466.61,-413.51C455.29,-400.85 439.71,-383.42 426.93,-369.13\"/>\n<polygon fill=\"black\" stroke=\"black\" points=\"429.68,-366.95 420.41,-361.83 424.46,-371.62 429.68,-366.95\"/>\n</g>\n<!-- 3 -->\n<g id=\"node4\" class=\"node\">\n<title>3</title>\n<ellipse fill=\"none\" stroke=\"black\" cx=\"128.02\" cy=\"-269.5\" rx=\"128.02\" ry=\"18\"/>\n<text text-anchor=\"middle\" x=\"128.02\" y=\"-264.82\" font-family=\"Times,serif\" font-size=\"14.00\">workflow.plot_over_line</text>\n</g>\n<!-- 2&#45;&gt;3 -->\n<g id=\"edge3\" class=\"edge\">\n<title>2-&gt;3</title>\n<path fill=\"none\" stroke=\"black\" d=\"M348.83,-327.3C305.58,-316.18 245.1,-300.62 198.37,-288.6\"/>\n<polygon fill=\"black\" stroke=\"black\" points=\"199.44,-285.26 188.88,-286.16 197.69,-292.04 199.44,-285.26\"/>\n</g>\n<!-- 4 -->\n<g id=\"node5\" class=\"node\">\n<title>4</title>\n<ellipse fill=\"none\" stroke=\"black\" cx=\"325.02\" cy=\"-180.25\" rx=\"150.64\" ry=\"18\"/>\n<text text-anchor=\"middle\" x=\"325.02\" y=\"-175.57\" font-family=\"Times,serif\" font-size=\"14.00\">workflow.substitute_macros</text>\n</g>\n<!-- 2&#45;&gt;4 -->\n<g id=\"edge4\" class=\"edge\">\n<title>2-&gt;4</title>\n<path fill=\"none\" stroke=\"black\" d=\"M395.57,-324.35C381.85,-296.52 354.62,-241.3 338.3,-208.19\"/>\n<polygon fill=\"black\" stroke=\"black\" points=\"341.64,-207.06 334.08,-199.63 335.37,-210.15 341.64,-207.06\"/>\n<text text-anchor=\"middle\" x=\"459.34\" y=\"-264.82\" font-family=\"Times,serif\" font-size=\"14.00\">ndofs=result[numdofs]</text>\n</g>\n<!-- 3&#45;&gt;4 -->\n<g id=\"edge5\" class=\"edge\">\n<title>3-&gt;4</title>\n<path fill=\"none\" stroke=\"black\" d=\"M123.85,-251.43C122.17,-240.12 122.25,-225.67 130.52,-216.25 139.89,-205.58 163.52,-198.15 191.23,-192.98\"/>\n<polygon fill=\"black\" stroke=\"black\" points=\"191.7,-196.45 200.96,-191.3 190.51,-189.55 191.7,-196.45\"/>\n<text text-anchor=\"middle\" x=\"200.27\" y=\"-220.2\" font-family=\"Times,serif\" font-size=\"14.00\">pvbatch_output_file</text>\n</g>\n<!-- 5 -->\n<g id=\"node6\" class=\"node\">\n<title>5</title>\n<ellipse fill=\"none\" stroke=\"black\" cx=\"325.02\" cy=\"-91\" rx=\"131.18\" ry=\"18\"/>\n<text text-anchor=\"middle\" x=\"325.02\" y=\"-86.33\" font-family=\"Times,serif\" font-size=\"14.00\">workflow.compile_paper</text>\n</g>\n<!-- 3&#45;&gt;5 -->\n<g id=\"edge6\" class=\"edge\">\n<title>3-&gt;5</title>\n<path fill=\"none\" stroke=\"black\" d=\"M117.67,-251.29C105.56,-228.7 89.49,-188.79 108.77,-162.25 131.26,-131.29 167.72,-113.71 204.35,-103.81\"/>\n<polygon fill=\"black\" stroke=\"black\" points=\"204.87,-107.29 213.72,-101.46 203.17,-100.5 204.87,-107.29\"/>\n<text text-anchor=\"middle\" x=\"136.9\" y=\"-175.57\" font-family=\"Times,serif\" font-size=\"14.00\">plot_file</text>\n</g>\n<!-- 4&#45;&gt;5 -->\n<g id=\"edge7\" class=\"edge\">\n<title>4-&gt;5</title>\n<path fill=\"none\" stroke=\"black\" d=\"M325.02,-162.01C325.02,-150.18 325.02,-134.2 325.02,-120.5\"/>\n<polygon fill=\"black\" stroke=\"black\" points=\"328.52,-120.72 325.02,-110.72 321.52,-120.72 328.52,-120.72\"/>\n<text text-anchor=\"middle\" x=\"365.52\" y=\"-130.95\" font-family=\"Times,serif\" font-size=\"14.00\">macros_tex</text>\n</g>\n<!-- 8 -->\n<g id=\"node7\" class=\"node\">\n<title>8</title>\n<ellipse fill=\"none\" stroke=\"black\" cx=\"325.02\" cy=\"-18\" rx=\"40.69\" ry=\"18\"/>\n<text text-anchor=\"middle\" x=\"325.02\" y=\"-13.32\" font-family=\"Times,serif\" font-size=\"14.00\">result</text>\n</g>\n<!-- 5&#45;&gt;8 -->\n<g id=\"edge8\" class=\"edge\">\n<title>5-&gt;8</title>\n<path fill=\"none\" stroke=\"black\" d=\"M325.02,-72.81C325.02,-65.23 325.02,-56.1 325.02,-47.54\"/>\n<polygon fill=\"black\" stroke=\"black\" points=\"328.52,-47.54 325.02,-37.54 321.52,-47.54 328.52,-47.54\"/>\n</g>\n<!-- 6 -->\n<g id=\"node8\" class=\"node\">\n<title>6</title>\n<ellipse fill=\"none\" stroke=\"black\" cx=\"696.02\" cy=\"-610.25\" rx=\"27.01\" ry=\"18\"/>\n<text text-anchor=\"middle\" x=\"696.02\" y=\"-605.58\" font-family=\"Times,serif\" font-size=\"14.00\">2.0</text>\n</g>\n<!-- 6&#45;&gt;0 -->\n<g id=\"edge9\" class=\"edge\">\n<title>6-&gt;0</title>\n<path fill=\"none\" stroke=\"black\" d=\"M673.52,-600.08C640.51,-586.62 578.03,-561.15 533.42,-542.95\"/>\n<polygon fill=\"black\" stroke=\"black\" points=\"534.75,-539.72 524.17,-539.19 532.11,-546.2 534.75,-539.72\"/>\n<text text-anchor=\"middle\" x=\"651.69\" y=\"-560.95\" font-family=\"Times,serif\" font-size=\"14.00\">domain_size</text>\n</g>\n<!-- 6&#45;&gt;4 -->\n<g id=\"edge10\" class=\"edge\">\n<title>6-&gt;4</title>\n<path fill=\"none\" stroke=\"black\" d=\"M719.68,-601.03C749.81,-588.87 798.02,-563.01 798.02,-522 798.02,-522 798.02,-522 798.02,-268.5 798.02,-233.51 595.32,-206.94 455.3,-192.76\"/>\n<polygon fill=\"black\" stroke=\"black\" points=\"455.88,-189.3 445.58,-191.79 455.18,-196.27 455.88,-189.3\"/>\n<text text-anchor=\"middle\" x=\"841.52\" y=\"-382.45\" font-family=\"Times,serif\" font-size=\"14.00\">domain_size</text>\n</g>\n<!-- 7 -->\n<g id=\"node9\" class=\"node\">\n<title>7</title>\n<ellipse fill=\"none\" stroke=\"black\" cx=\"313.02\" cy=\"-610.25\" rx=\"236.92\" ry=\"18\"/>\n<text text-anchor=\"middle\" x=\"313.02\" y=\"-605.58\" font-family=\"Times,serif\" font-size=\"14.00\">/home/jovyan/example_workflows/nfdi/source</text>\n</g>\n<!-- 7&#45;&gt;0 -->\n<g id=\"edge11\" class=\"edge\">\n<title>7-&gt;0</title>\n<path fill=\"none\" stroke=\"black\" d=\"M336.67,-591.9C352.14,-581.02 373.06,-567.18 392.77,-557 402.86,-551.79 413.92,-546.86 424.7,-542.45\"/>\n<polygon fill=\"black\" stroke=\"black\" points=\"425.95,-545.72 433.95,-538.77 423.36,-539.22 425.95,-545.72\"/>\n<text text-anchor=\"middle\" x=\"452.4\" y=\"-560.95\" font-family=\"Times,serif\" font-size=\"14.00\">source_directory</text>\n</g>\n<!-- 7&#45;&gt;2 -->\n<g id=\"edge12\" class=\"edge\">\n<title>7-&gt;2</title>\n<path fill=\"none\" stroke=\"black\" d=\"M308.91,-591.96C301.13,-554.65 288.69,-465.75 332.02,-413.75 350.66,-391.38 375.57,-417.42 395.02,-395.75 400.85,-389.25 403.6,-380.39 404.75,-371.82\"/>\n<polygon fill=\"black\" stroke=\"black\" points=\"408.22,-372.26 405.36,-362.06 401.24,-371.82 408.22,-372.26\"/>\n<text text-anchor=\"middle\" x=\"365.73\" y=\"-471.7\" font-family=\"Times,serif\" font-size=\"14.00\">source_directory</text>\n</g>\n<!-- 7&#45;&gt;3 -->\n<g id=\"edge13\" class=\"edge\">\n<title>7-&gt;3</title>\n<path fill=\"none\" stroke=\"black\" d=\"M199.28,-594.02C161.1,-581.97 128.02,-560.44 128.02,-522 128.02,-522 128.02,-522 128.02,-341.5 128.02,-327.58 128.02,-312.13 128.02,-299.2\"/>\n<polygon fill=\"black\" stroke=\"black\" points=\"131.52,-299.23 128.02,-289.23 124.52,-299.23 131.52,-299.23\"/>\n<text text-anchor=\"middle\" x=\"187.65\" y=\"-427.07\" font-family=\"Times,serif\" font-size=\"14.00\">source_directory</text>\n</g>\n<!-- 7&#45;&gt;4 -->\n<g id=\"edge14\" class=\"edge\">\n<title>7-&gt;4</title>\n<path fill=\"none\" stroke=\"black\" d=\"M305.24,-592.07C302.95,-586.48 300.64,-580.19 299.02,-574.25 275.93,-489.5 260.22,-465.58 271.77,-378.5 279.95,-316.84 301.91,-247.1 314.93,-209.28\"/>\n<polygon fill=\"black\" stroke=\"black\" points=\"318.17,-210.64 318.16,-200.04 311.56,-208.33 318.17,-210.64\"/>\n<text text-anchor=\"middle\" x=\"331.4\" y=\"-382.45\" font-family=\"Times,serif\" font-size=\"14.00\">source_directory</text>\n</g>\n<!-- 7&#45;&gt;5 -->\n<g id=\"edge15\" class=\"edge\">\n<title>7-&gt;5</title>\n<path fill=\"none\" stroke=\"black\" d=\"M493.82,-598.27C561.47,-592.54 624.99,-584.56 637.02,-574.25 655.28,-558.61 651.02,-546.04 651.02,-522 651.02,-522 651.02,-522 651.02,-179.25 651.02,-135.55 540.31,-113.15 447.92,-102.07\"/>\n<polygon fill=\"black\" stroke=\"black\" points=\"448.59,-98.62 438.26,-100.95 447.79,-105.58 448.59,-98.62\"/>\n<text text-anchor=\"middle\" x=\"710.65\" y=\"-337.82\" font-family=\"Times,serif\" font-size=\"14.00\">source_directory</text>\n</g>\n</g>\n</svg>"
     },
     "metadata": {}
    }
   ],
   "execution_count": 2
  },
  {
   "cell_type": "markdown",
   "source": "## Aiida ",
   "metadata": {}
  },
  {
   "cell_type": "code",
   "source": "from python_workflow_definition.aiida import load_workflow_json\n\nfrom aiida import load_profile\nload_profile()",
   "metadata": {
    "trusted": true
   },
   "outputs": [
    {
     "execution_count": 3,
     "output_type": "execute_result",
     "data": {
      "text/plain": "Profile<uuid='3ce302a995914d2e8a7b6327a10fe381' name='pwd'>"
     },
     "metadata": {}
    }
   ],
   "execution_count": 3
  },
  {
   "cell_type": "code",
   "source": "workgraph = load_workflow_json(file_name='workflow.json')",
   "metadata": {
    "trusted": true
   },
   "outputs": [],
   "execution_count": 4
  },
  {
   "cell_type": "code",
   "source": "# TODO: Create inputs rather than tasks out of data nodes\nworkgraph",
   "metadata": {
    "trusted": true
   },
   "outputs": [
    {
     "execution_count": 5,
     "output_type": "execute_result",
     "data": {
      "text/plain": "NodeGraphWidget(settings={'minimap': True}, style={'width': '90%', 'height': '600px'}, value={'name': 'WorkGra…",
      "application/vnd.jupyter.widget-view+json": {
       "version_major": 2,
       "version_minor": 1,
       "model_id": "b9f711f3af4b4f9c9f6260d595667b1d"
      }
     },
     "metadata": {}
    }
   ],
   "execution_count": 5
  },
  {
   "cell_type": "code",
   "source": "\nworkgraph.run()",
   "metadata": {
    "trusted": true
   },
   "outputs": [
    {
     "name": "stderr",
     "output_type": "stream",
     "text": "05/24/2025 05:45:59 AM <5606> aiida.orm.nodes.process.workflow.workchain.WorkChainNode: [REPORT] [111|WorkGraphEngine|continue_workgraph]: tasks ready to run: generate_mesh1\n05/24/2025 05:46:01 AM <5606> aiida.orm.nodes.process.workflow.workchain.WorkChainNode: [REPORT] [111|WorkGraphEngine|update_task_state]: Task: generate_mesh1, type: PyFunction, finished.\n05/24/2025 05:46:01 AM <5606> aiida.orm.nodes.process.workflow.workchain.WorkChainNode: [REPORT] [111|WorkGraphEngine|continue_workgraph]: tasks ready to run: convert_to_xdmf2\n05/24/2025 05:46:03 AM <5606> aiida.orm.nodes.process.workflow.workchain.WorkChainNode: [REPORT] [111|WorkGraphEngine|update_task_state]: Task: convert_to_xdmf2, type: PyFunction, finished.\n05/24/2025 05:46:03 AM <5606> aiida.orm.nodes.process.workflow.workchain.WorkChainNode: [REPORT] [111|WorkGraphEngine|continue_workgraph]: tasks ready to run: poisson3\n05/24/2025 05:46:06 AM <5606> aiida.orm.nodes.process.workflow.workchain.WorkChainNode: [REPORT] [111|WorkGraphEngine|update_task_state]: Task: poisson3, type: PyFunction, finished.\n05/24/2025 05:46:06 AM <5606> aiida.orm.nodes.process.workflow.workchain.WorkChainNode: [REPORT] [111|WorkGraphEngine|continue_workgraph]: tasks ready to run: plot_over_line4\n05/24/2025 05:46:08 AM <5606> aiida.orm.nodes.process.workflow.workchain.WorkChainNode: [REPORT] [111|WorkGraphEngine|update_task_state]: Task: plot_over_line4, type: PyFunction, finished.\n05/24/2025 05:46:08 AM <5606> aiida.orm.nodes.process.workflow.workchain.WorkChainNode: [REPORT] [111|WorkGraphEngine|continue_workgraph]: tasks ready to run: substitute_macros5\n05/24/2025 05:46:09 AM <5606> aiida.orm.nodes.process.workflow.workchain.WorkChainNode: [REPORT] [111|WorkGraphEngine|update_task_state]: Task: substitute_macros5, type: PyFunction, finished.\n05/24/2025 05:46:09 AM <5606> aiida.orm.nodes.process.workflow.workchain.WorkChainNode: [REPORT] [111|WorkGraphEngine|continue_workgraph]: tasks ready to run: compile_paper6\n05/24/2025 05:46:12 AM <5606> aiida.orm.nodes.process.workflow.workchain.WorkChainNode: [REPORT] [111|WorkGraphEngine|update_task_state]: Task: compile_paper6, type: PyFunction, finished.\n05/24/2025 05:46:12 AM <5606> aiida.orm.nodes.process.workflow.workchain.WorkChainNode: [REPORT] [111|WorkGraphEngine|continue_workgraph]: tasks ready to run: \n05/24/2025 05:46:12 AM <5606> aiida.orm.nodes.process.workflow.workchain.WorkChainNode: [REPORT] [111|WorkGraphEngine|finalize]: Finalize workgraph.\n"
    }
   ],
   "execution_count": 6
  },
  {
   "cell_type": "markdown",
   "source": "## executorlib",
   "metadata": {}
  },
  {
   "cell_type": "code",
   "source": "from executorlib import SingleNodeExecutor",
   "metadata": {
    "trusted": true
   },
   "outputs": [],
   "execution_count": 7
  },
  {
   "cell_type": "code",
   "source": "from python_workflow_definition.executorlib import load_workflow_json",
   "metadata": {
    "trusted": true
   },
   "outputs": [],
   "execution_count": 8
  },
  {
   "cell_type": "code",
   "source": "with SingleNodeExecutor(max_workers=1) as exe:\n    result = load_workflow_json(file_name=\"workflow.json\", exe=exe).result()",
   "metadata": {
    "trusted": true
   },
   "outputs": [],
   "execution_count": 9
  },
  {
   "cell_type": "code",
   "source": "result",
   "metadata": {
    "trusted": true
   },
   "outputs": [
    {
     "execution_count": 10,
     "output_type": "execute_result",
     "data": {
      "text/plain": "'/home/jovyan/example_workflows/nfdi/postprocessing/paper.pdf'"
     },
     "metadata": {}
    }
   ],
   "execution_count": 10
  },
  {
   "cell_type": "markdown",
   "source": "## Jobflow",
   "metadata": {}
  },
  {
   "cell_type": "code",
   "source": "from jobflow.managers.local import run_locally",
   "metadata": {
    "trusted": true
   },
   "outputs": [],
   "execution_count": 11
  },
  {
   "cell_type": "code",
   "source": "from python_workflow_definition.jobflow import load_workflow_json",
   "metadata": {
    "trusted": true
   },
   "outputs": [],
   "execution_count": 12
  },
  {
   "cell_type": "code",
   "source": "flow = load_workflow_json(file_name=\"workflow.json\")",
   "metadata": {
    "trusted": true
   },
   "outputs": [],
   "execution_count": 13
  },
  {
   "cell_type": "code",
   "source": "result = run_locally(flow)\nresult",
   "metadata": {
    "trusted": true
   },
   "outputs": [
    {
     "name": "stdout",
     "output_type": "stream",
     "text": "2025-05-24 05:46:27,374 INFO Started executing jobs locally\n2025-05-24 05:46:27,453 INFO Starting job - generate_mesh (e65df967-702e-4def-9172-6be0b3b95604)\n2025-05-24 05:46:28,600 INFO Finished job - generate_mesh (e65df967-702e-4def-9172-6be0b3b95604)\n2025-05-24 05:46:28,601 INFO Starting job - convert_to_xdmf (173b17f6-c6d6-4002-81f3-fdc267be7837)\n2025-05-24 05:46:29,943 INFO Finished job - convert_to_xdmf (173b17f6-c6d6-4002-81f3-fdc267be7837)\n2025-05-24 05:46:29,944 INFO Starting job - poisson (91e67802-de2e-462d-a076-536c2e874b0b)\n2025-05-24 05:46:32,711 INFO Finished job - poisson (91e67802-de2e-462d-a076-536c2e874b0b)\n2025-05-24 05:46:32,712 INFO Starting job - plot_over_line (5094148b-2ae8-4f88-bbf3-73b68fe02fb1)\n2025-05-24 05:46:34,138 INFO Finished job - plot_over_line (5094148b-2ae8-4f88-bbf3-73b68fe02fb1)\n2025-05-24 05:46:34,139 INFO Starting job - substitute_macros (8badd91e-4495-491e-b978-0b1abac4c680)\n2025-05-24 05:46:34,939 INFO Finished job - substitute_macros (8badd91e-4495-491e-b978-0b1abac4c680)\n2025-05-24 05:46:34,940 INFO Starting job - compile_paper (ae640287-0fda-4682-8bd9-da3251f2cd30)\n2025-05-24 05:46:37,022 INFO Finished job - compile_paper (ae640287-0fda-4682-8bd9-da3251f2cd30)\n2025-05-24 05:46:37,024 INFO Finished executing jobs locally\n"
    },
    {
     "execution_count": 14,
     "output_type": "execute_result",
     "data": {
      "text/plain": "{'e65df967-702e-4def-9172-6be0b3b95604': {1: Response(output='/home/jovyan/example_workflows/nfdi/preprocessing/square.msh', detour=None, addition=None, replace=None, stored_data=None, stop_children=False, stop_jobflow=False, job_dir=PosixPath('/home/jovyan/example_workflows/nfdi'))},\n '173b17f6-c6d6-4002-81f3-fdc267be7837': {1: Response(output={'xdmf_file': '/home/jovyan/example_workflows/nfdi/preprocessing/square.xdmf', 'h5_file': '/home/jovyan/example_workflows/nfdi/preprocessing/square.h5'}, detour=None, addition=None, replace=None, stored_data=None, stop_children=False, stop_jobflow=False, job_dir=PosixPath('/home/jovyan/example_workflows/nfdi'))},\n '91e67802-de2e-462d-a076-536c2e874b0b': {1: Response(output={'numdofs': 357, 'pvd_file': '/home/jovyan/example_workflows/nfdi/processing/poisson.pvd', 'vtu_file': '/home/jovyan/example_workflows/nfdi/processing/poisson000000.vtu'}, detour=None, addition=None, replace=None, stored_data=None, stop_children=False, stop_jobflow=False, job_dir=PosixPath('/home/jovyan/example_workflows/nfdi'))},\n '5094148b-2ae8-4f88-bbf3-73b68fe02fb1': {1: Response(output='/home/jovyan/example_workflows/nfdi/postprocessing/plotoverline.csv', detour=None, addition=None, replace=None, stored_data=None, stop_children=False, stop_jobflow=False, job_dir=PosixPath('/home/jovyan/example_workflows/nfdi'))},\n '8badd91e-4495-491e-b978-0b1abac4c680': {1: Response(output='/home/jovyan/example_workflows/nfdi/postprocessing/macros.tex', detour=None, addition=None, replace=None, stored_data=None, stop_children=False, stop_jobflow=False, job_dir=PosixPath('/home/jovyan/example_workflows/nfdi'))},\n 'ae640287-0fda-4682-8bd9-da3251f2cd30': {1: Response(output='/home/jovyan/example_workflows/nfdi/postprocessing/paper.pdf', detour=None, addition=None, replace=None, stored_data=None, stop_children=False, stop_jobflow=False, job_dir=PosixPath('/home/jovyan/example_workflows/nfdi'))}}"
     },
     "metadata": {}
    }
   ],
   "execution_count": 14
  },
  {
   "cell_type": "markdown",
   "source": "## pyiron",
   "metadata": {}
  },
  {
   "cell_type": "code",
   "source": "from python_workflow_definition.pyiron_base import load_workflow_json",
   "metadata": {
    "trusted": true
   },
   "outputs": [],
   "execution_count": 15
  },
  {
   "cell_type": "code",
   "source": "delayed_object_lst = load_workflow_json(file_name=\"workflow.json\")\ndelayed_object_lst[-1].draw()",
   "metadata": {
    "trusted": true
   },
   "outputs": [
    {
     "output_type": "display_data",
     "data": {
      "text/plain": "<IPython.core.display.SVG object>",
      "image/svg+xml": "<svg xmlns=\"http://www.w3.org/2000/svg\" xmlns:xlink=\"http://www.w3.org/1999/xlink\" width=\"3237pt\" height=\"476pt\" viewBox=\"0.00 0.00 3236.99 476.00\">\n<g id=\"graph0\" class=\"graph\" transform=\"scale(1 1) rotate(0) translate(4 472)\">\n<polygon fill=\"white\" stroke=\"none\" points=\"-4,4 -4,-472 3232.99,-472 3232.99,4 -4,4\"/>\n<!-- create_function_job_724cfd00ffeb70f8b463a938195e0447 -->\n<g id=\"node1\" class=\"node\">\n<title>create_function_job_724cfd00ffeb70f8b463a938195e0447</title>\n<ellipse fill=\"none\" stroke=\"black\" cx=\"2477\" cy=\"-18\" rx=\"485.25\" ry=\"18\"/>\n<text text-anchor=\"middle\" x=\"2477\" y=\"-13.32\" font-family=\"Times,serif\" font-size=\"14.00\">create_function_job=&lt;pyiron_base.project.delayed.DelayedObject object at 0x7cace97128d0&gt;</text>\n</g>\n<!-- macros_tex_b52804e5fa845b3657fa99b738e02cf7 -->\n<g id=\"node2\" class=\"node\">\n<title>macros_tex_b52804e5fa845b3657fa99b738e02cf7</title>\n<ellipse fill=\"none\" stroke=\"black\" cx=\"1546\" cy=\"-90\" rx=\"444.74\" ry=\"18\"/>\n<text text-anchor=\"middle\" x=\"1546\" y=\"-85.33\" font-family=\"Times,serif\" font-size=\"14.00\">macros_tex=&lt;pyiron_base.project.delayed.DelayedObject object at 0x7cace9712660&gt;</text>\n</g>\n<!-- macros_tex_b52804e5fa845b3657fa99b738e02cf7&#45;&gt;create_function_job_724cfd00ffeb70f8b463a938195e0447 -->\n<g id=\"edge1\" class=\"edge\">\n<title>macros_tex_b52804e5fa845b3657fa99b738e02cf7-&gt;create_function_job_724cfd00ffeb70f8b463a938195e0447</title>\n<path fill=\"none\" stroke=\"black\" d=\"M1750.89,-73.59C1900.66,-62.33 2103.54,-47.08 2256.77,-35.56\"/>\n<polygon fill=\"black\" stroke=\"black\" points=\"2256.96,-39.05 2266.67,-34.81 2256.44,-32.07 2256.96,-39.05\"/>\n</g>\n<!-- pvbatch_output_file_554a54a50a86b23416c0daf6ab0938df -->\n<g id=\"node3\" class=\"node\">\n<title>pvbatch_output_file_554a54a50a86b23416c0daf6ab0938df</title>\n<ellipse fill=\"none\" stroke=\"black\" cx=\"1546\" cy=\"-162\" rx=\"485.77\" ry=\"18\"/>\n<text text-anchor=\"middle\" x=\"1546\" y=\"-157.32\" font-family=\"Times,serif\" font-size=\"14.00\">pvbatch_output_file=&lt;pyiron_base.project.delayed.DelayedObject object at 0x7cace9712330&gt;</text>\n</g>\n<!-- pvbatch_output_file_554a54a50a86b23416c0daf6ab0938df&#45;&gt;macros_tex_b52804e5fa845b3657fa99b738e02cf7 -->\n<g id=\"edge2\" class=\"edge\">\n<title>pvbatch_output_file_554a54a50a86b23416c0daf6ab0938df-&gt;macros_tex_b52804e5fa845b3657fa99b738e02cf7</title>\n<path fill=\"none\" stroke=\"black\" d=\"M1546,-143.7C1546,-136.41 1546,-127.73 1546,-119.54\"/>\n<polygon fill=\"black\" stroke=\"black\" points=\"1549.5,-119.62 1546,-109.62 1542.5,-119.62 1549.5,-119.62\"/>\n</g>\n<!-- poisson_output_pvd_file_50ce5e5ed091c2b7a77b69e1c1750ad9 -->\n<g id=\"node4\" class=\"node\">\n<title>poisson_output_pvd_file_50ce5e5ed091c2b7a77b69e1c1750ad9</title>\n<ellipse fill=\"none\" stroke=\"black\" cx=\"2400\" cy=\"-234\" rx=\"504.19\" ry=\"18\"/>\n<text text-anchor=\"middle\" x=\"2400\" y=\"-229.32\" font-family=\"Times,serif\" font-size=\"14.00\">poisson_output_pvd_file=&lt;pyiron_base.project.delayed.DelayedObject object at 0x7cace9711fd0&gt;</text>\n</g>\n<!-- poisson_output_pvd_file_50ce5e5ed091c2b7a77b69e1c1750ad9&#45;&gt;pvbatch_output_file_554a54a50a86b23416c0daf6ab0938df -->\n<g id=\"edge3\" class=\"edge\">\n<title>poisson_output_pvd_file_50ce5e5ed091c2b7a77b69e1c1750ad9-&gt;pvbatch_output_file_554a54a50a86b23416c0daf6ab0938df</title>\n<path fill=\"none\" stroke=\"black\" d=\"M2204.34,-216.96C2068.91,-205.86 1888.99,-191.11 1751.47,-179.84\"/>\n<polygon fill=\"black\" stroke=\"black\" points=\"1752.16,-176.39 1741.9,-179.06 1751.58,-183.36 1752.16,-176.39\"/>\n</g>\n<!-- plot_file_554a54a50a86b23416c0daf6ab0938df -->\n<g id=\"node5\" class=\"node\">\n<title>plot_file_554a54a50a86b23416c0daf6ab0938df</title>\n<ellipse fill=\"none\" stroke=\"black\" cx=\"2477\" cy=\"-162\" rx=\"427.38\" ry=\"18\"/>\n<text text-anchor=\"middle\" x=\"2477\" y=\"-157.32\" font-family=\"Times,serif\" font-size=\"14.00\">plot_file=&lt;pyiron_base.project.delayed.DelayedObject object at 0x7cace9712330&gt;</text>\n</g>\n<!-- poisson_output_pvd_file_50ce5e5ed091c2b7a77b69e1c1750ad9&#45;&gt;plot_file_554a54a50a86b23416c0daf6ab0938df -->\n<g id=\"edge4\" class=\"edge\">\n<title>poisson_output_pvd_file_50ce5e5ed091c2b7a77b69e1c1750ad9-&gt;plot_file_554a54a50a86b23416c0daf6ab0938df</title>\n<path fill=\"none\" stroke=\"black\" d=\"M2419.03,-215.7C2428.2,-207.37 2439.35,-197.22 2449.43,-188.07\"/>\n<polygon fill=\"black\" stroke=\"black\" points=\"2451.75,-190.68 2456.8,-181.37 2447.04,-185.5 2451.75,-190.68\"/>\n</g>\n<!-- plot_file_554a54a50a86b23416c0daf6ab0938df&#45;&gt;create_function_job_724cfd00ffeb70f8b463a938195e0447 -->\n<g id=\"edge26\" class=\"edge\">\n<title>plot_file_554a54a50a86b23416c0daf6ab0938df-&gt;create_function_job_724cfd00ffeb70f8b463a938195e0447</title>\n<path fill=\"none\" stroke=\"black\" d=\"M2477,-143.59C2477,-119.61 2477,-76.14 2477,-47.42\"/>\n<polygon fill=\"black\" stroke=\"black\" points=\"2480.5,-47.62 2477,-37.62 2473.5,-47.62 2480.5,-47.62\"/>\n</g>\n<!-- meshio_output_xdmf_52103bbf2f92608bdb3c6bedb045e0e1 -->\n<g id=\"node6\" class=\"node\">\n<title>meshio_output_xdmf_52103bbf2f92608bdb3c6bedb045e0e1</title>\n<ellipse fill=\"none\" stroke=\"black\" cx=\"1186\" cy=\"-306\" rx=\"491.56\" ry=\"18\"/>\n<text text-anchor=\"middle\" x=\"1186\" y=\"-301.32\" font-family=\"Times,serif\" font-size=\"14.00\">meshio_output_xdmf=&lt;pyiron_base.project.delayed.DelayedObject object at 0x7cace9711d60&gt;</text>\n</g>\n<!-- meshio_output_xdmf_52103bbf2f92608bdb3c6bedb045e0e1&#45;&gt;poisson_output_pvd_file_50ce5e5ed091c2b7a77b69e1c1750ad9 -->\n<g id=\"edge5\" class=\"edge\">\n<title>meshio_output_xdmf_52103bbf2f92608bdb3c6bedb045e0e1-&gt;poisson_output_pvd_file_50ce5e5ed091c2b7a77b69e1c1750ad9</title>\n<path fill=\"none\" stroke=\"black\" d=\"M1442.35,-290.22C1644.39,-278.57 1925.33,-262.37 2130.66,-250.53\"/>\n<polygon fill=\"black\" stroke=\"black\" points=\"2130.63,-254.04 2140.41,-249.97 2130.22,-247.05 2130.63,-254.04\"/>\n</g>\n<!-- poisson_output_vtu_file_fdcc35c5e09c1b2a481c5350749d9810 -->\n<g id=\"node7\" class=\"node\">\n<title>poisson_output_vtu_file_fdcc35c5e09c1b2a481c5350749d9810</title>\n<ellipse fill=\"none\" stroke=\"black\" cx=\"1376\" cy=\"-234\" rx=\"501.56\" ry=\"18\"/>\n<text text-anchor=\"middle\" x=\"1376\" y=\"-229.32\" font-family=\"Times,serif\" font-size=\"14.00\">poisson_output_vtu_file=&lt;pyiron_base.project.delayed.DelayedObject object at 0x7cace9711fa0&gt;</text>\n</g>\n<!-- meshio_output_xdmf_52103bbf2f92608bdb3c6bedb045e0e1&#45;&gt;poisson_output_vtu_file_fdcc35c5e09c1b2a481c5350749d9810 -->\n<g id=\"edge6\" class=\"edge\">\n<title>meshio_output_xdmf_52103bbf2f92608bdb3c6bedb045e0e1-&gt;poisson_output_vtu_file_fdcc35c5e09c1b2a481c5350749d9810</title>\n<path fill=\"none\" stroke=\"black\" d=\"M1232.97,-287.7C1258.77,-278.19 1290.99,-266.32 1318.32,-256.25\"/>\n<polygon fill=\"black\" stroke=\"black\" points=\"1319.32,-259.61 1327.5,-252.87 1316.9,-253.04 1319.32,-259.61\"/>\n</g>\n<!-- ndofs_e826761b60042b070e0c0a24b472ee26 -->\n<g id=\"node8\" class=\"node\">\n<title>ndofs_e826761b60042b070e0c0a24b472ee26</title>\n<ellipse fill=\"none\" stroke=\"black\" cx=\"442\" cy=\"-234\" rx=\"414.22\" ry=\"18\"/>\n<text text-anchor=\"middle\" x=\"442\" y=\"-229.32\" font-family=\"Times,serif\" font-size=\"14.00\">ndofs=&lt;pyiron_base.project.delayed.DelayedObject object at 0x7cace97123c0&gt;</text>\n</g>\n<!-- meshio_output_xdmf_52103bbf2f92608bdb3c6bedb045e0e1&#45;&gt;ndofs_e826761b60042b070e0c0a24b472ee26 -->\n<g id=\"edge7\" class=\"edge\">\n<title>meshio_output_xdmf_52103bbf2f92608bdb3c6bedb045e0e1-&gt;ndofs_e826761b60042b070e0c0a24b472ee26</title>\n<path fill=\"none\" stroke=\"black\" d=\"M1012.97,-288.72C895.69,-277.69 741.01,-263.13 622.23,-251.96\"/>\n<polygon fill=\"black\" stroke=\"black\" points=\"622.64,-248.48 612.36,-251.03 621.98,-255.45 622.64,-248.48\"/>\n</g>\n<!-- poisson_output_vtu_file_fdcc35c5e09c1b2a481c5350749d9810&#45;&gt;pvbatch_output_file_554a54a50a86b23416c0daf6ab0938df -->\n<g id=\"edge23\" class=\"edge\">\n<title>poisson_output_vtu_file_fdcc35c5e09c1b2a481c5350749d9810-&gt;pvbatch_output_file_554a54a50a86b23416c0daf6ab0938df</title>\n<path fill=\"none\" stroke=\"black\" d=\"M1418.02,-215.7C1440.81,-206.32 1469.18,-194.63 1493.42,-184.65\"/>\n<polygon fill=\"black\" stroke=\"black\" points=\"1494.56,-187.97 1502.47,-180.92 1491.89,-181.49 1494.56,-187.97\"/>\n</g>\n<!-- poisson_output_vtu_file_fdcc35c5e09c1b2a481c5350749d9810&#45;&gt;plot_file_554a54a50a86b23416c0daf6ab0938df -->\n<g id=\"edge24\" class=\"edge\">\n<title>poisson_output_vtu_file_fdcc35c5e09c1b2a481c5350749d9810-&gt;plot_file_554a54a50a86b23416c0daf6ab0938df</title>\n<path fill=\"none\" stroke=\"black\" d=\"M1615.58,-217.77C1799.3,-206.09 2051.75,-190.04 2235.86,-178.33\"/>\n<polygon fill=\"black\" stroke=\"black\" points=\"2236.06,-181.83 2245.82,-177.7 2235.62,-174.84 2236.06,-181.83\"/>\n</g>\n<!-- ndofs_e826761b60042b070e0c0a24b472ee26&#45;&gt;macros_tex_b52804e5fa845b3657fa99b738e02cf7 -->\n<g id=\"edge25\" class=\"edge\">\n<title>ndofs_e826761b60042b070e0c0a24b472ee26-&gt;macros_tex_b52804e5fa845b3657fa99b738e02cf7</title>\n<path fill=\"none\" stroke=\"black\" d=\"M548.54,-216.16C669.98,-197.27 874.5,-166.34 1051,-144 1156.26,-130.68 1274.39,-117.95 1368.85,-108.3\"/>\n<polygon fill=\"black\" stroke=\"black\" points=\"1369.15,-111.79 1378.74,-107.29 1368.44,-104.82 1369.15,-111.79\"/>\n</g>\n<!-- gmsh_output_file_553a0d07e32ca83a3640e955a7b868a4 -->\n<g id=\"node9\" class=\"node\">\n<title>gmsh_output_file_553a0d07e32ca83a3640e955a7b868a4</title>\n<ellipse fill=\"none\" stroke=\"black\" cx=\"1680\" cy=\"-378\" rx=\"472.62\" ry=\"18\"/>\n<text text-anchor=\"middle\" x=\"1680\" y=\"-373.32\" font-family=\"Times,serif\" font-size=\"14.00\">gmsh_output_file=&lt;pyiron_base.project.delayed.DelayedObject object at 0x7cace97119a0&gt;</text>\n</g>\n<!-- gmsh_output_file_553a0d07e32ca83a3640e955a7b868a4&#45;&gt;meshio_output_xdmf_52103bbf2f92608bdb3c6bedb045e0e1 -->\n<g id=\"edge8\" class=\"edge\">\n<title>gmsh_output_file_553a0d07e32ca83a3640e955a7b868a4-&gt;meshio_output_xdmf_52103bbf2f92608bdb3c6bedb045e0e1</title>\n<path fill=\"none\" stroke=\"black\" d=\"M1560.73,-360.1C1486.98,-349.65 1392.27,-336.23 1316.52,-325.49\"/>\n<polygon fill=\"black\" stroke=\"black\" points=\"1317.38,-322.08 1306.98,-324.14 1316.39,-329.01 1317.38,-322.08\"/>\n</g>\n<!-- meshio_output_h5_0e11ecf3d5834e399bb91f99309bf3fe -->\n<g id=\"node10\" class=\"node\">\n<title>meshio_output_h5_0e11ecf3d5834e399bb91f99309bf3fe</title>\n<ellipse fill=\"none\" stroke=\"black\" cx=\"2174\" cy=\"-306\" rx=\"478.94\" ry=\"18\"/>\n<text text-anchor=\"middle\" x=\"2174\" y=\"-301.32\" font-family=\"Times,serif\" font-size=\"14.00\">meshio_output_h5=&lt;pyiron_base.project.delayed.DelayedObject object at 0x7cace9711d30&gt;</text>\n</g>\n<!-- gmsh_output_file_553a0d07e32ca83a3640e955a7b868a4&#45;&gt;meshio_output_h5_0e11ecf3d5834e399bb91f99309bf3fe -->\n<g id=\"edge9\" class=\"edge\">\n<title>gmsh_output_file_553a0d07e32ca83a3640e955a7b868a4-&gt;meshio_output_h5_0e11ecf3d5834e399bb91f99309bf3fe</title>\n<path fill=\"none\" stroke=\"black\" d=\"M1799.27,-360.1C1873.15,-349.63 1968.08,-336.18 2043.9,-325.44\"/>\n<polygon fill=\"black\" stroke=\"black\" points=\"2044.03,-328.95 2053.44,-324.08 2043.05,-322.02 2044.03,-328.95\"/>\n</g>\n<!-- meshio_output_h5_0e11ecf3d5834e399bb91f99309bf3fe&#45;&gt;poisson_output_pvd_file_50ce5e5ed091c2b7a77b69e1c1750ad9 -->\n<g id=\"edge20\" class=\"edge\">\n<title>meshio_output_h5_0e11ecf3d5834e399bb91f99309bf3fe-&gt;poisson_output_pvd_file_50ce5e5ed091c2b7a77b69e1c1750ad9</title>\n<path fill=\"none\" stroke=\"black\" d=\"M2229.87,-287.7C2261.1,-278.02 2300.25,-265.9 2333.11,-255.72\"/>\n<polygon fill=\"black\" stroke=\"black\" points=\"2334.03,-259.1 2342.55,-252.79 2331.96,-252.41 2334.03,-259.1\"/>\n</g>\n<!-- meshio_output_h5_0e11ecf3d5834e399bb91f99309bf3fe&#45;&gt;poisson_output_vtu_file_fdcc35c5e09c1b2a481c5350749d9810 -->\n<g id=\"edge21\" class=\"edge\">\n<title>meshio_output_h5_0e11ecf3d5834e399bb91f99309bf3fe-&gt;poisson_output_vtu_file_fdcc35c5e09c1b2a481c5350749d9810</title>\n<path fill=\"none\" stroke=\"black\" d=\"M1990.67,-288.92C1865.48,-277.94 1699.8,-263.4 1572,-252.19\"/>\n<polygon fill=\"black\" stroke=\"black\" points=\"1572.3,-248.71 1562.04,-251.32 1571.69,-255.68 1572.3,-248.71\"/>\n</g>\n<!-- meshio_output_h5_0e11ecf3d5834e399bb91f99309bf3fe&#45;&gt;ndofs_e826761b60042b070e0c0a24b472ee26 -->\n<g id=\"edge22\" class=\"edge\">\n<title>meshio_output_h5_0e11ecf3d5834e399bb91f99309bf3fe-&gt;ndofs_e826761b60042b070e0c0a24b472ee26</title>\n<path fill=\"none\" stroke=\"black\" d=\"M1856.32,-292.16C1541,-279.42 1060.91,-260.01 749.27,-247.42\"/>\n<polygon fill=\"black\" stroke=\"black\" points=\"749.44,-243.92 739.3,-247.02 749.16,-250.92 749.44,-243.92\"/>\n</g>\n<!-- domain_size_f12a7f1986b9dd058dfc666dbe230b20 -->\n<g id=\"node11\" class=\"node\">\n<title>domain_size_f12a7f1986b9dd058dfc666dbe230b20</title>\n<ellipse fill=\"none\" stroke=\"black\" cx=\"840\" cy=\"-450\" rx=\"96.45\" ry=\"18\"/>\n<text text-anchor=\"middle\" x=\"840\" y=\"-445.32\" font-family=\"Times,serif\" font-size=\"14.00\">domain_size=2.0</text>\n</g>\n<!-- domain_size_f12a7f1986b9dd058dfc666dbe230b20&#45;&gt;macros_tex_b52804e5fa845b3657fa99b738e02cf7 -->\n<g id=\"edge10\" class=\"edge\">\n<title>domain_size_f12a7f1986b9dd058dfc666dbe230b20-&gt;macros_tex_b52804e5fa845b3657fa99b738e02cf7</title>\n<path fill=\"none\" stroke=\"black\" d=\"M750.11,-443.14C533.41,-427.81 0,-382.43 0,-307 0,-307 0,-307 0,-233 0,-55.01 618.6,-158.49 796,-144 966.38,-130.09 1158.72,-116.54 1305.96,-106.62\"/>\n<polygon fill=\"black\" stroke=\"black\" points=\"1306.12,-110.12 1315.86,-105.96 1305.65,-103.14 1306.12,-110.12\"/>\n</g>\n<!-- domain_size_f12a7f1986b9dd058dfc666dbe230b20&#45;&gt;gmsh_output_file_553a0d07e32ca83a3640e955a7b868a4 -->\n<g id=\"edge11\" class=\"edge\">\n<title>domain_size_f12a7f1986b9dd058dfc666dbe230b20-&gt;gmsh_output_file_553a0d07e32ca83a3640e955a7b868a4</title>\n<path fill=\"none\" stroke=\"black\" d=\"M926.73,-441.77C1055.79,-431.02 1302.04,-410.5 1477.85,-395.85\"/>\n<polygon fill=\"black\" stroke=\"black\" points=\"1477.88,-399.36 1487.56,-395.04 1477.3,-392.38 1477.88,-399.36\"/>\n</g>\n<!-- source_directory_053958014e7cd4a4df22cfa51c9fc696 -->\n<g id=\"node12\" class=\"node\">\n<title>source_directory_053958014e7cd4a4df22cfa51c9fc696</title>\n<ellipse fill=\"none\" stroke=\"black\" cx=\"2900\" cy=\"-450\" rx=\"328.99\" ry=\"18\"/>\n<text text-anchor=\"middle\" x=\"2900\" y=\"-445.32\" font-family=\"Times,serif\" font-size=\"14.00\">source_directory=/home/jovyan/example_workflows/nfdi/source</text>\n</g>\n<!-- source_directory_053958014e7cd4a4df22cfa51c9fc696&#45;&gt;create_function_job_724cfd00ffeb70f8b463a938195e0447 -->\n<g id=\"edge12\" class=\"edge\">\n<title>source_directory_053958014e7cd4a4df22cfa51c9fc696-&gt;create_function_job_724cfd00ffeb70f8b463a938195e0447</title>\n<path fill=\"none\" stroke=\"black\" d=\"M2942.08,-431.67C2959.89,-422.87 2979.96,-410.87 2995,-396 3027.42,-363.95 3046,-352.59 3046,-307 3046,-307 3046,-307 3046,-161 3046,-88.91 2871.91,-53.13 2716.32,-35.54\"/>\n<polygon fill=\"black\" stroke=\"black\" points=\"2716.98,-32.09 2706.66,-34.47 2716.21,-39.05 2716.98,-32.09\"/>\n</g>\n<!-- source_directory_053958014e7cd4a4df22cfa51c9fc696&#45;&gt;macros_tex_b52804e5fa845b3657fa99b738e02cf7 -->\n<g id=\"edge13\" class=\"edge\">\n<title>source_directory_053958014e7cd4a4df22cfa51c9fc696-&gt;macros_tex_b52804e5fa845b3657fa99b738e02cf7</title>\n<path fill=\"none\" stroke=\"black\" d=\"M2927.65,-431.63C2940.84,-422.3 2956.09,-409.87 2967,-396 2993.93,-361.77 3008,-350.55 3008,-307 3008,-307 3008,-307 3008,-233 3008,-175.14 2966.38,-166.31 2913,-144 2829.66,-109.18 2362.73,-97.03 1997.48,-92.9\"/>\n<polygon fill=\"black\" stroke=\"black\" points=\"1997.72,-89.4 1987.68,-92.79 1997.64,-96.4 1997.72,-89.4\"/>\n</g>\n<!-- source_directory_053958014e7cd4a4df22cfa51c9fc696&#45;&gt;pvbatch_output_file_554a54a50a86b23416c0daf6ab0938df -->\n<g id=\"edge14\" class=\"edge\">\n<title>source_directory_053958014e7cd4a4df22cfa51c9fc696-&gt;pvbatch_output_file_554a54a50a86b23416c0daf6ab0938df</title>\n<path fill=\"none\" stroke=\"black\" d=\"M2908.34,-431.75C2927.81,-388.71 2970.44,-275.71 2913,-216 2908.63,-211.45 2307.01,-189.56 1903.45,-175.38\"/>\n<polygon fill=\"black\" stroke=\"black\" points=\"1903.79,-171.89 1893.68,-175.03 1903.55,-178.88 1903.79,-171.89\"/>\n</g>\n<!-- source_directory_053958014e7cd4a4df22cfa51c9fc696&#45;&gt;poisson_output_pvd_file_50ce5e5ed091c2b7a77b69e1c1750ad9 -->\n<g id=\"edge15\" class=\"edge\">\n<title>source_directory_053958014e7cd4a4df22cfa51c9fc696-&gt;poisson_output_pvd_file_50ce5e5ed091c2b7a77b69e1c1750ad9</title>\n<path fill=\"none\" stroke=\"black\" d=\"M2894.23,-431.59C2881.98,-397.58 2849.88,-322.65 2795,-288 2768.31,-271.15 2710.49,-259.58 2647.11,-251.67\"/>\n<polygon fill=\"black\" stroke=\"black\" points=\"2647.91,-248.24 2637.56,-250.51 2647.07,-255.19 2647.91,-248.24\"/>\n</g>\n<!-- source_directory_053958014e7cd4a4df22cfa51c9fc696&#45;&gt;plot_file_554a54a50a86b23416c0daf6ab0938df -->\n<g id=\"edge19\" class=\"edge\">\n<title>source_directory_053958014e7cd4a4df22cfa51c9fc696-&gt;plot_file_554a54a50a86b23416c0daf6ab0938df</title>\n<path fill=\"none\" stroke=\"black\" d=\"M2920.82,-431.62C2930.46,-422.2 2940.89,-409.7 2946,-396 2973.99,-321.06 2999.3,-275.66 2946,-216 2930.56,-198.72 2837.17,-186.36 2737.74,-177.95\"/>\n<polygon fill=\"black\" stroke=\"black\" points=\"2738.3,-174.48 2728.05,-177.14 2737.72,-181.46 2738.3,-174.48\"/>\n</g>\n<!-- source_directory_053958014e7cd4a4df22cfa51c9fc696&#45;&gt;poisson_output_vtu_file_fdcc35c5e09c1b2a481c5350749d9810 -->\n<g id=\"edge17\" class=\"edge\">\n<title>source_directory_053958014e7cd4a4df22cfa51c9fc696-&gt;poisson_output_vtu_file_fdcc35c5e09c1b2a481c5350749d9810</title>\n<path fill=\"none\" stroke=\"black\" d=\"M2882.21,-431.65C2845.05,-396.7 2754.87,-318.57 2662,-288 2640.1,-280.79 2111.69,-260.84 1739.12,-247.58\"/>\n<polygon fill=\"black\" stroke=\"black\" points=\"1739.5,-244.09 1729.38,-247.23 1739.25,-251.09 1739.5,-244.09\"/>\n</g>\n<!-- source_directory_053958014e7cd4a4df22cfa51c9fc696&#45;&gt;ndofs_e826761b60042b070e0c0a24b472ee26 -->\n<g id=\"edge18\" class=\"edge\">\n<title>source_directory_053958014e7cd4a4df22cfa51c9fc696-&gt;ndofs_e826761b60042b070e0c0a24b472ee26</title>\n<path fill=\"none\" stroke=\"black\" d=\"M2571.12,-449.3C2227.86,-447.14 1674.26,-436.72 1198,-396 968.6,-376.39 908.34,-379.9 685,-324 616.32,-306.81 540.12,-277.06 491.68,-256.73\"/>\n<polygon fill=\"black\" stroke=\"black\" points=\"493.15,-253.55 482.57,-252.87 490.42,-259.99 493.15,-253.55\"/>\n</g>\n<!-- source_directory_053958014e7cd4a4df22cfa51c9fc696&#45;&gt;gmsh_output_file_553a0d07e32ca83a3640e955a7b868a4 -->\n<g id=\"edge16\" class=\"edge\">\n<title>source_directory_053958014e7cd4a4df22cfa51c9fc696-&gt;gmsh_output_file_553a0d07e32ca83a3640e955a7b868a4</title>\n<path fill=\"none\" stroke=\"black\" d=\"M2678.71,-436.3C2472.56,-424.47 2164.88,-406.82 1945.56,-394.24\"/>\n<polygon fill=\"black\" stroke=\"black\" points=\"1945.9,-390.75 1935.72,-393.67 1945.5,-397.74 1945.9,-390.75\"/>\n</g>\n</g>\n</svg>"
     },
     "metadata": {}
    }
   ],
   "execution_count": 16
  },
  {
   "cell_type": "code",
   "source": "delayed_object_lst[-1].pull()",
   "metadata": {
    "trusted": true
   },
   "outputs": [
    {
     "name": "stdout",
     "output_type": "stream",
     "text": "The job generate_mesh_47725c16637f799ac042e47468005db3 was saved and received the ID: 1\nThe job convert_to_xdmf_d6a46eb9a4ec352aa996e783ec3c785f was saved and received the ID: 2\nThe job poisson_3c147fc86db87cf0c0f94bda333f8cd8 was saved and received the ID: 3\nThe job plot_over_line_ef50933291910dadcc8311924971e127 was saved and received the ID: 4\nThe job substitute_macros_63766eafd6b1980c7832dd8c9a97c96e was saved and received the ID: 5\nThe job compile_paper_128d1d58374953c00e95b8de62cbb10b was saved and received the ID: 6\n"
    },
    {
     "execution_count": 17,
     "output_type": "execute_result",
     "data": {
      "text/plain": "'/home/jovyan/example_workflows/nfdi/postprocessing/paper.pdf'"
     },
     "metadata": {}
    }
   ],
   "execution_count": 17
  },
  {
   "metadata": {},
   "cell_type": "markdown",
   "source": "## Load Workflow with pyiron_workflow"
  },
  {
   "metadata": {},
   "cell_type": "code",
   "outputs": [],
   "execution_count": null,
   "source": "from python_workflow_definition.pyiron_workflow import load_workflow_json"
  },
  {
   "metadata": {},
   "cell_type": "code",
   "outputs": [],
   "execution_count": null,
   "source": "wf = load_workflow_json(file_name=\"workflow.json\")"
  },
  {
   "metadata": {},
   "cell_type": "code",
   "outputs": [],
   "execution_count": null,
   "source": "wf.draw(size=(10,10))"
  },
  {
   "metadata": {},
   "cell_type": "code",
   "outputs": [],
   "execution_count": null,
   "source": "wf.run()"
  },
  {
   "metadata": {},
   "cell_type": "markdown",
   "source": "## Python"
  },
  {
   "cell_type": "code",
   "source": "from python_workflow_definition.purepython import load_workflow_json",
   "metadata": {
    "trusted": true
   },
   "outputs": [],
   "execution_count": 18
  },
  {
   "cell_type": "code",
   "source": "load_workflow_json(file_name=\"workflow.json\")",
   "metadata": {
    "trusted": true
   },
   "outputs": [
    {
     "execution_count": 19,
     "output_type": "execute_result",
     "data": {
      "text/plain": "'/home/jovyan/example_workflows/nfdi/postprocessing/paper.pdf'"
     },
     "metadata": {}
    }
   ],
   "execution_count": 19
  }
 ]
}
