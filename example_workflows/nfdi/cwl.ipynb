{
 "metadata": {
  "kernelspec": {
   "display_name": "Python 3 (ipykernel)",
   "language": "python",
   "name": "python3"
  },
  "language_info": {
   "name": "python",
   "version": "3.12.8",
   "mimetype": "text/x-python",
   "codemirror_mode": {
    "name": "ipython",
    "version": 3
   },
   "pygments_lexer": "ipython3",
   "nbconvert_exporter": "python",
   "file_extension": ".py"
  }
 },
 "nbformat_minor": 5,
 "nbformat": 4,
 "cells": [
  {
   "id": "377fef56-484d-491c-b19e-1be6931e44eb",
   "cell_type": "code",
   "source": "import pickle",
   "metadata": {
    "trusted": true
   },
   "outputs": [],
   "execution_count": 1
  },
  {
   "id": "2033dda1-dc7a-4f96-b1bd-90505b0ec555",
   "cell_type": "code",
   "source": "import json",
   "metadata": {
    "trusted": true
   },
   "outputs": [],
   "execution_count": 2
  },
  {
   "id": "60cb8ace-acb0-47b4-b0bc-bb54d00d19dd",
   "cell_type": "code",
   "source": "import os",
   "metadata": {
    "trusted": true
   },
   "outputs": [],
   "execution_count": 3
  },
  {
   "id": "92e3921b-2bb8-4333-8cfe-4bd27f785d24",
   "cell_type": "code",
   "source": "from python_workflow_definition.cwl import write_workflow",
   "metadata": {
    "trusted": true
   },
   "outputs": [],
   "execution_count": 4
  },
  {
   "id": "b0cf73b9-ea21-4437-8d2a-c51b65bbfa86",
   "cell_type": "markdown",
   "source": "# Overwrite source directory with absolute path",
   "metadata": {}
  },
  {
   "id": "bca61d32-89dd-4df7-92da-fee1a157df5a",
   "cell_type": "code",
   "source": "with open(\"workflow.json\") as f:\n    content = json.load(f)",
   "metadata": {
    "trusted": true
   },
   "outputs": [],
   "execution_count": 5
  },
  {
   "id": "8392fa04-4fb3-496e-9387-0106c872fb98",
   "cell_type": "code",
   "source": "node_lst = []\nfor n in content[\"nodes\"]:\n    if 'name' in n and n['name'] == 'source_directory':\n        n[\"value\"] = os.path.abspath(n[\"value\"])\n    node_lst.append(n)\n\ncontent[\"nodes\"] = node_lst",
   "metadata": {
    "trusted": true
   },
   "outputs": [],
   "execution_count": 6
  },
  {
   "id": "e53c7769-28bb-4d8e-b3a4-02298818a001",
   "cell_type": "code",
   "source": "with open(\"workflow.json\", \"w\") as f:\n    json.dump(content, f)",
   "metadata": {
    "trusted": true
   },
   "outputs": [],
   "execution_count": 7
  },
  {
   "id": "a9540ba7-f15a-4d04-86aa-0cf2ad4ac185",
   "cell_type": "markdown",
   "source": "# Execute workflow",
   "metadata": {}
  },
  {
   "id": "5303c059-8ae4-4557-858e-b4bd64eac711",
   "cell_type": "code",
   "source": "write_workflow(file_name=\"workflow.json\")",
   "metadata": {
    "trusted": true
   },
   "outputs": [],
   "execution_count": 8
  },
  {
   "id": "df302bd2-e9b6-4595-979c-67c46414d986",
   "cell_type": "code",
   "source": "! cwltool --preserve-environment=CONDA_EXE workflow.cwl workflow.yml",
   "metadata": {
    "trusted": true
   },
   "outputs": [
    {
     "name": "stdout",
     "output_type": "stream",
     "text": "/srv/conda/envs/notebook/bin/cwltool:11: DeprecationWarning: Nesting argument groups is deprecated.\n  sys.exit(run())\n\u001B[1;30mINFO\u001B[0m /srv/conda/envs/notebook/bin/cwltool 3.1.20250110105449\n\u001B[1;30mINFO\u001B[0m Resolved 'workflow.cwl' to 'file:///home/jovyan/example_workflows/nfdi/workflow.cwl'\n\u001B[1;30mINFO\u001B[0m [workflow ] start\n\u001B[1;30mINFO\u001B[0m [workflow ] starting step generate_mesh_0\n\u001B[1;30mINFO\u001B[0m [step generate_mesh_0] start\n\u001B[1;30mINFO\u001B[0m [job generate_mesh_0] /tmp/xjzxjjxg$ python \\\n    -m \\\n    python_workflow_definition.cwl \\\n    --workflowfile=/tmp/lint8hha/stgaa9fa1cf-dae6-4402-aa25-3da9289e3937/workflow.py \\\n    --function=workflow.generate_mesh \\\n    --arg_domain_size=/tmp/lint8hha/stg94834a09-0454-4ad4-bc93-b8f3a1dc72f4/domain_size.pickle \\\n    --arg_source_directory=/tmp/lint8hha/stg03fa6508-a0ea-4379-97b1-e3815dfe7395/source_directory.pickle\n\u001B[1;30mINFO\u001B[0m [job generate_mesh_0] Max memory used: 60MiB\n\u001B[1;30mINFO\u001B[0m [job generate_mesh_0] completed success\n\u001B[1;30mINFO\u001B[0m [step generate_mesh_0] completed success\n\u001B[1;30mINFO\u001B[0m [workflow ] starting step convert_to_xdmf_1\n\u001B[1;30mINFO\u001B[0m [step convert_to_xdmf_1] start\n\u001B[1;30mINFO\u001B[0m [job convert_to_xdmf_1] /tmp/q47niux0$ python \\\n    -m \\\n    python_workflow_definition.cwl \\\n    --workflowfile=/tmp/pd0inpeh/stg928009b1-efc5-45d7-9746-e1af8d96f0c5/workflow.py \\\n    --function=workflow.convert_to_xdmf \\\n    --arg_gmsh_output_file=/tmp/pd0inpeh/stg03750262-f7c4-4bb9-b558-0b7ea0a54cf3/result.pickle\n\u001B[1;30mINFO\u001B[0m [job convert_to_xdmf_1] Max memory used: 69MiB\n\u001B[1;30mINFO\u001B[0m [job convert_to_xdmf_1] completed success\n\u001B[1;30mINFO\u001B[0m [step convert_to_xdmf_1] completed success\n\u001B[1;30mINFO\u001B[0m [workflow ] starting step poisson_2\n\u001B[1;30mINFO\u001B[0m [step poisson_2] start\n\u001B[1;30mINFO\u001B[0m [job poisson_2] /tmp/e045_wvq$ python \\\n    -m \\\n    python_workflow_definition.cwl \\\n    --workflowfile=/tmp/rsa0i3o4/stgfd3d067f-0d0e-46b6-8b1c-e63a936cca99/workflow.py \\\n    --function=workflow.poisson \\\n    --arg_meshio_output_xdmf=/tmp/rsa0i3o4/stgebd53ba4-dbbc-4769-b359-f1f95611d02d/xdmf_file.pickle \\\n    --arg_meshio_output_h5=/tmp/rsa0i3o4/stga4bcfd98-5bf0-4da3-b1e6-a4d55a00cc30/h5_file.pickle \\\n    --arg_source_directory=/tmp/rsa0i3o4/stg003e0d81-81e0-4138-9e97-103a910c925e/source_directory.pickle\n\u001B[1;30mINFO\u001B[0m [job poisson_2] Max memory used: 81MiB\n\u001B[1;30mINFO\u001B[0m [job poisson_2] completed success\n\u001B[1;30mINFO\u001B[0m [step poisson_2] completed success\n\u001B[1;30mINFO\u001B[0m [workflow ] starting step plot_over_line_3\n\u001B[1;30mINFO\u001B[0m [step plot_over_line_3] start\n\u001B[1;30mINFO\u001B[0m [job plot_over_line_3] /tmp/0tov09ih$ python \\\n    -m \\\n    python_workflow_definition.cwl \\\n    --workflowfile=/tmp/z9a5oiuc/stgcde66eb7-274f-4ae3-833b-c8d99fe3bbb1/workflow.py \\\n    --function=workflow.plot_over_line \\\n    --arg_poisson_output_vtu_file=/tmp/z9a5oiuc/stg144f313e-e286-4800-a3d2-86a6cae36a98/vtu_file.pickle \\\n    --arg_source_directory=/tmp/z9a5oiuc/stg224c0c40-7cb8-4f1c-921c-013809fb5cbf/source_directory.pickle \\\n    --arg_poisson_output_pvd_file=/tmp/z9a5oiuc/stgc4c75ca6-aab0-40be-bfbd-f432d3523d2b/pvd_file.pickle\n\u001B[1;30mINFO\u001B[0m [job plot_over_line_3] Max memory used: 68MiB\n\u001B[1;30mINFO\u001B[0m [job plot_over_line_3] completed success\n\u001B[1;30mINFO\u001B[0m [step plot_over_line_3] completed success\n\u001B[1;30mINFO\u001B[0m [workflow ] starting step substitute_macros_4\n\u001B[1;30mINFO\u001B[0m [step substitute_macros_4] start\n\u001B[1;30mINFO\u001B[0m [job substitute_macros_4] /tmp/08mfe8f0$ python \\\n    -m \\\n    python_workflow_definition.cwl \\\n    --workflowfile=/tmp/5valbs4a/stg15353150-ebc3-49de-93a8-564a25f33270/workflow.py \\\n    --function=workflow.substitute_macros \\\n    --arg_domain_size=/tmp/5valbs4a/stg0734ab21-1efd-480b-ba2b-cea9ed24012e/domain_size.pickle \\\n    --arg_source_directory=/tmp/5valbs4a/stg0c79cde6-159f-4b82-bdb9-aabef8678f9f/source_directory.pickle \\\n    --arg_ndofs=/tmp/5valbs4a/stg770f9cb7-d2c3-4ce5-bc00-7a9cdb11d64d/numdofs.pickle \\\n    --arg_pvbatch_output_file=/tmp/5valbs4a/stgdd978452-6c84-4308-abf6-7ae2609fc91d/result.pickle\n\u001B[1;30mINFO\u001B[0m [job substitute_macros_4] Max memory used: 60MiB\n\u001B[1;30mINFO\u001B[0m [job substitute_macros_4] completed success\n\u001B[1;30mINFO\u001B[0m [step substitute_macros_4] completed success\n\u001B[1;30mINFO\u001B[0m [workflow ] starting step compile_paper_5\n\u001B[1;30mINFO\u001B[0m [step compile_paper_5] start\n\u001B[1;30mINFO\u001B[0m [job compile_paper_5] /tmp/hjjeng16$ python \\\n    -m \\\n    python_workflow_definition.cwl \\\n    --workflowfile=/tmp/3bq2mxdl/stg34a5d902-97c3-43f1-95eb-5e14d0c68386/workflow.py \\\n    --function=workflow.compile_paper \\\n    --arg_macros_tex=/tmp/3bq2mxdl/stg184e0acf-5138-4b37-97f0-ba406ed71433/result.pickle \\\n    --arg_plot_file=/tmp/3bq2mxdl/stg2360c6e9-26ec-43f5-99a2-26c05668b2fa/result.pickle \\\n    --arg_source_directory=/tmp/3bq2mxdl/stg7194b36e-38db-4ef7-af5d-368e9575f15f/source_directory.pickle\n\u001B[1;30mINFO\u001B[0m [job compile_paper_5] Max memory used: 265MiB\n\u001B[1;30mINFO\u001B[0m [job compile_paper_5] completed success\n\u001B[1;30mINFO\u001B[0m [step compile_paper_5] completed success\n\u001B[1;30mINFO\u001B[0m [workflow ] completed success\n{\n    \"result_file\": {\n        \"location\": \"file:///home/jovyan/example_workflows/nfdi/result.pickle\",\n        \"basename\": \"result.pickle\",\n        \"class\": \"File\",\n        \"checksum\": \"sha1$a23617d3f4b4e6970b7f4fb9eb4d2148f9888e58\",\n        \"size\": 53,\n        \"path\": \"/home/jovyan/example_workflows/nfdi/result.pickle\"\n    }\n}\u001B[1;30mINFO\u001B[0m Final process status is success\n"
    }
   ],
   "execution_count": 9
  },
  {
   "id": "2942dbba-ea0a-4d20-be5c-ed9992d09ff8",
   "cell_type": "code",
   "source": "with open(\"result.pickle\", \"rb\") as f:\n    print(pickle.load(f))",
   "metadata": {
    "trusted": true
   },
   "outputs": [
    {
     "name": "stdout",
     "output_type": "stream",
     "text": "/tmp/hjjeng16/postprocessing/paper.pdf\n"
    }
   ],
   "execution_count": 10
  },
  {
   "id": "60e909ee-d0d0-4bd1-81c8-dd5274ae5834",
   "cell_type": "code",
   "source": "",
   "metadata": {
    "trusted": true
   },
   "outputs": [],
   "execution_count": null
  }
 ]
}
