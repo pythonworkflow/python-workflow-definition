{
 "cells": [
  {
   "cell_type": "markdown",
   "id": "0",
   "metadata": {},
   "source": [
    "# pyiron\n",
    "\n",
    "https://github.com/BAMresearch/NFDI4IngScientificWorkflowRequirements"
   ]
  },
  {
   "cell_type": "markdown",
   "id": "1",
   "metadata": {},
   "source": [
    "## Define workflow with pyiron_workflow"
   ]
  },
  {
   "cell_type": "code",
   "execution_count": null,
   "id": "2",
   "metadata": {},
   "outputs": [],
   "source": [
    "import os"
   ]
  },
  {
   "cell_type": "code",
   "execution_count": null,
   "id": "3",
   "metadata": {},
   "outputs": [],
   "source": [
    "from workflow import (\n",
    "    generate_mesh as _generate_mesh, \n",
    "    convert_to_xdmf as _convert_to_xdmf,\n",
    "    poisson as _poisson,\n",
    "    plot_over_line as _plot_over_line,\n",
    "    substitute_macros as _substitute_macros,\n",
    "    compile_paper as _compile_paper,\n",
    ")"
   ]
  },
  {
   "cell_type": "code",
   "execution_count": null,
   "id": "4",
   "metadata": {},
   "outputs": [],
   "source": [
    "from pyiron_workflow import Workflow, to_function_node\n",
    "\n",
    "from python_workflow_definition.pyiron_workflow import write_workflow_json"
   ]
  },
  {
   "cell_type": "code",
   "execution_count": null,
   "id": "5",
   "metadata": {},
   "outputs": [],
   "source": [
    "generate_mesh = to_function_node(\"generate_mesh\", _generate_mesh, \"generate_mesh\")\n",
    "convert_to_xdmf = to_function_node(\"convert_to_xdmf\", _convert_to_xdmf, \"convert_to_xdmf\")\n",
    "poisson = to_function_node(\"poisson\", _poisson, \"poisson\")\n",
    "plot_over_line = to_function_node(\"plot_over_line\", _plot_over_line, \"plot_over_line\")\n",
    "substitute_macros = to_function_node(\"substitute_macros\", _substitute_macros, \"substitute_macros\")\n",
    "compile_paper = to_function_node(\"compile_paper\", _compile_paper, \"compile_paper\")"
   ]
  },
  {
   "cell_type": "code",
   "execution_count": null,
   "id": "6",
   "metadata": {},
   "outputs": [],
   "source": [
    "wf = Workflow(\"my_workflow\")"
   ]
  },
  {
   "cell_type": "code",
   "execution_count": null,
   "id": "7",
   "metadata": {},
   "outputs": [],
   "source": [
    "wf.domain_size = 2.0"
   ]
  },
  {
   "cell_type": "code",
   "execution_count": null,
   "id": "8",
   "metadata": {},
   "outputs": [],
   "source": [
    "wf.source_directory = os.path.abspath(os.path.join(os.curdir, \"source\"))"
   ]
  },
  {
   "cell_type": "code",
   "execution_count": null,
   "id": "9",
   "metadata": {
    "tags": []
   },
   "outputs": [],
   "source": [
    "wf.gmsh_output_file = generate_mesh(\n",
    "    domain_size=wf.domain_size,\n",
    "    source_directory=wf.source_directory,\n",
    ")"
   ]
  },
  {
   "cell_type": "code",
   "execution_count": null,
   "id": "10",
   "metadata": {
    "tags": []
   },
   "outputs": [],
   "source": [
    "wf.meshio_output_dict = convert_to_xdmf(\n",
    "    gmsh_output_file=wf.gmsh_output_file,\n",
    ")"
   ]
  },
  {
   "cell_type": "code",
   "execution_count": null,
   "id": "11",
   "metadata": {
    "tags": []
   },
   "outputs": [],
   "source": [
    "wf.poisson_dict = poisson(\n",
    "    meshio_output_xdmf=wf.meshio_output_dict[\"xdmf_file\"], \n",
    "    meshio_output_h5=wf.meshio_output_dict[\"h5_file\"],\n",
    "    source_directory=wf.source_directory,\n",
    ")"
   ]
  },
  {
   "cell_type": "code",
   "execution_count": null,
   "id": "12",
   "metadata": {
    "tags": []
   },
   "outputs": [],
   "source": [
    "wf.pvbatch_output_file = plot_over_line(\n",
    "    poisson_output_pvd_file=wf.poisson_dict[\"pvd_file\"], \n",
    "    poisson_output_vtu_file=wf.poisson_dict[\"vtu_file\"],\n",
    "    source_directory=wf.source_directory,\n",
    ")"
   ]
  },
  {
   "cell_type": "code",
   "execution_count": null,
   "id": "13",
   "metadata": {
    "tags": []
   },
   "outputs": [],
   "source": [
    "wf.macros_tex_file = substitute_macros( \n",
    "    pvbatch_output_file=wf.pvbatch_output_file, \n",
    "    ndofs=wf.poisson_dict[\"numdofs\"], \n",
    "    domain_size=wf.domain_size,\n",
    "    source_directory=wf.source_directory,\n",
    ")"
   ]
  },
  {
   "cell_type": "code",
   "execution_count": null,
   "id": "14",
   "metadata": {},
   "outputs": [],
   "source": [
    "wf.paper_output = compile_paper(\n",
    "    macros_tex=wf.macros_tex_file, \n",
    "    plot_file=wf.pvbatch_output_file,\n",
    "    source_directory=wf.source_directory,\n",
    ")"
   ]
  },
  {
   "cell_type": "code",
   "execution_count": null,
   "id": "15",
   "metadata": {},
   "outputs": [],
   "source": [
    "wf.draw(size=(10,10))"
   ]
  },
  {
   "cell_type": "code",
   "execution_count": null,
   "id": "16",
   "metadata": {},
   "outputs": [],
   "source": [
    "workflow_json_filename = \"pyiron_workflow_nfdi.json\""
   ]
  },
  {
   "cell_type": "code",
   "execution_count": null,
   "id": "17",
   "metadata": {},
   "outputs": [],
   "source": [
    "write_workflow_json(graph_as_dict=wf.graph_as_dict, file_name=workflow_json_filename)"
   ]
  },
  {
   "cell_type": "markdown",
   "id": "18",
   "metadata": {},
   "source": [
    "## Load Workflow with aiida"
   ]
  },
  {
   "cell_type": "code",
   "execution_count": null,
   "id": "19",
   "metadata": {},
   "outputs": [],
   "source": [
    "from aiida import load_profile\n",
    "\n",
    "load_profile()"
   ]
  },
  {
   "cell_type": "code",
   "execution_count": null,
   "id": "20",
   "metadata": {},
   "outputs": [],
   "source": [
    "from python_workflow_definition.aiida import load_workflow_json"
   ]
  },
  {
   "cell_type": "code",
   "execution_count": null,
   "id": "21",
   "metadata": {},
   "outputs": [],
   "source": [
    "wg = load_workflow_json(file_name=workflow_json_filename)\n",
    "wg"
   ]
  },
  {
   "cell_type": "code",
   "execution_count": null,
   "id": "22",
   "metadata": {},
   "outputs": [],
   "source": [
    "wg.run()"
   ]
  },
  {
   "cell_type": "markdown",
   "id": "23",
   "metadata": {},
   "source": [
    "## Load Workflow with jobflow"
   ]
  },
  {
   "cell_type": "code",
   "execution_count": null,
   "id": "24",
   "metadata": {},
   "outputs": [],
   "source": [
    "from python_workflow_definition.jobflow import load_workflow_json"
   ]
  },
  {
   "cell_type": "code",
   "execution_count": null,
   "id": "25",
   "metadata": {},
   "outputs": [],
   "source": [
    "from jobflow.managers.local import run_locally"
   ]
  },
  {
   "cell_type": "code",
   "execution_count": null,
   "id": "26",
   "metadata": {},
   "outputs": [],
   "source": [
    "flow = load_workflow_json(file_name=workflow_json_filename)"
   ]
  },
  {
   "cell_type": "code",
   "execution_count": null,
   "id": "27",
   "metadata": {},
   "outputs": [],
   "source": [
    "result = run_locally(flow)\n",
    "result"
   ]
  },
  {
   "cell_type": "markdown",
   "id": "28",
   "metadata": {},
   "source": [
    "## Load Workflow with pyiron_base"
   ]
  },
  {
   "cell_type": "code",
   "execution_count": null,
   "id": "29",
   "metadata": {},
   "outputs": [],
   "source": [
    "from python_workflow_definition.pyiron_base import load_workflow_json"
   ]
  },
  {
   "cell_type": "code",
   "execution_count": null,
   "id": "30",
   "metadata": {},
   "outputs": [],
   "source": [
    "delayed_object_lst = load_workflow_json(file_name=workflow_json_filename)\n",
    "delayed_object_lst[-1].draw()"
   ]
  },
  {
   "cell_type": "code",
   "execution_count": null,
   "id": "31",
   "metadata": {},
   "outputs": [],
   "source": [
    "delayed_object_lst[-1].pull()"
   ]
  },
  {
   "cell_type": "code",
   "execution_count": null,
   "id": "32",
   "metadata": {},
   "outputs": [],
   "source": []
  }
 ],
 "metadata": {},
 "nbformat": 4,
 "nbformat_minor": 5
}
