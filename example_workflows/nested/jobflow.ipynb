{
 "cells": [
  {
   "metadata": {},
   "cell_type": "code",
   "outputs": [],
   "execution_count": null,
   "source": [
    "from python_workflow_definition.jobflow import load_workflow_json\n",
    "\n",
    "flow=load_workflow_json(\"main.pwd.json\")\n",
    "\n",
    "from jobflow import run_locally\n",
    "flow.draw_graph(figsize=(3, 3)).show()\n",
    "print(flow.as_dict())\n",
    "print(run_locally(flow))"
   ],
   "id": "d9504baf7f5e0362"
  }
 ],
 "metadata": {
  "kernelspec": {
   "display_name": "Python 3",
   "language": "python",
   "name": "python3"
  },
  "language_info": {
   "codemirror_mode": {
    "name": "ipython",
    "version": 2
   },
   "file_extension": ".py",
   "mimetype": "text/x-python",
   "name": "python",
   "nbconvert_exporter": "python",
   "pygments_lexer": "ipython2",
   "version": "2.7.6"
  }
 },
 "nbformat": 4,
 "nbformat_minor": 5
}
