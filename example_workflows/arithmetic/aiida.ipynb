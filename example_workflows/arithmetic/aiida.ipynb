{
 "metadata": {
  "kernelspec": {
   "display_name": "Python 3 (ipykernel)",
   "language": "python",
   "name": "python3"
  },
  "language_info": {
   "codemirror_mode": {
    "name": "ipython",
    "version": 3
   },
   "file_extension": ".py",
   "mimetype": "text/x-python",
   "name": "python",
   "nbconvert_exporter": "python",
   "pygments_lexer": "ipython3",
   "version": "3.12.8"
  }
 },
 "nbformat_minor": 4,
 "nbformat": 4,
 "cells": [
  {
   "cell_type": "markdown",
   "source": "# Aiida",
   "metadata": {}
  },
  {
   "cell_type": "markdown",
   "source": "## Define workflow with aiida",
   "metadata": {}
  },
  {
   "cell_type": "code",
   "source": [
    "from python_workflow_definition.aiida import write_workflow_json\n",
    "\n",
    "from aiida_workgraph import WorkGraph, task\n",
    "from aiida import orm, load_profile\n",
    "load_profile()\n",
    "\n",
    "workflow_json_filename =  \"aiida_simple.json\""
   ],
   "metadata": {
    "trusted": true
   },
   "outputs": [],
   "execution_count": 1
  },
  {
   "cell_type": "code",
   "source": [
    "from workflow import (\n",
    "    get_sum as _get_sum,\n",
    "    get_prod_and_div as _get_prod_and_div,\n",
    "    get_square as _get_square,\n",
    ")"
   ],
   "metadata": {
    "trusted": true
   },
   "outputs": [],
   "execution_count": 2
  },
  {
   "cell_type": "code",
   "source": "wg = WorkGraph(\"arithmetic\")",
   "metadata": {
    "trusted": true
   },
   "outputs": [],
   "execution_count": 3
  },
  {
   "cell_type": "code",
   "source": "get_prod_and_div_task = wg.add_task(\n    task(outputs=['prod', 'div'])(_get_prod_and_div),\n    x=orm.Float(1),\n    y=orm.Float(2),\n)",
   "metadata": {
    "trusted": true
   },
   "outputs": [],
   "execution_count": 4
  },
  {
   "cell_type": "code",
   "source": "get_sum_task = wg.add_task(\n    _get_sum,\n    x=get_prod_and_div_task.outputs.prod,\n    y=get_prod_and_div_task.outputs.div,\n)",
   "metadata": {
    "trusted": true
   },
   "outputs": [],
   "execution_count": 5
  },
  {
   "cell_type": "code",
   "source": "get_square_task = wg.add_task(\n    _get_square,\n    x=get_sum_task.outputs.result,\n)",
   "metadata": {
    "trusted": true
   },
   "outputs": [],
   "execution_count": 6
  },
  {
   "cell_type": "code",
   "source": "write_workflow_json(wg=wg, file_name=workflow_json_filename)",
   "metadata": {
    "trusted": true
   },
   "outputs": [],
   "execution_count": 7
  },
  {
   "cell_type": "code",
   "source": "!cat {workflow_json_filename}",
   "metadata": {
    "trusted": true
   },
   "outputs": [
    {
     "name": "stdout",
     "output_type": "stream",
     "text": "{\n  \"version\": \"0.1.0\",\n  \"nodes\": [\n    {\n      \"id\": 0,\n      \"type\": \"function\",\n      \"value\": \"workflow.get_prod_and_div\"\n    },\n    {\n      \"id\": 1,\n      \"type\": \"function\",\n      \"value\": \"workflow.get_sum\"\n    },\n    {\n      \"id\": 2,\n      \"type\": \"function\",\n      \"value\": \"workflow.get_square\"\n    },\n    {\n      \"id\": 3,\n      \"type\": \"input\",\n      \"name\": \"x\",\n      \"value\": 1.0\n    },\n    {\n      \"id\": 4,\n      \"type\": \"input\",\n      \"name\": \"y\",\n      \"value\": 2.0\n    },\n    {\n      \"id\": 5,\n      \"type\": \"output\",\n      \"name\": \"result\"\n    }\n  ],\n  \"edges\": [\n    {\n      \"target\": 1,\n      \"targetPort\": \"x\",\n      \"source\": 0,\n      \"sourcePort\": \"prod\"\n    },\n    {\n      \"target\": 1,\n      \"targetPort\": \"y\",\n      \"source\": 0,\n      \"sourcePort\": \"div\"\n    },\n    {\n      \"target\": 2,\n      \"targetPort\": \"x\",\n      \"source\": 1,\n      \"sourcePort\": null\n    },\n    {\n      \"target\": 0,\n      \"targetPort\": \"x\",\n      \"source\": 3,\n      \"sourcePort\": null\n    },\n    {\n      \"target\": 0,\n      \"targetPort\": \"y\",\n      \"source\": 4,\n      \"sourcePort\": null\n    },\n    {\n      \"target\": 5,\n      \"targetPort\": null,\n      \"source\": 2,\n      \"sourcePort\": null\n    }\n  ]\n}"
    }
   ],
   "execution_count": 8
  },
  {
   "cell_type": "markdown",
   "source": "## Load Workflow with jobflow",
   "metadata": {}
  },
  {
   "cell_type": "code",
   "source": "from python_workflow_definition.jobflow import load_workflow_json",
   "metadata": {
    "trusted": true
   },
   "outputs": [],
   "execution_count": 9
  },
  {
   "cell_type": "code",
   "source": "from jobflow.managers.local import run_locally",
   "metadata": {
    "trusted": true
   },
   "outputs": [],
   "execution_count": 10
  },
  {
   "cell_type": "code",
   "source": "flow = load_workflow_json(file_name=workflow_json_filename)",
   "metadata": {
    "trusted": true
   },
   "outputs": [],
   "execution_count": 11
  },
  {
   "cell_type": "code",
   "source": "result = run_locally(flow)\nresult",
   "metadata": {
    "trusted": true
   },
   "outputs": [
    {
     "name": "stdout",
     "output_type": "stream",
     "text": "2025-05-24 05:37:36,950 INFO Started executing jobs locally\n2025-05-24 05:37:37,216 INFO Starting job - get_prod_and_div (3ea26df7-3e4f-4541-a399-52684f0d763e)\n2025-05-24 05:37:37,218 INFO Finished job - get_prod_and_div (3ea26df7-3e4f-4541-a399-52684f0d763e)\n2025-05-24 05:37:37,219 INFO Starting job - get_sum (8d0957e4-21b1-433e-8e9a-b2af7b2d9b6d)\n2025-05-24 05:37:37,220 INFO Finished job - get_sum (8d0957e4-21b1-433e-8e9a-b2af7b2d9b6d)\n2025-05-24 05:37:37,221 INFO Starting job - get_square (af8ae958-4ce4-4b1f-a5df-eb7768a9aa86)\n2025-05-24 05:37:37,223 INFO Finished job - get_square (af8ae958-4ce4-4b1f-a5df-eb7768a9aa86)\n2025-05-24 05:37:37,223 INFO Finished executing jobs locally\n"
    },
    {
     "execution_count": 12,
     "output_type": "execute_result",
     "data": {
      "text/plain": "{'3ea26df7-3e4f-4541-a399-52684f0d763e': {1: Response(output={'prod': 2.0, 'div': 0.5}, detour=None, addition=None, replace=None, stored_data=None, stop_children=False, stop_jobflow=False, job_dir=PosixPath('/home/jovyan/example_workflows/arithmetic'))},\n '8d0957e4-21b1-433e-8e9a-b2af7b2d9b6d': {1: Response(output=2.5, detour=None, addition=None, replace=None, stored_data=None, stop_children=False, stop_jobflow=False, job_dir=PosixPath('/home/jovyan/example_workflows/arithmetic'))},\n 'af8ae958-4ce4-4b1f-a5df-eb7768a9aa86': {1: Response(output=6.25, detour=None, addition=None, replace=None, stored_data=None, stop_children=False, stop_jobflow=False, job_dir=PosixPath('/home/jovyan/example_workflows/arithmetic'))}}"
     },
     "metadata": {}
    }
   ],
   "execution_count": 12
  },
  {
   "cell_type": "markdown",
   "source": "## Load Workflow with pyiron_base",
   "metadata": {}
  },
  {
   "cell_type": "code",
   "source": "from python_workflow_definition.pyiron_base import load_workflow_json",
   "metadata": {
    "trusted": true
   },
   "outputs": [],
   "execution_count": 13
  },
  {
   "cell_type": "code",
   "source": "delayed_object_lst = load_workflow_json(file_name=workflow_json_filename)\ndelayed_object_lst[-1].draw()",
   "metadata": {
    "trusted": true
   },
   "outputs": [
    {
     "output_type": "display_data",
     "data": {
      "text/plain": "<IPython.core.display.SVG object>",
      "image/svg+xml": "<svg xmlns=\"http://www.w3.org/2000/svg\" xmlns:xlink=\"http://www.w3.org/1999/xlink\" width=\"1606pt\" height=\"260pt\" viewBox=\"0.00 0.00 1605.52 260.00\">\n<g id=\"graph0\" class=\"graph\" transform=\"scale(1 1) rotate(0) translate(4 256)\">\n<polygon fill=\"white\" stroke=\"none\" points=\"-4,4 -4,-256 1601.52,-256 1601.52,4 -4,4\"/>\n<!-- create_function_job_9e748c1c8cdef9464869503612dbb8dd -->\n<g id=\"node1\" class=\"node\">\n<title>create_function_job_9e748c1c8cdef9464869503612dbb8dd</title>\n<ellipse fill=\"none\" stroke=\"black\" cx=\"797.18\" cy=\"-18\" rx=\"486.83\" ry=\"18\"/>\n<text text-anchor=\"middle\" x=\"797.18\" y=\"-13.32\" font-family=\"Times,serif\" font-size=\"14.00\">create_function_job=&lt;pyiron_base.project.delayed.DelayedObject object at 0x7960e32575c0&gt;</text>\n</g>\n<!-- x_a067a96e1de754e11581b419c5c1d4dd -->\n<g id=\"node2\" class=\"node\">\n<title>x_a067a96e1de754e11581b419c5c1d4dd</title>\n<ellipse fill=\"none\" stroke=\"black\" cx=\"797.18\" cy=\"-90\" rx=\"396.34\" ry=\"18\"/>\n<text text-anchor=\"middle\" x=\"797.18\" y=\"-85.33\" font-family=\"Times,serif\" font-size=\"14.00\">x=&lt;pyiron_base.project.delayed.DelayedObject object at 0x7960e3257350&gt;</text>\n</g>\n<!-- x_a067a96e1de754e11581b419c5c1d4dd&#45;&gt;create_function_job_9e748c1c8cdef9464869503612dbb8dd -->\n<g id=\"edge1\" class=\"edge\">\n<title>x_a067a96e1de754e11581b419c5c1d4dd-&gt;create_function_job_9e748c1c8cdef9464869503612dbb8dd</title>\n<path fill=\"none\" stroke=\"black\" d=\"M797.18,-71.7C797.18,-64.41 797.18,-55.73 797.18,-47.54\"/>\n<polygon fill=\"black\" stroke=\"black\" points=\"800.68,-47.62 797.18,-37.62 793.68,-47.62 800.68,-47.62\"/>\n</g>\n<!-- x_e71e72d9c42ba1008579078b6c079655 -->\n<g id=\"node3\" class=\"node\">\n<title>x_e71e72d9c42ba1008579078b6c079655</title>\n<ellipse fill=\"none\" stroke=\"black\" cx=\"393.18\" cy=\"-162\" rx=\"393.18\" ry=\"18\"/>\n<text text-anchor=\"middle\" x=\"393.18\" y=\"-157.32\" font-family=\"Times,serif\" font-size=\"14.00\">x=&lt;pyiron_base.project.delayed.DelayedObject object at 0x7960ec8cc9b0&gt;</text>\n</g>\n<!-- x_e71e72d9c42ba1008579078b6c079655&#45;&gt;x_a067a96e1de754e11581b419c5c1d4dd -->\n<g id=\"edge2\" class=\"edge\">\n<title>x_e71e72d9c42ba1008579078b6c079655-&gt;x_a067a96e1de754e11581b419c5c1d4dd</title>\n<path fill=\"none\" stroke=\"black\" d=\"M490.72,-144.1C550.4,-133.76 626.87,-120.51 688.49,-109.83\"/>\n<polygon fill=\"black\" stroke=\"black\" points=\"689.07,-113.28 698.32,-108.13 687.87,-106.39 689.07,-113.28\"/>\n</g>\n<!-- x_974924ff998969b91bfc8b2db5f854a1 -->\n<g id=\"node4\" class=\"node\">\n<title>x_974924ff998969b91bfc8b2db5f854a1</title>\n<ellipse fill=\"none\" stroke=\"black\" cx=\"747.18\" cy=\"-234\" rx=\"41.21\" ry=\"18\"/>\n<text text-anchor=\"middle\" x=\"747.18\" y=\"-229.32\" font-family=\"Times,serif\" font-size=\"14.00\">x=1.0</text>\n</g>\n<!-- x_974924ff998969b91bfc8b2db5f854a1&#45;&gt;x_e71e72d9c42ba1008579078b6c079655 -->\n<g id=\"edge3\" class=\"edge\">\n<title>x_974924ff998969b91bfc8b2db5f854a1-&gt;x_e71e72d9c42ba1008579078b6c079655</title>\n<path fill=\"none\" stroke=\"black\" d=\"M710.3,-225.71C658.67,-215.5 563.02,-196.58 490.22,-182.19\"/>\n<polygon fill=\"black\" stroke=\"black\" points=\"491.17,-178.81 480.68,-180.3 489.81,-185.68 491.17,-178.81\"/>\n</g>\n<!-- y_49c159de63f318f02b04278442feee05 -->\n<g id=\"node5\" class=\"node\">\n<title>y_49c159de63f318f02b04278442feee05</title>\n<ellipse fill=\"none\" stroke=\"black\" cx=\"1201.18\" cy=\"-162\" rx=\"396.34\" ry=\"18\"/>\n<text text-anchor=\"middle\" x=\"1201.18\" y=\"-157.32\" font-family=\"Times,serif\" font-size=\"14.00\">y=&lt;pyiron_base.project.delayed.DelayedObject object at 0x7960e3257020&gt;</text>\n</g>\n<!-- x_974924ff998969b91bfc8b2db5f854a1&#45;&gt;y_49c159de63f318f02b04278442feee05 -->\n<g id=\"edge4\" class=\"edge\">\n<title>x_974924ff998969b91bfc8b2db5f854a1-&gt;y_49c159de63f318f02b04278442feee05</title>\n<path fill=\"none\" stroke=\"black\" d=\"M785.5,-227.09C850.03,-217.14 982.96,-196.65 1081.21,-181.5\"/>\n<polygon fill=\"black\" stroke=\"black\" points=\"1081.56,-184.99 1090.91,-180 1080.49,-178.07 1081.56,-184.99\"/>\n</g>\n<!-- y_49c159de63f318f02b04278442feee05&#45;&gt;x_a067a96e1de754e11581b419c5c1d4dd -->\n<g id=\"edge7\" class=\"edge\">\n<title>y_49c159de63f318f02b04278442feee05-&gt;x_a067a96e1de754e11581b419c5c1d4dd</title>\n<path fill=\"none\" stroke=\"black\" d=\"M1103.64,-144.1C1043.96,-133.76 967.49,-120.51 905.87,-109.83\"/>\n<polygon fill=\"black\" stroke=\"black\" points=\"906.49,-106.39 896.04,-108.13 905.29,-113.28 906.49,-106.39\"/>\n</g>\n<!-- y_f12a7f1986b9dd058dfc666dbe230b20 -->\n<g id=\"node6\" class=\"node\">\n<title>y_f12a7f1986b9dd058dfc666dbe230b20</title>\n<ellipse fill=\"none\" stroke=\"black\" cx=\"1024.18\" cy=\"-234\" rx=\"41.21\" ry=\"18\"/>\n<text text-anchor=\"middle\" x=\"1024.18\" y=\"-229.32\" font-family=\"Times,serif\" font-size=\"14.00\">y=2.0</text>\n</g>\n<!-- y_f12a7f1986b9dd058dfc666dbe230b20&#45;&gt;x_e71e72d9c42ba1008579078b6c079655 -->\n<g id=\"edge5\" class=\"edge\">\n<title>y_f12a7f1986b9dd058dfc666dbe230b20-&gt;x_e71e72d9c42ba1008579078b6c079655</title>\n<path fill=\"none\" stroke=\"black\" d=\"M984.71,-228.62C899.58,-219.18 694.72,-196.45 550.03,-180.4\"/>\n<polygon fill=\"black\" stroke=\"black\" points=\"550.68,-176.95 540.35,-179.33 549.91,-183.91 550.68,-176.95\"/>\n</g>\n<!-- y_f12a7f1986b9dd058dfc666dbe230b20&#45;&gt;y_49c159de63f318f02b04278442feee05 -->\n<g id=\"edge6\" class=\"edge\">\n<title>y_f12a7f1986b9dd058dfc666dbe230b20-&gt;y_49c159de63f318f02b04278442feee05</title>\n<path fill=\"none\" stroke=\"black\" d=\"M1053.81,-221.28C1079.16,-211.26 1116.31,-196.56 1146.97,-184.44\"/>\n<polygon fill=\"black\" stroke=\"black\" points=\"1148.09,-187.76 1156.1,-180.83 1145.52,-181.25 1148.09,-187.76\"/>\n</g>\n</g>\n</svg>"
     },
     "metadata": {}
    }
   ],
   "execution_count": 14
  },
  {
   "cell_type": "code",
   "source": "delayed_object_lst[-1].pull()",
   "metadata": {
    "trusted": true
   },
   "outputs": [
    {
     "name": "stdout",
     "output_type": "stream",
     "text": "The job get_prod_and_div_4729edf2c689ca4cf512acd163c98b28 was saved and received the ID: 1\nThe job get_sum_25f72a559657d0b1549593792391953e was saved and received the ID: 2\nThe job get_square_9cc2f0545498916d7720c59c1120a66d was saved and received the ID: 3\n"
    },
    {
     "execution_count": 15,
     "output_type": "execute_result",
     "data": {
      "text/plain": "6.25"
     },
     "metadata": {}
    }
   ],
   "execution_count": 15
  },
  {
   "metadata": {},
   "cell_type": "markdown",
   "source": "## Load Workflow with pyiron_workflow"
  },
  {
   "metadata": {},
   "cell_type": "code",
   "outputs": [],
   "execution_count": null,
   "source": "from python_workflow_definition.pyiron_workflow import load_workflow_json"
  },
  {
   "metadata": {},
   "cell_type": "code",
   "outputs": [],
   "execution_count": null,
   "source": "wf = load_workflow_json(file_name=workflow_json_filename)"
  },
  {
   "metadata": {},
   "cell_type": "code",
   "outputs": [],
   "execution_count": null,
   "source": "wf.draw(size=(10,10))"
  },
  {
   "metadata": {},
   "cell_type": "code",
   "outputs": [],
   "execution_count": null,
   "source": "wf.run()"
  }
 ]
}
