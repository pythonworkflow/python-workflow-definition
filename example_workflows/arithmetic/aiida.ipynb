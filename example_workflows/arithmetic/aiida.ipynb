{
 "cells": [
  {
   "cell_type": "markdown",
   "metadata": {},
   "source": [
    "# Aiida"
   ]
  },
  {
   "cell_type": "markdown",
   "metadata": {},
   "source": [
    "## Define workflow with aiida"
   ]
  },
  {
   "cell_type": "code",
   "execution_count": 1,
   "metadata": {},
   "outputs": [],
   "source": [
    "from python_workflow_definition.aiida import write_workflow_json\n",
    "\n",
    "from aiida_workgraph import WorkGraph, task\n",
    "from aiida import orm, load_profile\n",
    "load_profile()\n",
    "\n",
    "workflow_json_filename =  \"aiida_simple.json\""
   ]
  },
  {
   "cell_type": "code",
   "execution_count": 2,
   "metadata": {},
   "outputs": [],
   "source": [
    "from workflow import (\n",
    "    get_sum as _get_sum,\n",
    "    get_prod_and_div as _get_prod_and_div,\n",
    "    get_square as _get_square,\n",
    ")"
   ]
  },
  {
   "cell_type": "code",
   "execution_count": 3,
   "metadata": {},
   "outputs": [],
   "source": [
    "wg = WorkGraph(\"arithmetic\")"
   ]
  },
  {
   "cell_type": "code",
   "execution_count": 4,
   "metadata": {},
   "outputs": [],
   "source": [
    "get_prod_and_div_task = wg.add_task(\n",
    "    task(outputs=['prod', 'div'])(_get_prod_and_div),\n",
    "    x=orm.Float(1),\n",
    "    y=orm.Float(2),\n",
    ")"
   ]
  },
  {
   "cell_type": "code",
   "execution_count": 5,
   "metadata": {},
   "outputs": [],
   "source": [
    "get_sum_task = wg.add_task(\n",
    "    _get_sum,\n",
    "    x=get_prod_and_div_task.outputs.prod,\n",
    "    y=get_prod_and_div_task.outputs.div,\n",
    ")"
   ]
  },
  {
   "cell_type": "code",
   "execution_count": 6,
   "metadata": {},
   "outputs": [],
   "source": [
    "get_square_task = wg.add_task(\n",
    "    _get_square,\n",
    "    x=get_sum_task.outputs.result,\n",
    ")"
   ]
  },
  {
   "cell_type": "code",
   "execution_count": 7,
   "metadata": {},
   "outputs": [],
   "source": [
    "write_workflow_json(wg=wg, file_name=workflow_json_filename)"
   ]
  },
  {
   "cell_type": "code",
   "execution_count": 8,
   "metadata": {},
   "outputs": [
    {
     "name": "stdout",
     "output_type": "stream",
     "text": [
      "\u001b[38;5;238m───────┬────────────────────────────────────────────────────────────────────────\u001b[0m\n",
      "       \u001b[38;5;238m│ \u001b[0mFile: \u001b[1maiida_simple.json\u001b[0m\n",
      "\u001b[38;5;238m───────┼────────────────────────────────────────────────────────────────────────\u001b[0m\n",
      "\u001b[38;5;238m   1\u001b[0m   \u001b[38;5;238m│\u001b[0m \u001b[38;5;231m{\u001b[0m\n",
      "\u001b[38;5;238m   2\u001b[0m   \u001b[38;5;238m│\u001b[0m \u001b[38;5;231m  \u001b[0m\u001b[38;5;208m\"\u001b[0m\u001b[38;5;208mversion\u001b[0m\u001b[38;5;208m\"\u001b[0m\u001b[38;5;231m:\u001b[0m\u001b[38;5;231m \u001b[0m\u001b[38;5;186m\"\u001b[0m\u001b[38;5;186m0.1.0\u001b[0m\u001b[38;5;186m\"\u001b[0m\u001b[38;5;231m,\u001b[0m\n",
      "\u001b[38;5;238m   3\u001b[0m   \u001b[38;5;238m│\u001b[0m \u001b[38;5;231m  \u001b[0m\u001b[38;5;208m\"\u001b[0m\u001b[38;5;208mnodes\u001b[0m\u001b[38;5;208m\"\u001b[0m\u001b[38;5;231m:\u001b[0m\u001b[38;5;231m \u001b[0m\u001b[38;5;231m[\u001b[0m\n",
      "\u001b[38;5;238m   4\u001b[0m   \u001b[38;5;238m│\u001b[0m \u001b[38;5;231m    \u001b[0m\u001b[38;5;231m{\u001b[0m\n",
      "\u001b[38;5;238m   5\u001b[0m   \u001b[38;5;238m│\u001b[0m \u001b[38;5;231m      \u001b[0m\u001b[38;5;208m\"\u001b[0m\u001b[38;5;208mid\u001b[0m\u001b[38;5;208m\"\u001b[0m\u001b[38;5;231m:\u001b[0m\u001b[38;5;231m \u001b[0m\u001b[38;5;141m0\u001b[0m\u001b[38;5;231m,\u001b[0m\n",
      "\u001b[38;5;238m   6\u001b[0m   \u001b[38;5;238m│\u001b[0m \u001b[38;5;231m      \u001b[0m\u001b[38;5;208m\"\u001b[0m\u001b[38;5;208mtype\u001b[0m\u001b[38;5;208m\"\u001b[0m\u001b[38;5;231m:\u001b[0m\u001b[38;5;231m \u001b[0m\u001b[38;5;186m\"\u001b[0m\u001b[38;5;186mfunction\u001b[0m\u001b[38;5;186m\"\u001b[0m\u001b[38;5;231m,\u001b[0m\n",
      "\u001b[38;5;238m   7\u001b[0m   \u001b[38;5;238m│\u001b[0m \u001b[38;5;231m      \u001b[0m\u001b[38;5;208m\"\u001b[0m\u001b[38;5;208mvalue\u001b[0m\u001b[38;5;208m\"\u001b[0m\u001b[38;5;231m:\u001b[0m\u001b[38;5;231m \u001b[0m\u001b[38;5;186m\"\u001b[0m\u001b[38;5;186mworkflow.get_prod_and_div\u001b[0m\u001b[38;5;186m\"\u001b[0m\n",
      "\u001b[38;5;238m   8\u001b[0m   \u001b[38;5;238m│\u001b[0m \u001b[38;5;231m    \u001b[0m\u001b[38;5;231m}\u001b[0m\u001b[38;5;231m,\u001b[0m\n",
      "\u001b[38;5;238m   9\u001b[0m   \u001b[38;5;238m│\u001b[0m \u001b[38;5;231m    \u001b[0m\u001b[38;5;231m{\u001b[0m\n",
      "\u001b[38;5;238m  10\u001b[0m   \u001b[38;5;238m│\u001b[0m \u001b[38;5;231m      \u001b[0m\u001b[38;5;208m\"\u001b[0m\u001b[38;5;208mid\u001b[0m\u001b[38;5;208m\"\u001b[0m\u001b[38;5;231m:\u001b[0m\u001b[38;5;231m \u001b[0m\u001b[38;5;141m1\u001b[0m\u001b[38;5;231m,\u001b[0m\n",
      "\u001b[38;5;238m  11\u001b[0m   \u001b[38;5;238m│\u001b[0m \u001b[38;5;231m      \u001b[0m\u001b[38;5;208m\"\u001b[0m\u001b[38;5;208mtype\u001b[0m\u001b[38;5;208m\"\u001b[0m\u001b[38;5;231m:\u001b[0m\u001b[38;5;231m \u001b[0m\u001b[38;5;186m\"\u001b[0m\u001b[38;5;186mfunction\u001b[0m\u001b[38;5;186m\"\u001b[0m\u001b[38;5;231m,\u001b[0m\n",
      "\u001b[38;5;238m  12\u001b[0m   \u001b[38;5;238m│\u001b[0m \u001b[38;5;231m      \u001b[0m\u001b[38;5;208m\"\u001b[0m\u001b[38;5;208mvalue\u001b[0m\u001b[38;5;208m\"\u001b[0m\u001b[38;5;231m:\u001b[0m\u001b[38;5;231m \u001b[0m\u001b[38;5;186m\"\u001b[0m\u001b[38;5;186mworkflow.get_sum\u001b[0m\u001b[38;5;186m\"\u001b[0m\n",
      "\u001b[38;5;238m  13\u001b[0m   \u001b[38;5;238m│\u001b[0m \u001b[38;5;231m    \u001b[0m\u001b[38;5;231m}\u001b[0m\u001b[38;5;231m,\u001b[0m\n",
      "\u001b[38;5;238m  14\u001b[0m   \u001b[38;5;238m│\u001b[0m \u001b[38;5;231m    \u001b[0m\u001b[38;5;231m{\u001b[0m\n",
      "\u001b[38;5;238m  15\u001b[0m   \u001b[38;5;238m│\u001b[0m \u001b[38;5;231m      \u001b[0m\u001b[38;5;208m\"\u001b[0m\u001b[38;5;208mid\u001b[0m\u001b[38;5;208m\"\u001b[0m\u001b[38;5;231m:\u001b[0m\u001b[38;5;231m \u001b[0m\u001b[38;5;141m2\u001b[0m\u001b[38;5;231m,\u001b[0m\n",
      "\u001b[38;5;238m  16\u001b[0m   \u001b[38;5;238m│\u001b[0m \u001b[38;5;231m      \u001b[0m\u001b[38;5;208m\"\u001b[0m\u001b[38;5;208mtype\u001b[0m\u001b[38;5;208m\"\u001b[0m\u001b[38;5;231m:\u001b[0m\u001b[38;5;231m \u001b[0m\u001b[38;5;186m\"\u001b[0m\u001b[38;5;186mfunction\u001b[0m\u001b[38;5;186m\"\u001b[0m\u001b[38;5;231m,\u001b[0m\n",
      "\u001b[38;5;238m  17\u001b[0m   \u001b[38;5;238m│\u001b[0m \u001b[38;5;231m      \u001b[0m\u001b[38;5;208m\"\u001b[0m\u001b[38;5;208mvalue\u001b[0m\u001b[38;5;208m\"\u001b[0m\u001b[38;5;231m:\u001b[0m\u001b[38;5;231m \u001b[0m\u001b[38;5;186m\"\u001b[0m\u001b[38;5;186mworkflow.get_square\u001b[0m\u001b[38;5;186m\"\u001b[0m\n",
      "\u001b[38;5;238m  18\u001b[0m   \u001b[38;5;238m│\u001b[0m \u001b[38;5;231m    \u001b[0m\u001b[38;5;231m}\u001b[0m\u001b[38;5;231m,\u001b[0m\n",
      "\u001b[38;5;238m  19\u001b[0m   \u001b[38;5;238m│\u001b[0m \u001b[38;5;231m    \u001b[0m\u001b[38;5;231m{\u001b[0m\n",
      "\u001b[38;5;238m  20\u001b[0m   \u001b[38;5;238m│\u001b[0m \u001b[38;5;231m      \u001b[0m\u001b[38;5;208m\"\u001b[0m\u001b[38;5;208mid\u001b[0m\u001b[38;5;208m\"\u001b[0m\u001b[38;5;231m:\u001b[0m\u001b[38;5;231m \u001b[0m\u001b[38;5;141m3\u001b[0m\u001b[38;5;231m,\u001b[0m\n",
      "\u001b[38;5;238m  21\u001b[0m   \u001b[38;5;238m│\u001b[0m \u001b[38;5;231m      \u001b[0m\u001b[38;5;208m\"\u001b[0m\u001b[38;5;208mtype\u001b[0m\u001b[38;5;208m\"\u001b[0m\u001b[38;5;231m:\u001b[0m\u001b[38;5;231m \u001b[0m\u001b[38;5;186m\"\u001b[0m\u001b[38;5;186minput\u001b[0m\u001b[38;5;186m\"\u001b[0m\u001b[38;5;231m,\u001b[0m\n",
      "\u001b[38;5;238m  22\u001b[0m   \u001b[38;5;238m│\u001b[0m \u001b[38;5;231m      \u001b[0m\u001b[38;5;208m\"\u001b[0m\u001b[38;5;208mname\u001b[0m\u001b[38;5;208m\"\u001b[0m\u001b[38;5;231m:\u001b[0m\u001b[38;5;231m \u001b[0m\u001b[38;5;186m\"\u001b[0m\u001b[38;5;186mx\u001b[0m\u001b[38;5;186m\"\u001b[0m\u001b[38;5;231m,\u001b[0m\n",
      "\u001b[38;5;238m  23\u001b[0m   \u001b[38;5;238m│\u001b[0m \u001b[38;5;231m      \u001b[0m\u001b[38;5;208m\"\u001b[0m\u001b[38;5;208mvalue\u001b[0m\u001b[38;5;208m\"\u001b[0m\u001b[38;5;231m:\u001b[0m\u001b[38;5;231m \u001b[0m\u001b[38;5;141m1\u001b[0m\u001b[38;5;141m.\u001b[0m\u001b[38;5;141m0\u001b[0m\n",
      "\u001b[38;5;238m  24\u001b[0m   \u001b[38;5;238m│\u001b[0m \u001b[38;5;231m    \u001b[0m\u001b[38;5;231m}\u001b[0m\u001b[38;5;231m,\u001b[0m\n",
      "\u001b[38;5;238m  25\u001b[0m   \u001b[38;5;238m│\u001b[0m \u001b[38;5;231m    \u001b[0m\u001b[38;5;231m{\u001b[0m\n",
      "\u001b[38;5;238m  26\u001b[0m   \u001b[38;5;238m│\u001b[0m \u001b[38;5;231m      \u001b[0m\u001b[38;5;208m\"\u001b[0m\u001b[38;5;208mid\u001b[0m\u001b[38;5;208m\"\u001b[0m\u001b[38;5;231m:\u001b[0m\u001b[38;5;231m \u001b[0m\u001b[38;5;141m4\u001b[0m\u001b[38;5;231m,\u001b[0m\n",
      "\u001b[38;5;238m  27\u001b[0m   \u001b[38;5;238m│\u001b[0m \u001b[38;5;231m      \u001b[0m\u001b[38;5;208m\"\u001b[0m\u001b[38;5;208mtype\u001b[0m\u001b[38;5;208m\"\u001b[0m\u001b[38;5;231m:\u001b[0m\u001b[38;5;231m \u001b[0m\u001b[38;5;186m\"\u001b[0m\u001b[38;5;186minput\u001b[0m\u001b[38;5;186m\"\u001b[0m\u001b[38;5;231m,\u001b[0m\n",
      "\u001b[38;5;238m  28\u001b[0m   \u001b[38;5;238m│\u001b[0m \u001b[38;5;231m      \u001b[0m\u001b[38;5;208m\"\u001b[0m\u001b[38;5;208mname\u001b[0m\u001b[38;5;208m\"\u001b[0m\u001b[38;5;231m:\u001b[0m\u001b[38;5;231m \u001b[0m\u001b[38;5;186m\"\u001b[0m\u001b[38;5;186my\u001b[0m\u001b[38;5;186m\"\u001b[0m\u001b[38;5;231m,\u001b[0m\n",
      "\u001b[38;5;238m  29\u001b[0m   \u001b[38;5;238m│\u001b[0m \u001b[38;5;231m      \u001b[0m\u001b[38;5;208m\"\u001b[0m\u001b[38;5;208mvalue\u001b[0m\u001b[38;5;208m\"\u001b[0m\u001b[38;5;231m:\u001b[0m\u001b[38;5;231m \u001b[0m\u001b[38;5;141m2\u001b[0m\u001b[38;5;141m.\u001b[0m\u001b[38;5;141m0\u001b[0m\n",
      "\u001b[38;5;238m  30\u001b[0m   \u001b[38;5;238m│\u001b[0m \u001b[38;5;231m    \u001b[0m\u001b[38;5;231m}\u001b[0m\u001b[38;5;231m,\u001b[0m\n",
      "\u001b[38;5;238m  31\u001b[0m   \u001b[38;5;238m│\u001b[0m \u001b[38;5;231m    \u001b[0m\u001b[38;5;231m{\u001b[0m\n",
      "\u001b[38;5;238m  32\u001b[0m   \u001b[38;5;238m│\u001b[0m \u001b[38;5;231m      \u001b[0m\u001b[38;5;208m\"\u001b[0m\u001b[38;5;208mid\u001b[0m\u001b[38;5;208m\"\u001b[0m\u001b[38;5;231m:\u001b[0m\u001b[38;5;231m \u001b[0m\u001b[38;5;141m5\u001b[0m\u001b[38;5;231m,\u001b[0m\n",
      "\u001b[38;5;238m  33\u001b[0m   \u001b[38;5;238m│\u001b[0m \u001b[38;5;231m      \u001b[0m\u001b[38;5;208m\"\u001b[0m\u001b[38;5;208mtype\u001b[0m\u001b[38;5;208m\"\u001b[0m\u001b[38;5;231m:\u001b[0m\u001b[38;5;231m \u001b[0m\u001b[38;5;186m\"\u001b[0m\u001b[38;5;186moutput\u001b[0m\u001b[38;5;186m\"\u001b[0m\u001b[38;5;231m,\u001b[0m\n",
      "\u001b[38;5;238m  34\u001b[0m   \u001b[38;5;238m│\u001b[0m \u001b[38;5;231m      \u001b[0m\u001b[38;5;208m\"\u001b[0m\u001b[38;5;208mname\u001b[0m\u001b[38;5;208m\"\u001b[0m\u001b[38;5;231m:\u001b[0m\u001b[38;5;231m \u001b[0m\u001b[38;5;186m\"\u001b[0m\u001b[38;5;186mresult\u001b[0m\u001b[38;5;186m\"\u001b[0m\n",
      "\u001b[38;5;238m  35\u001b[0m   \u001b[38;5;238m│\u001b[0m \u001b[38;5;231m    \u001b[0m\u001b[38;5;231m}\u001b[0m\n",
      "\u001b[38;5;238m  36\u001b[0m   \u001b[38;5;238m│\u001b[0m \u001b[38;5;231m  \u001b[0m\u001b[38;5;231m]\u001b[0m\u001b[38;5;231m,\u001b[0m\n",
      "\u001b[38;5;238m  37\u001b[0m   \u001b[38;5;238m│\u001b[0m \u001b[38;5;231m  \u001b[0m\u001b[38;5;208m\"\u001b[0m\u001b[38;5;208medges\u001b[0m\u001b[38;5;208m\"\u001b[0m\u001b[38;5;231m:\u001b[0m\u001b[38;5;231m \u001b[0m\u001b[38;5;231m[\u001b[0m\n",
      "\u001b[38;5;238m  38\u001b[0m   \u001b[38;5;238m│\u001b[0m \u001b[38;5;231m    \u001b[0m\u001b[38;5;231m{\u001b[0m\n",
      "\u001b[38;5;238m  39\u001b[0m   \u001b[38;5;238m│\u001b[0m \u001b[38;5;231m      \u001b[0m\u001b[38;5;208m\"\u001b[0m\u001b[38;5;208mtarget\u001b[0m\u001b[38;5;208m\"\u001b[0m\u001b[38;5;231m:\u001b[0m\u001b[38;5;231m \u001b[0m\u001b[38;5;141m1\u001b[0m\u001b[38;5;231m,\u001b[0m\n",
      "\u001b[38;5;238m  40\u001b[0m   \u001b[38;5;238m│\u001b[0m \u001b[38;5;231m      \u001b[0m\u001b[38;5;208m\"\u001b[0m\u001b[38;5;208mtargetPort\u001b[0m\u001b[38;5;208m\"\u001b[0m\u001b[38;5;231m:\u001b[0m\u001b[38;5;231m \u001b[0m\u001b[38;5;186m\"\u001b[0m\u001b[38;5;186mx\u001b[0m\u001b[38;5;186m\"\u001b[0m\u001b[38;5;231m,\u001b[0m\n",
      "\u001b[38;5;238m  41\u001b[0m   \u001b[38;5;238m│\u001b[0m \u001b[38;5;231m      \u001b[0m\u001b[38;5;208m\"\u001b[0m\u001b[38;5;208msource\u001b[0m\u001b[38;5;208m\"\u001b[0m\u001b[38;5;231m:\u001b[0m\u001b[38;5;231m \u001b[0m\u001b[38;5;141m0\u001b[0m\u001b[38;5;231m,\u001b[0m\n",
      "\u001b[38;5;238m  42\u001b[0m   \u001b[38;5;238m│\u001b[0m \u001b[38;5;231m      \u001b[0m\u001b[38;5;208m\"\u001b[0m\u001b[38;5;208msourcePort\u001b[0m\u001b[38;5;208m\"\u001b[0m\u001b[38;5;231m:\u001b[0m\u001b[38;5;231m \u001b[0m\u001b[38;5;186m\"\u001b[0m\u001b[38;5;186mprod\u001b[0m\u001b[38;5;186m\"\u001b[0m\n",
      "\u001b[38;5;238m  43\u001b[0m   \u001b[38;5;238m│\u001b[0m \u001b[38;5;231m    \u001b[0m\u001b[38;5;231m}\u001b[0m\u001b[38;5;231m,\u001b[0m\n",
      "\u001b[38;5;238m  44\u001b[0m   \u001b[38;5;238m│\u001b[0m \u001b[38;5;231m    \u001b[0m\u001b[38;5;231m{\u001b[0m\n",
      "\u001b[38;5;238m  45\u001b[0m   \u001b[38;5;238m│\u001b[0m \u001b[38;5;231m      \u001b[0m\u001b[38;5;208m\"\u001b[0m\u001b[38;5;208mtarget\u001b[0m\u001b[38;5;208m\"\u001b[0m\u001b[38;5;231m:\u001b[0m\u001b[38;5;231m \u001b[0m\u001b[38;5;141m1\u001b[0m\u001b[38;5;231m,\u001b[0m\n",
      "\u001b[38;5;238m  46\u001b[0m   \u001b[38;5;238m│\u001b[0m \u001b[38;5;231m      \u001b[0m\u001b[38;5;208m\"\u001b[0m\u001b[38;5;208mtargetPort\u001b[0m\u001b[38;5;208m\"\u001b[0m\u001b[38;5;231m:\u001b[0m\u001b[38;5;231m \u001b[0m\u001b[38;5;186m\"\u001b[0m\u001b[38;5;186my\u001b[0m\u001b[38;5;186m\"\u001b[0m\u001b[38;5;231m,\u001b[0m\n",
      "\u001b[38;5;238m  47\u001b[0m   \u001b[38;5;238m│\u001b[0m \u001b[38;5;231m      \u001b[0m\u001b[38;5;208m\"\u001b[0m\u001b[38;5;208msource\u001b[0m\u001b[38;5;208m\"\u001b[0m\u001b[38;5;231m:\u001b[0m\u001b[38;5;231m \u001b[0m\u001b[38;5;141m0\u001b[0m\u001b[38;5;231m,\u001b[0m\n",
      "\u001b[38;5;238m  48\u001b[0m   \u001b[38;5;238m│\u001b[0m \u001b[38;5;231m      \u001b[0m\u001b[38;5;208m\"\u001b[0m\u001b[38;5;208msourcePort\u001b[0m\u001b[38;5;208m\"\u001b[0m\u001b[38;5;231m:\u001b[0m\u001b[38;5;231m \u001b[0m\u001b[38;5;186m\"\u001b[0m\u001b[38;5;186mdiv\u001b[0m\u001b[38;5;186m\"\u001b[0m\n",
      "\u001b[38;5;238m  49\u001b[0m   \u001b[38;5;238m│\u001b[0m \u001b[38;5;231m    \u001b[0m\u001b[38;5;231m}\u001b[0m\u001b[38;5;231m,\u001b[0m\n",
      "\u001b[38;5;238m  50\u001b[0m   \u001b[38;5;238m│\u001b[0m \u001b[38;5;231m    \u001b[0m\u001b[38;5;231m{\u001b[0m\n",
      "\u001b[38;5;238m  51\u001b[0m   \u001b[38;5;238m│\u001b[0m \u001b[38;5;231m      \u001b[0m\u001b[38;5;208m\"\u001b[0m\u001b[38;5;208mtarget\u001b[0m\u001b[38;5;208m\"\u001b[0m\u001b[38;5;231m:\u001b[0m\u001b[38;5;231m \u001b[0m\u001b[38;5;141m2\u001b[0m\u001b[38;5;231m,\u001b[0m\n",
      "\u001b[38;5;238m  52\u001b[0m   \u001b[38;5;238m│\u001b[0m \u001b[38;5;231m      \u001b[0m\u001b[38;5;208m\"\u001b[0m\u001b[38;5;208mtargetPort\u001b[0m\u001b[38;5;208m\"\u001b[0m\u001b[38;5;231m:\u001b[0m\u001b[38;5;231m \u001b[0m\u001b[38;5;186m\"\u001b[0m\u001b[38;5;186mx\u001b[0m\u001b[38;5;186m\"\u001b[0m\u001b[38;5;231m,\u001b[0m\n",
      "\u001b[38;5;238m  53\u001b[0m   \u001b[38;5;238m│\u001b[0m \u001b[38;5;231m      \u001b[0m\u001b[38;5;208m\"\u001b[0m\u001b[38;5;208msource\u001b[0m\u001b[38;5;208m\"\u001b[0m\u001b[38;5;231m:\u001b[0m\u001b[38;5;231m \u001b[0m\u001b[38;5;141m1\u001b[0m\u001b[38;5;231m,\u001b[0m\n",
      "\u001b[38;5;238m  54\u001b[0m   \u001b[38;5;238m│\u001b[0m \u001b[38;5;231m      \u001b[0m\u001b[38;5;208m\"\u001b[0m\u001b[38;5;208msourcePort\u001b[0m\u001b[38;5;208m\"\u001b[0m\u001b[38;5;231m:\u001b[0m\u001b[38;5;231m \u001b[0m\u001b[38;5;141mnull\u001b[0m\n",
      "\u001b[38;5;238m  55\u001b[0m   \u001b[38;5;238m│\u001b[0m \u001b[38;5;231m    \u001b[0m\u001b[38;5;231m}\u001b[0m\u001b[38;5;231m,\u001b[0m\n",
      "\u001b[38;5;238m  56\u001b[0m   \u001b[38;5;238m│\u001b[0m \u001b[38;5;231m    \u001b[0m\u001b[38;5;231m{\u001b[0m\n",
      "\u001b[38;5;238m  57\u001b[0m   \u001b[38;5;238m│\u001b[0m \u001b[38;5;231m      \u001b[0m\u001b[38;5;208m\"\u001b[0m\u001b[38;5;208mtarget\u001b[0m\u001b[38;5;208m\"\u001b[0m\u001b[38;5;231m:\u001b[0m\u001b[38;5;231m \u001b[0m\u001b[38;5;141m0\u001b[0m\u001b[38;5;231m,\u001b[0m\n",
      "\u001b[38;5;238m  58\u001b[0m   \u001b[38;5;238m│\u001b[0m \u001b[38;5;231m      \u001b[0m\u001b[38;5;208m\"\u001b[0m\u001b[38;5;208mtargetPort\u001b[0m\u001b[38;5;208m\"\u001b[0m\u001b[38;5;231m:\u001b[0m\u001b[38;5;231m \u001b[0m\u001b[38;5;186m\"\u001b[0m\u001b[38;5;186mx\u001b[0m\u001b[38;5;186m\"\u001b[0m\u001b[38;5;231m,\u001b[0m\n",
      "\u001b[38;5;238m  59\u001b[0m   \u001b[38;5;238m│\u001b[0m \u001b[38;5;231m      \u001b[0m\u001b[38;5;208m\"\u001b[0m\u001b[38;5;208msource\u001b[0m\u001b[38;5;208m\"\u001b[0m\u001b[38;5;231m:\u001b[0m\u001b[38;5;231m \u001b[0m\u001b[38;5;141m3\u001b[0m\u001b[38;5;231m,\u001b[0m\n",
      "\u001b[38;5;238m  60\u001b[0m   \u001b[38;5;238m│\u001b[0m \u001b[38;5;231m      \u001b[0m\u001b[38;5;208m\"\u001b[0m\u001b[38;5;208msourcePort\u001b[0m\u001b[38;5;208m\"\u001b[0m\u001b[38;5;231m:\u001b[0m\u001b[38;5;231m \u001b[0m\u001b[38;5;141mnull\u001b[0m\n",
      "\u001b[38;5;238m  61\u001b[0m   \u001b[38;5;238m│\u001b[0m \u001b[38;5;231m    \u001b[0m\u001b[38;5;231m}\u001b[0m\u001b[38;5;231m,\u001b[0m\n",
      "\u001b[38;5;238m  62\u001b[0m   \u001b[38;5;238m│\u001b[0m \u001b[38;5;231m    \u001b[0m\u001b[38;5;231m{\u001b[0m\n",
      "\u001b[38;5;238m  63\u001b[0m   \u001b[38;5;238m│\u001b[0m \u001b[38;5;231m      \u001b[0m\u001b[38;5;208m\"\u001b[0m\u001b[38;5;208mtarget\u001b[0m\u001b[38;5;208m\"\u001b[0m\u001b[38;5;231m:\u001b[0m\u001b[38;5;231m \u001b[0m\u001b[38;5;141m0\u001b[0m\u001b[38;5;231m,\u001b[0m\n",
      "\u001b[38;5;238m  64\u001b[0m   \u001b[38;5;238m│\u001b[0m \u001b[38;5;231m      \u001b[0m\u001b[38;5;208m\"\u001b[0m\u001b[38;5;208mtargetPort\u001b[0m\u001b[38;5;208m\"\u001b[0m\u001b[38;5;231m:\u001b[0m\u001b[38;5;231m \u001b[0m\u001b[38;5;186m\"\u001b[0m\u001b[38;5;186my\u001b[0m\u001b[38;5;186m\"\u001b[0m\u001b[38;5;231m,\u001b[0m\n",
      "\u001b[38;5;238m  65\u001b[0m   \u001b[38;5;238m│\u001b[0m \u001b[38;5;231m      \u001b[0m\u001b[38;5;208m\"\u001b[0m\u001b[38;5;208msource\u001b[0m\u001b[38;5;208m\"\u001b[0m\u001b[38;5;231m:\u001b[0m\u001b[38;5;231m \u001b[0m\u001b[38;5;141m4\u001b[0m\u001b[38;5;231m,\u001b[0m\n",
      "\u001b[38;5;238m  66\u001b[0m   \u001b[38;5;238m│\u001b[0m \u001b[38;5;231m      \u001b[0m\u001b[38;5;208m\"\u001b[0m\u001b[38;5;208msourcePort\u001b[0m\u001b[38;5;208m\"\u001b[0m\u001b[38;5;231m:\u001b[0m\u001b[38;5;231m \u001b[0m\u001b[38;5;141mnull\u001b[0m\n",
      "\u001b[38;5;238m  67\u001b[0m   \u001b[38;5;238m│\u001b[0m \u001b[38;5;231m    \u001b[0m\u001b[38;5;231m}\u001b[0m\u001b[38;5;231m,\u001b[0m\n",
      "\u001b[38;5;238m  68\u001b[0m   \u001b[38;5;238m│\u001b[0m \u001b[38;5;231m    \u001b[0m\u001b[38;5;231m{\u001b[0m\n",
      "\u001b[38;5;238m  69\u001b[0m   \u001b[38;5;238m│\u001b[0m \u001b[38;5;231m      \u001b[0m\u001b[38;5;208m\"\u001b[0m\u001b[38;5;208mtarget\u001b[0m\u001b[38;5;208m\"\u001b[0m\u001b[38;5;231m:\u001b[0m\u001b[38;5;231m \u001b[0m\u001b[38;5;141m5\u001b[0m\u001b[38;5;231m,\u001b[0m\n",
      "\u001b[38;5;238m  70\u001b[0m   \u001b[38;5;238m│\u001b[0m \u001b[38;5;231m      \u001b[0m\u001b[38;5;208m\"\u001b[0m\u001b[38;5;208mtargetPort\u001b[0m\u001b[38;5;208m\"\u001b[0m\u001b[38;5;231m:\u001b[0m\u001b[38;5;231m \u001b[0m\u001b[38;5;141mnull\u001b[0m\u001b[38;5;231m,\u001b[0m\n",
      "\u001b[38;5;238m  71\u001b[0m   \u001b[38;5;238m│\u001b[0m \u001b[38;5;231m      \u001b[0m\u001b[38;5;208m\"\u001b[0m\u001b[38;5;208msource\u001b[0m\u001b[38;5;208m\"\u001b[0m\u001b[38;5;231m:\u001b[0m\u001b[38;5;231m \u001b[0m\u001b[38;5;141m2\u001b[0m\u001b[38;5;231m,\u001b[0m\n",
      "\u001b[38;5;238m  72\u001b[0m   \u001b[38;5;238m│\u001b[0m \u001b[38;5;231m      \u001b[0m\u001b[38;5;208m\"\u001b[0m\u001b[38;5;208msourcePort\u001b[0m\u001b[38;5;208m\"\u001b[0m\u001b[38;5;231m:\u001b[0m\u001b[38;5;231m \u001b[0m\u001b[38;5;141mnull\u001b[0m\n",
      "\u001b[38;5;238m  73\u001b[0m   \u001b[38;5;238m│\u001b[0m \u001b[38;5;231m    \u001b[0m\u001b[38;5;231m}\u001b[0m\n",
      "\u001b[38;5;238m  74\u001b[0m   \u001b[38;5;238m│\u001b[0m \u001b[38;5;231m  \u001b[0m\u001b[38;5;231m]\u001b[0m\n",
      "\u001b[38;5;238m  75\u001b[0m   \u001b[38;5;238m│\u001b[0m \u001b[38;5;231m}\u001b[0m\n",
      "\u001b[38;5;238m───────┴────────────────────────────────────────────────────────────────────────\u001b[0m\n"
     ]
    }
   ],
   "source": [
    "!cat {workflow_json_filename}"
   ]
  },
  {
   "cell_type": "markdown",
   "metadata": {},
   "source": [
    "## Load Workflow with jobflow"
   ]
  },
  {
   "cell_type": "code",
   "execution_count": 9,
   "metadata": {},
   "outputs": [],
   "source": [
    "from python_workflow_definition.jobflow import load_workflow_json"
   ]
  },
  {
   "cell_type": "code",
   "execution_count": 10,
   "metadata": {},
   "outputs": [],
   "source": [
    "from jobflow.managers.local import run_locally"
   ]
  },
  {
   "cell_type": "code",
   "execution_count": 11,
   "metadata": {},
   "outputs": [],
   "source": [
    "flow = load_workflow_json(file_name=workflow_json_filename)"
   ]
  },
  {
   "cell_type": "code",
   "execution_count": 12,
   "metadata": {},
   "outputs": [
    {
     "name": "stdout",
     "output_type": "stream",
     "text": [
      "2025-10-22 15:11:59,264 INFO Started executing jobs locally\n",
      "2025-10-22 15:11:59,721 INFO Starting job - get_prod_and_div (108c8efc-0f7a-49bb-aa8f-5b7f4f87d462)\n",
      "2025-10-22 15:11:59,725 INFO Finished job - get_prod_and_div (108c8efc-0f7a-49bb-aa8f-5b7f4f87d462)\n",
      "2025-10-22 15:11:59,726 INFO Starting job - get_sum (3bec2f12-bced-424e-a526-b87f3130741d)\n",
      "2025-10-22 15:11:59,729 INFO Finished job - get_sum (3bec2f12-bced-424e-a526-b87f3130741d)\n",
      "2025-10-22 15:11:59,730 INFO Starting job - get_square (e04b23d9-f6ad-4694-b229-6b18264dd501)\n",
      "2025-10-22 15:11:59,733 INFO Finished job - get_square (e04b23d9-f6ad-4694-b229-6b18264dd501)\n",
      "2025-10-22 15:11:59,734 INFO Finished executing jobs locally\n"
     ]
    },
    {
     "data": {
      "text/plain": [
       "{'108c8efc-0f7a-49bb-aa8f-5b7f4f87d462': {1: Response(output={'prod': 2.0, 'div': 0.5}, detour=None, addition=None, replace=None, stored_data=None, stop_children=False, stop_jobflow=False, job_dir=PosixPath('/home/geiger_j/aiida_projects/adis/git-repos/python-workflow-definition/example_workflows/arithmetic'))},\n",
       " '3bec2f12-bced-424e-a526-b87f3130741d': {1: Response(output=2.5, detour=None, addition=None, replace=None, stored_data=None, stop_children=False, stop_jobflow=False, job_dir=PosixPath('/home/geiger_j/aiida_projects/adis/git-repos/python-workflow-definition/example_workflows/arithmetic'))},\n",
       " 'e04b23d9-f6ad-4694-b229-6b18264dd501': {1: Response(output=6.25, detour=None, addition=None, replace=None, stored_data=None, stop_children=False, stop_jobflow=False, job_dir=PosixPath('/home/geiger_j/aiida_projects/adis/git-repos/python-workflow-definition/example_workflows/arithmetic'))}}"
      ]
     },
     "execution_count": 12,
     "metadata": {},
     "output_type": "execute_result"
    }
   ],
   "source": [
    "result = run_locally(flow)\n",
    "result"
   ]
  },
  {
   "cell_type": "markdown",
   "metadata": {},
   "source": [
    "## Load Workflow with pyiron_base"
   ]
  },
  {
   "cell_type": "code",
   "execution_count": 13,
   "metadata": {},
   "outputs": [],
   "source": [
    "from python_workflow_definition.pyiron_base import load_workflow_json"
   ]
  },
  {
   "cell_type": "code",
   "execution_count": 14,
   "metadata": {},
   "outputs": [
    {
     "data": {
      "image/svg+xml": [
       "<svg xmlns=\"http://www.w3.org/2000/svg\" xmlns:xlink=\"http://www.w3.org/1999/xlink\" width=\"1490pt\" height=\"260pt\" viewBox=\"0.00 0.00 1489.84 260.00\">\n",
       "<g id=\"graph0\" class=\"graph\" transform=\"scale(1 1) rotate(0) translate(4 256)\">\n",
       "<polygon fill=\"white\" stroke=\"transparent\" points=\"-4,4 -4,-256 1485.84,-256 1485.84,4 -4,4\"/>\n",
       "<!-- create_function_job_1d87e132c7348306c4c2d30267c9b696 -->\n",
       "<g id=\"node1\" class=\"node\">\n",
       "<title>create_function_job_1d87e132c7348306c4c2d30267c9b696</title>\n",
       "<ellipse fill=\"none\" stroke=\"black\" cx=\"740.92\" cy=\"-18\" rx=\"451.92\" ry=\"18\"/>\n",
       "<text text-anchor=\"middle\" x=\"740.92\" y=\"-14.3\" font-family=\"Times,serif\" font-size=\"14.00\">create_function_job=&lt;pyiron_base.project.delayed.DelayedObject object at 0x7637aad43370&gt;</text>\n",
       "</g>\n",
       "<!-- x_f7a83969ba4610e9848b5774a86f4a5c -->\n",
       "<g id=\"node2\" class=\"node\">\n",
       "<title>x_f7a83969ba4610e9848b5774a86f4a5c</title>\n",
       "<ellipse fill=\"none\" stroke=\"black\" cx=\"740.92\" cy=\"-90\" rx=\"367.43\" ry=\"18\"/>\n",
       "<text text-anchor=\"middle\" x=\"740.92\" y=\"-86.3\" font-family=\"Times,serif\" font-size=\"14.00\">x=&lt;pyiron_base.project.delayed.DelayedObject object at 0x7637aad43130&gt;</text>\n",
       "</g>\n",
       "<!-- x_f7a83969ba4610e9848b5774a86f4a5c&#45;&gt;create_function_job_1d87e132c7348306c4c2d30267c9b696 -->\n",
       "<g id=\"edge1\" class=\"edge\">\n",
       "<title>x_f7a83969ba4610e9848b5774a86f4a5c-&gt;create_function_job_1d87e132c7348306c4c2d30267c9b696</title>\n",
       "<path fill=\"none\" stroke=\"black\" d=\"M740.92,-71.7C740.92,-63.98 740.92,-54.71 740.92,-46.11\"/>\n",
       "<polygon fill=\"black\" stroke=\"black\" points=\"744.42,-46.1 740.92,-36.1 737.42,-46.1 744.42,-46.1\"/>\n",
       "</g>\n",
       "<!-- x_ea961e65ba2e4c6602848a37e3cebaf7 -->\n",
       "<g id=\"node3\" class=\"node\">\n",
       "<title>x_ea961e65ba2e4c6602848a37e3cebaf7</title>\n",
       "<ellipse fill=\"none\" stroke=\"black\" cx=\"365.92\" cy=\"-162\" rx=\"365.84\" ry=\"18\"/>\n",
       "<text text-anchor=\"middle\" x=\"365.92\" y=\"-158.3\" font-family=\"Times,serif\" font-size=\"14.00\">x=&lt;pyiron_base.project.delayed.DelayedObject object at 0x7637aad42c50&gt;</text>\n",
       "</g>\n",
       "<!-- x_ea961e65ba2e4c6602848a37e3cebaf7&#45;&gt;x_f7a83969ba4610e9848b5774a86f4a5c -->\n",
       "<g id=\"edge2\" class=\"edge\">\n",
       "<title>x_ea961e65ba2e4c6602848a37e3cebaf7-&gt;x_f7a83969ba4610e9848b5774a86f4a5c</title>\n",
       "<path fill=\"none\" stroke=\"black\" d=\"M454.31,-144.5C510.81,-133.95 584.15,-120.26 642.5,-109.37\"/>\n",
       "<polygon fill=\"black\" stroke=\"black\" points=\"643.28,-112.79 652.47,-107.51 641.99,-105.91 643.28,-112.79\"/>\n",
       "</g>\n",
       "<!-- x_974924ff998969b91bfc8b2db5f854a1 -->\n",
       "<g id=\"node4\" class=\"node\">\n",
       "<title>x_974924ff998969b91bfc8b2db5f854a1</title>\n",
       "<ellipse fill=\"none\" stroke=\"black\" cx=\"692.92\" cy=\"-234\" rx=\"38.19\" ry=\"18\"/>\n",
       "<text text-anchor=\"middle\" x=\"692.92\" y=\"-230.3\" font-family=\"Times,serif\" font-size=\"14.00\">x=1.0</text>\n",
       "</g>\n",
       "<!-- x_974924ff998969b91bfc8b2db5f854a1&#45;&gt;x_ea961e65ba2e4c6602848a37e3cebaf7 -->\n",
       "<g id=\"edge3\" class=\"edge\">\n",
       "<title>x_974924ff998969b91bfc8b2db5f854a1-&gt;x_ea961e65ba2e4c6602848a37e3cebaf7</title>\n",
       "<path fill=\"none\" stroke=\"black\" d=\"M658.85,-225.71C610.67,-215.39 520.99,-196.2 453.5,-181.75\"/>\n",
       "<polygon fill=\"black\" stroke=\"black\" points=\"454.22,-178.32 443.71,-179.65 452.76,-185.17 454.22,-178.32\"/>\n",
       "</g>\n",
       "<!-- y_40867da59b71ee5ef4fe728999d62419 -->\n",
       "<g id=\"node5\" class=\"node\">\n",
       "<title>y_40867da59b71ee5ef4fe728999d62419</title>\n",
       "<ellipse fill=\"none\" stroke=\"black\" cx=\"1115.92\" cy=\"-162\" rx=\"365.84\" ry=\"18\"/>\n",
       "<text text-anchor=\"middle\" x=\"1115.92\" y=\"-158.3\" font-family=\"Times,serif\" font-size=\"14.00\">y=&lt;pyiron_base.project.delayed.DelayedObject object at 0x7637aad42c80&gt;</text>\n",
       "</g>\n",
       "<!-- x_974924ff998969b91bfc8b2db5f854a1&#45;&gt;y_40867da59b71ee5ef4fe728999d62419 -->\n",
       "<g id=\"edge4\" class=\"edge\">\n",
       "<title>x_974924ff998969b91bfc8b2db5f854a1-&gt;y_40867da59b71ee5ef4fe728999d62419</title>\n",
       "<path fill=\"none\" stroke=\"black\" d=\"M728.62,-227.09C789.44,-217.03 915.49,-196.17 1007.31,-180.97\"/>\n",
       "<polygon fill=\"black\" stroke=\"black\" points=\"1007.92,-184.42 1017.21,-179.33 1006.77,-177.51 1007.92,-184.42\"/>\n",
       "</g>\n",
       "<!-- y_40867da59b71ee5ef4fe728999d62419&#45;&gt;x_f7a83969ba4610e9848b5774a86f4a5c -->\n",
       "<g id=\"edge7\" class=\"edge\">\n",
       "<title>y_40867da59b71ee5ef4fe728999d62419-&gt;x_f7a83969ba4610e9848b5774a86f4a5c</title>\n",
       "<path fill=\"none\" stroke=\"black\" d=\"M1027.52,-144.5C971.03,-133.95 897.69,-120.26 839.34,-109.37\"/>\n",
       "<polygon fill=\"black\" stroke=\"black\" points=\"839.84,-105.91 829.37,-107.51 838.56,-112.79 839.84,-105.91\"/>\n",
       "</g>\n",
       "<!-- y_f12a7f1986b9dd058dfc666dbe230b20 -->\n",
       "<g id=\"node6\" class=\"node\">\n",
       "<title>y_f12a7f1986b9dd058dfc666dbe230b20</title>\n",
       "<ellipse fill=\"none\" stroke=\"black\" cx=\"951.92\" cy=\"-234\" rx=\"38.19\" ry=\"18\"/>\n",
       "<text text-anchor=\"middle\" x=\"951.92\" y=\"-230.3\" font-family=\"Times,serif\" font-size=\"14.00\">y=2.0</text>\n",
       "</g>\n",
       "<!-- y_f12a7f1986b9dd058dfc666dbe230b20&#45;&gt;x_ea961e65ba2e4c6602848a37e3cebaf7 -->\n",
       "<g id=\"edge5\" class=\"edge\">\n",
       "<title>y_f12a7f1986b9dd058dfc666dbe230b20-&gt;x_ea961e65ba2e4c6602848a37e3cebaf7</title>\n",
       "<path fill=\"none\" stroke=\"black\" d=\"M915.26,-228.62C835.51,-219.09 642.62,-196.05 508.08,-179.98\"/>\n",
       "<polygon fill=\"black\" stroke=\"black\" points=\"508.43,-176.5 498.09,-178.79 507.6,-183.45 508.43,-176.5\"/>\n",
       "</g>\n",
       "<!-- y_f12a7f1986b9dd058dfc666dbe230b20&#45;&gt;y_40867da59b71ee5ef4fe728999d62419 -->\n",
       "<g id=\"edge6\" class=\"edge\">\n",
       "<title>y_f12a7f1986b9dd058dfc666dbe230b20-&gt;y_40867da59b71ee5ef4fe728999d62419</title>\n",
       "<path fill=\"none\" stroke=\"black\" d=\"M979.37,-221.28C1003.13,-211.14 1038.06,-196.23 1066.65,-184.03\"/>\n",
       "<polygon fill=\"black\" stroke=\"black\" points=\"1068.26,-187.15 1076.08,-180 1065.51,-180.71 1068.26,-187.15\"/>\n",
       "</g>\n",
       "</g>\n",
       "</svg>"
      ],
      "text/plain": [
       "<IPython.core.display.SVG object>"
      ]
     },
     "metadata": {},
     "output_type": "display_data"
    }
   ],
   "source": [
    "delayed_object_lst = load_workflow_json(file_name=workflow_json_filename)\n",
    "delayed_object_lst[-1].draw()"
   ]
  },
  {
   "cell_type": "code",
   "execution_count": 15,
   "metadata": {},
   "outputs": [
    {
     "name": "stdout",
     "output_type": "stream",
     "text": [
      "The job get_prod_and_div_4729edf2c689ca4cf512acd163c98b28 was saved and received the ID: 1\n",
      "The job get_sum_25f72a559657d0b1549593792391953e was saved and received the ID: 2\n",
      "The job get_square_9cc2f0545498916d7720c59c1120a66d was saved and received the ID: 3\n"
     ]
    },
    {
     "data": {
      "text/plain": [
       "6.25"
      ]
     },
     "execution_count": 15,
     "metadata": {},
     "output_type": "execute_result"
    }
   ],
   "source": [
    "delayed_object_lst[-1].pull()"
   ]
  }
 ],
 "metadata": {
  "kernelspec": {
   "display_name": "Python 3 (ipykernel)",
   "language": "python",
   "name": "python3"
  },
  "language_info": {
   "codemirror_mode": {
    "name": "ipython",
    "version": 3
   },
   "file_extension": ".py",
   "mimetype": "text/x-python",
   "name": "python",
   "nbconvert_exporter": "python",
   "pygments_lexer": "ipython3",
   "version": "3.10.12"
  }
 },
 "nbformat": 4,
 "nbformat_minor": 4
}
