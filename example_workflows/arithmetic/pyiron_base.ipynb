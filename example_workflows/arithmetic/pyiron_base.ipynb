{
 "metadata": {
  "kernelspec": {
   "display_name": "Python 3 (ipykernel)",
   "language": "python",
   "name": "python3"
  },
  "language_info": {
   "codemirror_mode": {
    "name": "ipython",
    "version": 3
   },
   "file_extension": ".py",
   "mimetype": "text/x-python",
   "name": "python",
   "nbconvert_exporter": "python",
   "pygments_lexer": "ipython3",
   "version": "3.12.8"
  }
 },
 "nbformat_minor": 5,
 "nbformat": 4,
 "cells": [
  {
   "id": "c39b76fb-259f-4e16-a44d-02a295c82386",
   "cell_type": "markdown",
   "source": "# pyiron",
   "metadata": {}
  },
  {
   "id": "3638419b-a0cb-49e2-b157-7fbb1acde90f",
   "cell_type": "markdown",
   "source": "## Define workflow with pyiron_base",
   "metadata": {}
  },
  {
   "id": "b4a78447-e87c-4fb4-8d17-d9a280eb7254",
   "cell_type": "code",
   "source": "from pyiron_base import job",
   "metadata": {
    "trusted": true
   },
   "outputs": [],
   "execution_count": 1
  },
  {
   "id": "06c2bd9e-b2ac-4b88-9158-fa37331c3418",
   "cell_type": "code",
   "source": "from python_workflow_definition.pyiron_base import write_workflow_json",
   "metadata": {
    "trusted": true
   },
   "outputs": [],
   "execution_count": 2
  },
  {
   "id": "6d859dfff0c2df5c",
   "cell_type": "code",
   "source": "from workflow import (\n    get_sum as _get_sum,\n    get_prod_and_div as _get_prod_and_div,\n    get_square as _get_square,\n)",
   "metadata": {
    "trusted": true
   },
   "outputs": [],
   "execution_count": 3
  },
  {
   "id": "77135b0c61898507",
   "cell_type": "code",
   "source": "workflow_json_filename = \"pyiron_arithmetic.json\"",
   "metadata": {
    "trusted": true
   },
   "outputs": [],
   "execution_count": 4
  },
  {
   "id": "07598344-0f75-433b-8902-bea21a42088c",
   "cell_type": "code",
   "source": "get_sum = job(_get_sum)\nget_prod_and_div = job(_get_prod_and_div, output_key_lst=[\"prod\", \"div\"])\nget_square = job(_get_square)",
   "metadata": {
    "trusted": true
   },
   "outputs": [],
   "execution_count": 5
  },
  {
   "id": "2b88a30a-e26b-4802-89b7-79ca08cc0af9",
   "cell_type": "code",
   "source": "prod_and_div = get_prod_and_div(x=1, y=2)",
   "metadata": {
    "trusted": true
   },
   "outputs": [],
   "execution_count": 6
  },
  {
   "id": "a5e5ca63-2906-47c9-bac6-adebf8643cba",
   "cell_type": "code",
   "source": "tmp_sum = get_sum(x=prod_and_div.output.prod, y=prod_and_div.output.div)",
   "metadata": {
    "trusted": true
   },
   "outputs": [],
   "execution_count": 7
  },
  {
   "id": "eae321f1",
   "cell_type": "code",
   "source": "result = get_square(x=tmp_sum)",
   "metadata": {
    "trusted": true
   },
   "outputs": [],
   "execution_count": 8
  },
  {
   "id": "e464da97-16a1-4772-9a07-0a47f152781d",
   "cell_type": "code",
   "source": "write_workflow_json(delayed_object=result, file_name=workflow_json_filename)",
   "metadata": {
    "trusted": true
   },
   "outputs": [],
   "execution_count": 9
  },
  {
   "id": "bca646b2-0a9a-4271-966a-e5903a8c9031",
   "cell_type": "code",
   "source": "!cat {workflow_json_filename}",
   "metadata": {
    "trusted": true
   },
   "outputs": [
    {
     "name": "stdout",
     "output_type": "stream",
     "text": "{\n  \"version\": \"0.1.0\",\n  \"nodes\": [\n    {\n      \"id\": 0,\n      \"type\": \"function\",\n      \"value\": \"workflow.get_square\"\n    },\n    {\n      \"id\": 1,\n      \"type\": \"function\",\n      \"value\": \"workflow.get_sum\"\n    },\n    {\n      \"id\": 2,\n      \"type\": \"function\",\n      \"value\": \"workflow.get_prod_and_div\"\n    },\n    {\n      \"id\": 3,\n      \"type\": \"input\",\n      \"name\": \"x\",\n      \"value\": 1\n    },\n    {\n      \"id\": 4,\n      \"type\": \"input\",\n      \"name\": \"y\",\n      \"value\": 2\n    },\n    {\n      \"id\": 5,\n      \"type\": \"output\",\n      \"name\": \"result\"\n    }\n  ],\n  \"edges\": [\n    {\n      \"target\": 0,\n      \"targetPort\": \"x\",\n      \"source\": 1,\n      \"sourcePort\": null\n    },\n    {\n      \"target\": 1,\n      \"targetPort\": \"x\",\n      \"source\": 2,\n      \"sourcePort\": \"prod\"\n    },\n    {\n      \"target\": 2,\n      \"targetPort\": \"x\",\n      \"source\": 3,\n      \"sourcePort\": null\n    },\n    {\n      \"target\": 2,\n      \"targetPort\": \"y\",\n      \"source\": 4,\n      \"sourcePort\": null\n    },\n    {\n      \"target\": 1,\n      \"targetPort\": \"y\",\n      \"source\": 2,\n      \"sourcePort\": \"div\"\n    },\n    {\n      \"target\": 5,\n      \"targetPort\": null,\n      \"source\": 0,\n      \"sourcePort\": null\n    }\n  ]\n}"
    }
   ],
   "execution_count": 10
  },
  {
   "id": "a4c0faaf-e30d-4ded-8e9f-57f97f51b14c",
   "cell_type": "markdown",
   "source": "## Load Workflow with aiida",
   "metadata": {}
  },
  {
   "id": "2ecc229f-daa1-49b9-9279-a6b5ae1aa4f2",
   "cell_type": "code",
   "source": "from aiida import load_profile\n\nload_profile()",
   "metadata": {
    "trusted": true
   },
   "outputs": [
    {
     "execution_count": 11,
     "output_type": "execute_result",
     "data": {
      "text/plain": "Profile<uuid='3ce302a995914d2e8a7b6327a10fe381' name='pwd'>"
     },
     "metadata": {}
    }
   ],
   "execution_count": 11
  },
  {
   "id": "68a56b32-9f99-43d7-aaee-0c1cd9522681",
   "cell_type": "code",
   "source": "from python_workflow_definition.aiida import load_workflow_json",
   "metadata": {
    "trusted": true
   },
   "outputs": [],
   "execution_count": 12
  },
  {
   "id": "8f2a621d-b533-4ddd-8bcd-c22db2f922ec",
   "cell_type": "code",
   "source": "wg = load_workflow_json(file_name=workflow_json_filename)\nwg",
   "metadata": {
    "trusted": true
   },
   "outputs": [
    {
     "execution_count": 13,
     "output_type": "execute_result",
     "data": {
      "text/plain": "NodeGraphWidget(settings={'minimap': True}, style={'width': '90%', 'height': '600px'}, value={'name': 'WorkGra…",
      "application/vnd.jupyter.widget-view+json": {
       "version_major": 2,
       "version_minor": 1,
       "model_id": "f52e57854d6e4d07b6a2c11a75873efe"
      }
     },
     "metadata": {}
    }
   ],
   "execution_count": 13
  },
  {
   "id": "cf80267d-c2b0-4236-bf1d-a57596985fc1",
   "cell_type": "code",
   "source": "\nwg.run()",
   "metadata": {
    "trusted": true
   },
   "outputs": [
    {
     "name": "stderr",
     "output_type": "stream",
     "text": "05/24/2025 05:39:21 AM <524> aiida.orm.nodes.process.workflow.workchain.WorkChainNode: [REPORT] [19|WorkGraphEngine|continue_workgraph]: tasks ready to run: get_prod_and_div3\n05/24/2025 05:39:21 AM <524> aiida.orm.nodes.process.workflow.workchain.WorkChainNode: [REPORT] [19|WorkGraphEngine|update_task_state]: Task: get_prod_and_div3, type: PyFunction, finished.\n05/24/2025 05:39:21 AM <524> aiida.orm.nodes.process.workflow.workchain.WorkChainNode: [REPORT] [19|WorkGraphEngine|continue_workgraph]: tasks ready to run: get_sum2\n05/24/2025 05:39:21 AM <524> aiida.orm.nodes.process.workflow.workchain.WorkChainNode: [REPORT] [19|WorkGraphEngine|update_task_state]: Task: get_sum2, type: PyFunction, finished.\n05/24/2025 05:39:21 AM <524> aiida.orm.nodes.process.workflow.workchain.WorkChainNode: [REPORT] [19|WorkGraphEngine|continue_workgraph]: tasks ready to run: get_square1\n05/24/2025 05:39:22 AM <524> aiida.orm.nodes.process.workflow.workchain.WorkChainNode: [REPORT] [19|WorkGraphEngine|update_task_state]: Task: get_square1, type: PyFunction, finished.\n05/24/2025 05:39:22 AM <524> aiida.orm.nodes.process.workflow.workchain.WorkChainNode: [REPORT] [19|WorkGraphEngine|continue_workgraph]: tasks ready to run: \n05/24/2025 05:39:22 AM <524> aiida.orm.nodes.process.workflow.workchain.WorkChainNode: [REPORT] [19|WorkGraphEngine|finalize]: Finalize workgraph.\n"
    }
   ],
   "execution_count": 14
  },
  {
   "id": "0c3503e1-0a32-40e1-845d-3fd9ec3c4c19",
   "cell_type": "markdown",
   "source": "## Load Workflow with jobflow",
   "metadata": {}
  },
  {
   "id": "4abb0481-8e38-479d-ae61-6c46d091653e",
   "cell_type": "code",
   "source": "from python_workflow_definition.jobflow import load_workflow_json",
   "metadata": {
    "trusted": true
   },
   "outputs": [],
   "execution_count": 15
  },
  {
   "id": "8253dd7c283bf3f7",
   "cell_type": "code",
   "source": "from jobflow.managers.local import run_locally",
   "metadata": {
    "trusted": true
   },
   "outputs": [],
   "execution_count": 16
  },
  {
   "id": "4b45e83b-945f-48c5-8e20-9df0ce0a14a1",
   "cell_type": "code",
   "source": "flow = load_workflow_json(file_name=workflow_json_filename)",
   "metadata": {
    "trusted": true
   },
   "outputs": [],
   "execution_count": 17
  },
  {
   "id": "8665c39c-220c-4982-b738-c31f6460530f",
   "cell_type": "code",
   "source": "result = run_locally(flow)\nresult",
   "metadata": {
    "trusted": true
   },
   "outputs": [
    {
     "name": "stdout",
     "output_type": "stream",
     "text": "2025-05-24 05:39:22,893 INFO Started executing jobs locally\n2025-05-24 05:39:23,184 INFO Starting job - get_prod_and_div (82cb13d7-d7c8-4bd1-84d1-c301d4ee2422)\n2025-05-24 05:39:23,187 INFO Finished job - get_prod_and_div (82cb13d7-d7c8-4bd1-84d1-c301d4ee2422)\n2025-05-24 05:39:23,187 INFO Starting job - get_sum (19c0830c-e918-44d2-82f1-b9418463c057)\n2025-05-24 05:39:23,189 INFO Finished job - get_sum (19c0830c-e918-44d2-82f1-b9418463c057)\n2025-05-24 05:39:23,189 INFO Starting job - get_square (78fc4e6e-2a99-490e-b829-fae9704296c2)\n2025-05-24 05:39:23,190 INFO Finished job - get_square (78fc4e6e-2a99-490e-b829-fae9704296c2)\n2025-05-24 05:39:23,191 INFO Finished executing jobs locally\n"
    },
    {
     "execution_count": 18,
     "output_type": "execute_result",
     "data": {
      "text/plain": "{'82cb13d7-d7c8-4bd1-84d1-c301d4ee2422': {1: Response(output={'prod': 2, 'div': 0.5}, detour=None, addition=None, replace=None, stored_data=None, stop_children=False, stop_jobflow=False, job_dir=PosixPath('/home/jovyan/example_workflows/arithmetic'))},\n '19c0830c-e918-44d2-82f1-b9418463c057': {1: Response(output=2.5, detour=None, addition=None, replace=None, stored_data=None, stop_children=False, stop_jobflow=False, job_dir=PosixPath('/home/jovyan/example_workflows/arithmetic'))},\n '78fc4e6e-2a99-490e-b829-fae9704296c2': {1: Response(output=6.25, detour=None, addition=None, replace=None, stored_data=None, stop_children=False, stop_jobflow=False, job_dir=PosixPath('/home/jovyan/example_workflows/arithmetic'))}}"
     },
     "metadata": {}
    }
   ],
   "execution_count": 18
  },
  {
   "metadata": {},
   "cell_type": "markdown",
   "source": "## Load Workflow with pyiron_workflow",
   "id": "406fd07dd4bd8006"
  },
  {
   "id": "cf76f305-24de-45a7-be8e-cfe45cd6458e",
   "cell_type": "code",
   "source": "from python_workflow_definition.pyiron_workflow import load_workflow_json",
   "metadata": {
    "trusted": true,
    "ExecuteTime": {
     "end_time": "2025-05-24T08:25:33.797570Z",
     "start_time": "2025-05-24T08:25:33.771214Z"
    }
   },
   "outputs": [],
   "execution_count": null
  },
  {
   "metadata": {},
   "cell_type": "code",
   "outputs": [],
   "execution_count": null,
   "source": "wf = load_workflow_json(file_name=workflow_json_filename)",
   "id": "5b442611457aa5a8"
  },
  {
   "metadata": {},
   "cell_type": "code",
   "outputs": [],
   "execution_count": null,
   "source": "wf.draw(size=(10,10))",
   "id": "2ca33c8590a54866"
  },
  {
   "metadata": {},
   "cell_type": "code",
   "outputs": [],
   "execution_count": null,
   "source": "wf.run()",
   "id": "d36522a1c315b7f5"
  }
 ]
}
