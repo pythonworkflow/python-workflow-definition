{
 "metadata": {
  "kernelspec": {
   "display_name": "Python 3 (ipykernel)",
   "language": "python",
   "name": "python3"
  },
  "language_info": {
   "name": "python",
   "version": "3.12.8",
   "mimetype": "text/x-python",
   "codemirror_mode": {
    "name": "ipython",
    "version": 3
   },
   "pygments_lexer": "ipython3",
   "nbconvert_exporter": "python",
   "file_extension": ".py"
  }
 },
 "nbformat_minor": 4,
 "nbformat": 4,
 "cells": [
  {
   "cell_type": "markdown",
   "source": "# Load Simple Workflow",
   "metadata": {}
  },
  {
   "cell_type": "markdown",
   "source": "## Plot",
   "metadata": {}
  },
  {
   "cell_type": "code",
   "source": "from python_workflow_definition.plot import plot",
   "metadata": {
    "trusted": true
   },
   "outputs": [],
   "execution_count": 1
  },
  {
   "cell_type": "code",
   "source": "plot(file_name='workflow.json')",
   "metadata": {
    "trusted": true
   },
   "outputs": [
    {
     "output_type": "display_data",
     "data": {
      "text/plain": "<IPython.core.display.SVG object>",
      "image/svg+xml": "<svg xmlns=\"http://www.w3.org/2000/svg\" xmlns:xlink=\"http://www.w3.org/1999/xlink\" width=\"300pt\" height=\"369pt\" viewBox=\"0.00 0.00 299.82 368.50\">\n<g id=\"graph0\" class=\"graph\" transform=\"scale(1 1) rotate(0) translate(4 364.5)\">\n<polygon fill=\"white\" stroke=\"none\" points=\"-4,4 -4,-364.5 295.82,-364.5 295.82,4 -4,4\"/>\n<!-- 0 -->\n<g id=\"node1\" class=\"node\">\n<title>0</title>\n<ellipse fill=\"none\" stroke=\"black\" cx=\"145.91\" cy=\"-253.25\" rx=\"145.91\" ry=\"18\"/>\n<text text-anchor=\"middle\" x=\"145.91\" y=\"-248.57\" font-family=\"Times,serif\" font-size=\"14.00\">workflow.get_prod_and_div</text>\n</g>\n<!-- 1 -->\n<g id=\"node2\" class=\"node\">\n<title>1</title>\n<ellipse fill=\"none\" stroke=\"black\" cx=\"145.91\" cy=\"-180.25\" rx=\"100.66\" ry=\"18\"/>\n<text text-anchor=\"middle\" x=\"145.91\" y=\"-175.57\" font-family=\"Times,serif\" font-size=\"14.00\">workflow.get_sum</text>\n</g>\n<!-- 0&#45;&gt;1 -->\n<g id=\"edge1\" class=\"edge\">\n<title>0-&gt;1</title>\n<path fill=\"none\" stroke=\"black\" d=\"M145.91,-235.06C145.91,-227.48 145.91,-218.35 145.91,-209.79\"/>\n<polygon fill=\"black\" stroke=\"black\" points=\"149.41,-209.79 145.91,-199.79 142.41,-209.79 149.41,-209.79\"/>\n</g>\n<!-- 2 -->\n<g id=\"node3\" class=\"node\">\n<title>2</title>\n<ellipse fill=\"none\" stroke=\"black\" cx=\"145.91\" cy=\"-91\" rx=\"113.82\" ry=\"18\"/>\n<text text-anchor=\"middle\" x=\"145.91\" y=\"-86.33\" font-family=\"Times,serif\" font-size=\"14.00\">workflow.get_square</text>\n</g>\n<!-- 1&#45;&gt;2 -->\n<g id=\"edge2\" class=\"edge\">\n<title>1-&gt;2</title>\n<path fill=\"none\" stroke=\"black\" d=\"M145.91,-162.01C145.91,-150.18 145.91,-134.2 145.91,-120.5\"/>\n<polygon fill=\"black\" stroke=\"black\" points=\"149.41,-120.72 145.91,-110.72 142.41,-120.72 149.41,-120.72\"/>\n<text text-anchor=\"middle\" x=\"150.03\" y=\"-130.95\" font-family=\"Times,serif\" font-size=\"14.00\">x</text>\n</g>\n<!-- 5 -->\n<g id=\"node4\" class=\"node\">\n<title>5</title>\n<ellipse fill=\"none\" stroke=\"black\" cx=\"145.91\" cy=\"-18\" rx=\"40.69\" ry=\"18\"/>\n<text text-anchor=\"middle\" x=\"145.91\" y=\"-13.32\" font-family=\"Times,serif\" font-size=\"14.00\">result</text>\n</g>\n<!-- 2&#45;&gt;5 -->\n<g id=\"edge3\" class=\"edge\">\n<title>2-&gt;5</title>\n<path fill=\"none\" stroke=\"black\" d=\"M145.91,-72.81C145.91,-65.23 145.91,-56.1 145.91,-47.54\"/>\n<polygon fill=\"black\" stroke=\"black\" points=\"149.41,-47.54 145.91,-37.54 142.41,-47.54 149.41,-47.54\"/>\n</g>\n<!-- 3 -->\n<g id=\"node5\" class=\"node\">\n<title>3</title>\n<ellipse fill=\"none\" stroke=\"black\" cx=\"109.91\" cy=\"-342.5\" rx=\"27\" ry=\"18\"/>\n<text text-anchor=\"middle\" x=\"109.91\" y=\"-337.82\" font-family=\"Times,serif\" font-size=\"14.00\">1</text>\n</g>\n<!-- 3&#45;&gt;0 -->\n<g id=\"edge4\" class=\"edge\">\n<title>3-&gt;0</title>\n<path fill=\"none\" stroke=\"black\" d=\"M116.85,-324.68C121.81,-312.64 128.61,-296.16 134.39,-282.17\"/>\n<polygon fill=\"black\" stroke=\"black\" points=\"137.59,-283.6 138.16,-273.02 131.11,-280.93 137.59,-283.6\"/>\n<text text-anchor=\"middle\" x=\"135.26\" y=\"-293.2\" font-family=\"Times,serif\" font-size=\"14.00\">x</text>\n</g>\n<!-- 4 -->\n<g id=\"node6\" class=\"node\">\n<title>4</title>\n<ellipse fill=\"none\" stroke=\"black\" cx=\"181.91\" cy=\"-342.5\" rx=\"27\" ry=\"18\"/>\n<text text-anchor=\"middle\" x=\"181.91\" y=\"-337.82\" font-family=\"Times,serif\" font-size=\"14.00\">2</text>\n</g>\n<!-- 4&#45;&gt;0 -->\n<g id=\"edge5\" class=\"edge\">\n<title>4-&gt;0</title>\n<path fill=\"none\" stroke=\"black\" d=\"M174.97,-324.68C170,-312.64 163.2,-296.16 157.43,-282.17\"/>\n<polygon fill=\"black\" stroke=\"black\" points=\"160.7,-280.93 153.65,-273.02 154.23,-283.6 160.7,-280.93\"/>\n<text text-anchor=\"middle\" x=\"171.26\" y=\"-293.2\" font-family=\"Times,serif\" font-size=\"14.00\">y</text>\n</g>\n</g>\n</svg>"
     },
     "metadata": {}
    }
   ],
   "execution_count": 2
  },
  {
   "cell_type": "markdown",
   "source": "## Aiida ",
   "metadata": {}
  },
  {
   "cell_type": "code",
   "source": "from python_workflow_definition.aiida import load_workflow_json\n\nfrom aiida import load_profile\nload_profile()",
   "metadata": {
    "trusted": true
   },
   "outputs": [
    {
     "execution_count": 3,
     "output_type": "execute_result",
     "data": {
      "text/plain": "Profile<uuid='3ce302a995914d2e8a7b6327a10fe381' name='pwd'>"
     },
     "metadata": {}
    }
   ],
   "execution_count": 3
  },
  {
   "cell_type": "code",
   "source": "workgraph = load_workflow_json(file_name='workflow.json')",
   "metadata": {
    "trusted": true
   },
   "outputs": [],
   "execution_count": 4
  },
  {
   "cell_type": "code",
   "source": "# TODO: Create inputs rather than tasks out of data nodes\nworkgraph",
   "metadata": {
    "trusted": true
   },
   "outputs": [
    {
     "execution_count": 5,
     "output_type": "execute_result",
     "data": {
      "text/plain": "NodeGraphWidget(settings={'minimap': True}, style={'width': '90%', 'height': '600px'}, value={'name': 'WorkGra…",
      "application/vnd.jupyter.widget-view+json": {
       "version_major": 2,
       "version_minor": 1,
       "model_id": "fc63f59e75a74fbcab9e44a06ecb6d18"
      }
     },
     "metadata": {}
    }
   ],
   "execution_count": 5
  },
  {
   "cell_type": "code",
   "source": "\nworkgraph.run()",
   "metadata": {
    "trusted": true
   },
   "outputs": [
    {
     "name": "stderr",
     "output_type": "stream",
     "text": "05/24/2025 05:39:46 AM <644> aiida.orm.nodes.process.workflow.workchain.WorkChainNode: [REPORT] [35|WorkGraphEngine|continue_workgraph]: tasks ready to run: get_prod_and_div1\n05/24/2025 05:39:46 AM <644> aiida.orm.nodes.process.workflow.workchain.WorkChainNode: [REPORT] [35|WorkGraphEngine|update_task_state]: Task: get_prod_and_div1, type: PyFunction, finished.\n05/24/2025 05:39:46 AM <644> aiida.orm.nodes.process.workflow.workchain.WorkChainNode: [REPORT] [35|WorkGraphEngine|continue_workgraph]: tasks ready to run: get_sum2\n05/24/2025 05:39:47 AM <644> aiida.orm.nodes.process.workflow.workchain.WorkChainNode: [REPORT] [35|WorkGraphEngine|update_task_state]: Task: get_sum2, type: PyFunction, finished.\n05/24/2025 05:39:47 AM <644> aiida.orm.nodes.process.workflow.workchain.WorkChainNode: [REPORT] [35|WorkGraphEngine|continue_workgraph]: tasks ready to run: get_square3\n05/24/2025 05:39:47 AM <644> aiida.orm.nodes.process.workflow.workchain.WorkChainNode: [REPORT] [35|WorkGraphEngine|update_task_state]: Task: get_square3, type: PyFunction, finished.\n05/24/2025 05:39:47 AM <644> aiida.orm.nodes.process.workflow.workchain.WorkChainNode: [REPORT] [35|WorkGraphEngine|continue_workgraph]: tasks ready to run: \n05/24/2025 05:39:47 AM <644> aiida.orm.nodes.process.workflow.workchain.WorkChainNode: [REPORT] [35|WorkGraphEngine|finalize]: Finalize workgraph.\n"
    }
   ],
   "execution_count": 6
  },
  {
   "cell_type": "markdown",
   "source": "## executorlib",
   "metadata": {}
  },
  {
   "cell_type": "code",
   "source": "from executorlib import SingleNodeExecutor",
   "metadata": {
    "trusted": true
   },
   "outputs": [],
   "execution_count": 7
  },
  {
   "cell_type": "code",
   "source": "from python_workflow_definition.executorlib import load_workflow_json",
   "metadata": {
    "trusted": true
   },
   "outputs": [],
   "execution_count": 8
  },
  {
   "cell_type": "code",
   "source": "with SingleNodeExecutor(max_workers=1) as exe:\n    result = load_workflow_json(file_name=\"workflow.json\", exe=exe).result()",
   "metadata": {
    "trusted": true
   },
   "outputs": [],
   "execution_count": 9
  },
  {
   "cell_type": "code",
   "source": "result",
   "metadata": {
    "trusted": true
   },
   "outputs": [
    {
     "execution_count": 10,
     "output_type": "execute_result",
     "data": {
      "text/plain": "6.25"
     },
     "metadata": {}
    }
   ],
   "execution_count": 10
  },
  {
   "cell_type": "markdown",
   "source": "## Jobflow",
   "metadata": {}
  },
  {
   "cell_type": "code",
   "source": "from jobflow.managers.local import run_locally",
   "metadata": {
    "trusted": true
   },
   "outputs": [],
   "execution_count": 11
  },
  {
   "cell_type": "code",
   "source": "from python_workflow_definition.jobflow import load_workflow_json",
   "metadata": {
    "trusted": true
   },
   "outputs": [],
   "execution_count": 12
  },
  {
   "cell_type": "code",
   "source": "flow = load_workflow_json(file_name=\"workflow.json\")",
   "metadata": {
    "trusted": true
   },
   "outputs": [],
   "execution_count": 13
  },
  {
   "cell_type": "code",
   "source": "result = run_locally(flow)\nresult",
   "metadata": {
    "trusted": true
   },
   "outputs": [
    {
     "name": "stdout",
     "output_type": "stream",
     "text": "2025-05-24 05:39:49,427 INFO Started executing jobs locally\n2025-05-24 05:39:49,510 INFO Starting job - get_prod_and_div (f82f13df-44cc-4bce-8712-ab5a1408c551)\n2025-05-24 05:39:49,512 INFO Finished job - get_prod_and_div (f82f13df-44cc-4bce-8712-ab5a1408c551)\n2025-05-24 05:39:49,513 INFO Starting job - get_sum (bb1c3b6d-986a-4e5d-b2f4-6611940ba4c6)\n2025-05-24 05:39:49,514 INFO Finished job - get_sum (bb1c3b6d-986a-4e5d-b2f4-6611940ba4c6)\n2025-05-24 05:39:49,515 INFO Starting job - get_square (5c60ac07-39fd-4511-93d8-3bd65c6bd7ca)\n2025-05-24 05:39:49,516 INFO Finished job - get_square (5c60ac07-39fd-4511-93d8-3bd65c6bd7ca)\n2025-05-24 05:39:49,516 INFO Finished executing jobs locally\n"
    },
    {
     "execution_count": 14,
     "output_type": "execute_result",
     "data": {
      "text/plain": "{'f82f13df-44cc-4bce-8712-ab5a1408c551': {1: Response(output={'prod': 2, 'div': 0.5}, detour=None, addition=None, replace=None, stored_data=None, stop_children=False, stop_jobflow=False, job_dir=PosixPath('/home/jovyan/example_workflows/arithmetic'))},\n 'bb1c3b6d-986a-4e5d-b2f4-6611940ba4c6': {1: Response(output=2.5, detour=None, addition=None, replace=None, stored_data=None, stop_children=False, stop_jobflow=False, job_dir=PosixPath('/home/jovyan/example_workflows/arithmetic'))},\n '5c60ac07-39fd-4511-93d8-3bd65c6bd7ca': {1: Response(output=6.25, detour=None, addition=None, replace=None, stored_data=None, stop_children=False, stop_jobflow=False, job_dir=PosixPath('/home/jovyan/example_workflows/arithmetic'))}}"
     },
     "metadata": {}
    }
   ],
   "execution_count": 14
  },
  {
   "cell_type": "markdown",
   "source": "## pyiron",
   "metadata": {}
  },
  {
   "cell_type": "code",
   "source": "from python_workflow_definition.pyiron_base import load_workflow_json",
   "metadata": {
    "trusted": true
   },
   "outputs": [],
   "execution_count": 15
  },
  {
   "cell_type": "code",
   "source": "delayed_object_lst = load_workflow_json(file_name=\"workflow.json\")\ndelayed_object_lst[-1].draw()",
   "metadata": {
    "trusted": true
   },
   "outputs": [
    {
     "output_type": "display_data",
     "data": {
      "text/plain": "<IPython.core.display.SVG object>",
      "image/svg+xml": "<svg xmlns=\"http://www.w3.org/2000/svg\" xmlns:xlink=\"http://www.w3.org/1999/xlink\" width=\"1606pt\" height=\"260pt\" viewBox=\"0.00 0.00 1606.04 260.00\">\n<g id=\"graph0\" class=\"graph\" transform=\"scale(1 1) rotate(0) translate(4 256)\">\n<polygon fill=\"white\" stroke=\"none\" points=\"-4,4 -4,-256 1602.04,-256 1602.04,4 -4,4\"/>\n<!-- create_function_job_25906340bd0c28c44fd73d69e7a3d8bc -->\n<g id=\"node1\" class=\"node\">\n<title>create_function_job_25906340bd0c28c44fd73d69e7a3d8bc</title>\n<ellipse fill=\"none\" stroke=\"black\" cx=\"799.81\" cy=\"-18\" rx=\"487.88\" ry=\"18\"/>\n<text text-anchor=\"middle\" x=\"799.81\" y=\"-13.32\" font-family=\"Times,serif\" font-size=\"14.00\">create_function_job=&lt;pyiron_base.project.delayed.DelayedObject object at 0x749611736a50&gt;</text>\n</g>\n<!-- x_1a7fff02f6473a13e5e8742988186611 -->\n<g id=\"node2\" class=\"node\">\n<title>x_1a7fff02f6473a13e5e8742988186611</title>\n<ellipse fill=\"none\" stroke=\"black\" cx=\"799.81\" cy=\"-90\" rx=\"396.34\" ry=\"18\"/>\n<text text-anchor=\"middle\" x=\"799.81\" y=\"-85.33\" font-family=\"Times,serif\" font-size=\"14.00\">x=&lt;pyiron_base.project.delayed.DelayedObject object at 0x7496117367e0&gt;</text>\n</g>\n<!-- x_1a7fff02f6473a13e5e8742988186611&#45;&gt;create_function_job_25906340bd0c28c44fd73d69e7a3d8bc -->\n<g id=\"edge1\" class=\"edge\">\n<title>x_1a7fff02f6473a13e5e8742988186611-&gt;create_function_job_25906340bd0c28c44fd73d69e7a3d8bc</title>\n<path fill=\"none\" stroke=\"black\" d=\"M799.81,-71.7C799.81,-64.41 799.81,-55.73 799.81,-47.54\"/>\n<polygon fill=\"black\" stroke=\"black\" points=\"803.31,-47.62 799.81,-37.62 796.31,-47.62 803.31,-47.62\"/>\n</g>\n<!-- x_e4655695917c433de56d1c64232473f9 -->\n<g id=\"node3\" class=\"node\">\n<title>x_e4655695917c433de56d1c64232473f9</title>\n<ellipse fill=\"none\" stroke=\"black\" cx=\"395.81\" cy=\"-162\" rx=\"395.81\" ry=\"18\"/>\n<text text-anchor=\"middle\" x=\"395.81\" y=\"-157.32\" font-family=\"Times,serif\" font-size=\"14.00\">x=&lt;pyiron_base.project.delayed.DelayedObject object at 0x74961213ea50&gt;</text>\n</g>\n<!-- x_e4655695917c433de56d1c64232473f9&#45;&gt;x_1a7fff02f6473a13e5e8742988186611 -->\n<g id=\"edge2\" class=\"edge\">\n<title>x_e4655695917c433de56d1c64232473f9-&gt;x_1a7fff02f6473a13e5e8742988186611</title>\n<path fill=\"none\" stroke=\"black\" d=\"M493.35,-144.1C553.03,-133.76 629.5,-120.51 691.12,-109.83\"/>\n<polygon fill=\"black\" stroke=\"black\" points=\"691.7,-113.28 700.95,-108.13 690.5,-106.39 691.7,-113.28\"/>\n</g>\n<!-- x_1d847da32ecaabf6731c38f798c3d4ce -->\n<g id=\"node4\" class=\"node\">\n<title>x_1d847da32ecaabf6731c38f798c3d4ce</title>\n<ellipse fill=\"none\" stroke=\"black\" cx=\"577.81\" cy=\"-234\" rx=\"31.74\" ry=\"18\"/>\n<text text-anchor=\"middle\" x=\"577.81\" y=\"-229.32\" font-family=\"Times,serif\" font-size=\"14.00\">x=1</text>\n</g>\n<!-- x_1d847da32ecaabf6731c38f798c3d4ce&#45;&gt;x_e4655695917c433de56d1c64232473f9 -->\n<g id=\"edge3\" class=\"edge\">\n<title>x_1d847da32ecaabf6731c38f798c3d4ce-&gt;x_e4655695917c433de56d1c64232473f9</title>\n<path fill=\"none\" stroke=\"black\" d=\"M552.12,-223.12C526.04,-213.09 484.82,-197.24 451.26,-184.33\"/>\n<polygon fill=\"black\" stroke=\"black\" points=\"452.67,-181.12 442.08,-180.8 450.16,-187.65 452.67,-181.12\"/>\n</g>\n<!-- y_3b83397feef07a74d9a046a1b7f57749 -->\n<g id=\"node5\" class=\"node\">\n<title>y_3b83397feef07a74d9a046a1b7f57749</title>\n<ellipse fill=\"none\" stroke=\"black\" cx=\"1203.81\" cy=\"-162\" rx=\"394.23\" ry=\"18\"/>\n<text text-anchor=\"middle\" x=\"1203.81\" y=\"-157.32\" font-family=\"Times,serif\" font-size=\"14.00\">y=&lt;pyiron_base.project.delayed.DelayedObject object at 0x74961eca0a10&gt;</text>\n</g>\n<!-- x_1d847da32ecaabf6731c38f798c3d4ce&#45;&gt;y_3b83397feef07a74d9a046a1b7f57749 -->\n<g id=\"edge4\" class=\"edge\">\n<title>x_1d847da32ecaabf6731c38f798c3d4ce-&gt;y_3b83397feef07a74d9a046a1b7f57749</title>\n<path fill=\"none\" stroke=\"black\" d=\"M608.85,-229.53C687.68,-220.71 899.81,-196.99 1048.18,-180.4\"/>\n<polygon fill=\"black\" stroke=\"black\" points=\"1048.14,-183.93 1057.69,-179.34 1047.36,-176.97 1048.14,-183.93\"/>\n</g>\n<!-- y_3b83397feef07a74d9a046a1b7f57749&#45;&gt;x_1a7fff02f6473a13e5e8742988186611 -->\n<g id=\"edge7\" class=\"edge\">\n<title>y_3b83397feef07a74d9a046a1b7f57749-&gt;x_1a7fff02f6473a13e5e8742988186611</title>\n<path fill=\"none\" stroke=\"black\" d=\"M1106.27,-144.1C1046.59,-133.76 970.12,-120.51 908.5,-109.83\"/>\n<polygon fill=\"black\" stroke=\"black\" points=\"909.12,-106.39 898.67,-108.13 907.92,-113.28 909.12,-106.39\"/>\n</g>\n<!-- y_a9ec4f5f33f0d64e74ed5d9900bceac6 -->\n<g id=\"node6\" class=\"node\">\n<title>y_a9ec4f5f33f0d64e74ed5d9900bceac6</title>\n<ellipse fill=\"none\" stroke=\"black\" cx=\"1021.81\" cy=\"-234\" rx=\"31.74\" ry=\"18\"/>\n<text text-anchor=\"middle\" x=\"1021.81\" y=\"-229.32\" font-family=\"Times,serif\" font-size=\"14.00\">y=2</text>\n</g>\n<!-- y_a9ec4f5f33f0d64e74ed5d9900bceac6&#45;&gt;x_e4655695917c433de56d1c64232473f9 -->\n<g id=\"edge5\" class=\"edge\">\n<title>y_a9ec4f5f33f0d64e74ed5d9900bceac6-&gt;x_e4655695917c433de56d1c64232473f9</title>\n<path fill=\"none\" stroke=\"black\" d=\"M990.77,-229.53C912,-220.72 700.13,-197.03 551.78,-180.44\"/>\n<polygon fill=\"black\" stroke=\"black\" points=\"552.6,-177.01 542.27,-179.38 551.82,-183.97 552.6,-177.01\"/>\n</g>\n<!-- y_a9ec4f5f33f0d64e74ed5d9900bceac6&#45;&gt;y_3b83397feef07a74d9a046a1b7f57749 -->\n<g id=\"edge6\" class=\"edge\">\n<title>y_a9ec4f5f33f0d64e74ed5d9900bceac6-&gt;y_3b83397feef07a74d9a046a1b7f57749</title>\n<path fill=\"none\" stroke=\"black\" d=\"M1047.5,-223.12C1073.58,-213.09 1114.8,-197.24 1148.36,-184.33\"/>\n<polygon fill=\"black\" stroke=\"black\" points=\"1149.46,-187.65 1157.54,-180.8 1146.95,-181.12 1149.46,-187.65\"/>\n</g>\n</g>\n</svg>"
     },
     "metadata": {}
    }
   ],
   "execution_count": 16
  },
  {
   "cell_type": "code",
   "source": "delayed_object_lst[-1].pull()",
   "metadata": {
    "trusted": true
   },
   "outputs": [
    {
     "name": "stdout",
     "output_type": "stream",
     "text": "The job get_prod_and_div_00cf2c787390eacfbc4a51e9a0c38ec7 was saved and received the ID: 1\nThe job get_sum_4b5b9d16b259a13b6a32798ce2779af8 was saved and received the ID: 2\nThe job get_square_9cc2f0545498916d7720c59c1120a66d was saved and received the ID: 3\n"
    },
    {
     "execution_count": 17,
     "output_type": "execute_result",
     "data": {
      "text/plain": "6.25"
     },
     "metadata": {}
    }
   ],
   "execution_count": 17
  },
  {
   "metadata": {},
   "cell_type": "markdown",
   "source": "## Load Workflow with pyiron_workflow"
  },
  {
   "metadata": {},
   "cell_type": "code",
   "outputs": [],
   "execution_count": null,
   "source": "from python_workflow_definition.pyiron_workflow import load_workflow_json"
  },
  {
   "metadata": {},
   "cell_type": "code",
   "outputs": [],
   "execution_count": null,
   "source": "wf = load_workflow_json(file_name=\"workflow.json\")"
  },
  {
   "metadata": {},
   "cell_type": "code",
   "outputs": [],
   "execution_count": null,
   "source": "wf.draw(size=(10,10))"
  },
  {
   "metadata": {},
   "cell_type": "code",
   "outputs": [],
   "execution_count": null,
   "source": "wf.run()"
  },
  {
   "cell_type": "markdown",
   "source": "## Python",
   "metadata": {}
  },
  {
   "cell_type": "code",
   "source": "from python_workflow_definition.purepython import load_workflow_json",
   "metadata": {
    "trusted": true
   },
   "outputs": [],
   "execution_count": 18
  },
  {
   "cell_type": "code",
   "source": "load_workflow_json(file_name=\"workflow.json\")",
   "metadata": {
    "trusted": true
   },
   "outputs": [
    {
     "execution_count": 19,
     "output_type": "execute_result",
     "data": {
      "text/plain": "6.25"
     },
     "metadata": {}
    }
   ],
   "execution_count": 19
  }
 ]
}
