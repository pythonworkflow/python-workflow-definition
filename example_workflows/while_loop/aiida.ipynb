{
 "cells": [
  {
   "cell_type": "markdown",
   "metadata": {},
   "source": [
    "# While Loop with AiiDA WorkGraph\n",
    "\n",
    "This notebook demonstrates using the WhileNode with AiiDA WorkGraph backend.\n",
    "\n",
    "## Setup"
   ]
  },
  {
   "cell_type": "code",
   "execution_count": null,
   "metadata": {},
   "outputs": [],
   "source": "import sys\nfrom pathlib import Path\n\n# Add source to path\nsrc_path = Path.cwd().parent / \"python_workflow_definition\" / \"src\"\nsys.path.insert(0, str(src_path))\n\n# Add workflow examples to path so they can be imported\nworkflow_examples_path = Path.cwd().parent / \"example_workflows\" / \"while_loop\"\nsys.path.insert(0, str(workflow_examples_path))\n\nfrom aiida import load_profile\nload_profile()"
  },
  {
   "cell_type": "markdown",
   "metadata": {},
   "source": [
    "## Example 1: Load While Loop from JSON\n",
    "\n",
    "Load a simple counter workflow with while loop from JSON."
   ]
  },
  {
   "cell_type": "code",
   "execution_count": 2,
   "metadata": {},
   "outputs": [
    {
     "ename": "ModuleNotFoundError",
     "evalue": "No module named 'workflow'",
     "output_type": "error",
     "traceback": [
      "\u001b[0;31m---------------------------------------------------------------------------\u001b[0m",
      "\u001b[0;31mModuleNotFoundError\u001b[0m                       Traceback (most recent call last)",
      "Cell \u001b[0;32mIn[2], line 7\u001b[0m\n\u001b[1;32m      4\u001b[0m json_file \u001b[38;5;241m=\u001b[39m Path\u001b[38;5;241m.\u001b[39mcwd()\u001b[38;5;241m.\u001b[39mparent \u001b[38;5;241m/\u001b[39m \u001b[38;5;124m\"\u001b[39m\u001b[38;5;124mexample_workflows\u001b[39m\u001b[38;5;124m\"\u001b[39m \u001b[38;5;241m/\u001b[39m \u001b[38;5;124m\"\u001b[39m\u001b[38;5;124mwhile_loop\u001b[39m\u001b[38;5;124m\"\u001b[39m \u001b[38;5;241m/\u001b[39m \u001b[38;5;124m\"\u001b[39m\u001b[38;5;124msimple_counter.json\u001b[39m\u001b[38;5;124m\"\u001b[39m\n\u001b[1;32m      6\u001b[0m \u001b[38;5;66;03m# Load the workflow\u001b[39;00m\n\u001b[0;32m----> 7\u001b[0m wg \u001b[38;5;241m=\u001b[39m \u001b[43mload_workflow_json\u001b[49m\u001b[43m(\u001b[49m\u001b[38;5;28;43mstr\u001b[39;49m\u001b[43m(\u001b[49m\u001b[43mjson_file\u001b[49m\u001b[43m)\u001b[49m\u001b[43m)\u001b[49m\n\u001b[1;32m      9\u001b[0m \u001b[38;5;28mprint\u001b[39m(\u001b[38;5;124mf\u001b[39m\u001b[38;5;124m\"\u001b[39m\u001b[38;5;124mLoaded WorkGraph with \u001b[39m\u001b[38;5;132;01m{\u001b[39;00m\u001b[38;5;28mlen\u001b[39m(wg\u001b[38;5;241m.\u001b[39mtasks)\u001b[38;5;132;01m}\u001b[39;00m\u001b[38;5;124m tasks\u001b[39m\u001b[38;5;124m\"\u001b[39m)\n\u001b[1;32m     10\u001b[0m \u001b[38;5;28mprint\u001b[39m(\u001b[38;5;124mf\u001b[39m\u001b[38;5;124m\"\u001b[39m\u001b[38;5;124mTasks: \u001b[39m\u001b[38;5;132;01m{\u001b[39;00m[t\u001b[38;5;241m.\u001b[39mname\u001b[38;5;250m \u001b[39m\u001b[38;5;28;01mfor\u001b[39;00m\u001b[38;5;250m \u001b[39mt\u001b[38;5;250m \u001b[39m\u001b[38;5;129;01min\u001b[39;00m\u001b[38;5;250m \u001b[39mwg\u001b[38;5;241m.\u001b[39mtasks]\u001b[38;5;132;01m}\u001b[39;00m\u001b[38;5;124m\"\u001b[39m)\n",
      "File \u001b[0;32m~/aiida_projects/adis/git-repos/python-workflow-definition/python_workflow_definition/src/python_workflow_definition/aiida.py:96\u001b[0m, in \u001b[0;36mload_workflow_json\u001b[0;34m(file_name)\u001b[0m\n\u001b[1;32m     93\u001b[0m     task_name_mapping[\u001b[38;5;28mid\u001b[39m] \u001b[38;5;241m=\u001b[39m wg\u001b[38;5;241m.\u001b[39mtasks[\u001b[38;5;241m-\u001b[39m\u001b[38;5;241m1\u001b[39m]\n\u001b[1;32m     94\u001b[0m \u001b[38;5;28;01melif\u001b[39;00m node_type \u001b[38;5;241m==\u001b[39m \u001b[38;5;124m\"\u001b[39m\u001b[38;5;124mwhile\u001b[39m\u001b[38;5;124m\"\u001b[39m:\n\u001b[1;32m     95\u001b[0m     \u001b[38;5;66;03m# Create while loop task\u001b[39;00m\n\u001b[0;32m---> 96\u001b[0m     while_task \u001b[38;5;241m=\u001b[39m \u001b[43m_create_while_loop_task\u001b[49m\u001b[43m(\u001b[49m\u001b[43mnode\u001b[49m\u001b[43m)\u001b[49m\n\u001b[1;32m     97\u001b[0m     wg\u001b[38;5;241m.\u001b[39madd_task(while_task)\n\u001b[1;32m     98\u001b[0m     \u001b[38;5;28;01mdel\u001b[39;00m wg\u001b[38;5;241m.\u001b[39mtasks[\u001b[38;5;241m-\u001b[39m\u001b[38;5;241m1\u001b[39m]\u001b[38;5;241m.\u001b[39moutputs[\u001b[38;5;124m\"\u001b[39m\u001b[38;5;124mresult\u001b[39m\u001b[38;5;124m\"\u001b[39m]\n",
      "File \u001b[0;32m~/aiida_projects/adis/git-repos/python-workflow-definition/python_workflow_definition/src/python_workflow_definition/aiida.py:39\u001b[0m, in \u001b[0;36m_create_while_loop_task\u001b[0;34m(while_node_data)\u001b[0m\n\u001b[1;32m     37\u001b[0m \u001b[38;5;28;01mif\u001b[39;00m condition_func:\n\u001b[1;32m     38\u001b[0m     p, m \u001b[38;5;241m=\u001b[39m condition_func\u001b[38;5;241m.\u001b[39mrsplit(\u001b[38;5;124m\"\u001b[39m\u001b[38;5;124m.\u001b[39m\u001b[38;5;124m\"\u001b[39m, \u001b[38;5;241m1\u001b[39m)\n\u001b[0;32m---> 39\u001b[0m     mod \u001b[38;5;241m=\u001b[39m \u001b[43mimport_module\u001b[49m\u001b[43m(\u001b[49m\u001b[43mp\u001b[49m\u001b[43m)\u001b[49m\n\u001b[1;32m     40\u001b[0m     check_condition \u001b[38;5;241m=\u001b[39m \u001b[38;5;28mgetattr\u001b[39m(mod, m)\n\u001b[1;32m     41\u001b[0m \u001b[38;5;28;01melse\u001b[39;00m:\n\u001b[1;32m     42\u001b[0m     \u001b[38;5;66;03m# Create condition function from expression\u001b[39;00m\n",
      "File \u001b[0;32m/usr/lib/python3.10/importlib/__init__.py:126\u001b[0m, in \u001b[0;36mimport_module\u001b[0;34m(name, package)\u001b[0m\n\u001b[1;32m    124\u001b[0m             \u001b[38;5;28;01mbreak\u001b[39;00m\n\u001b[1;32m    125\u001b[0m         level \u001b[38;5;241m+\u001b[39m\u001b[38;5;241m=\u001b[39m \u001b[38;5;241m1\u001b[39m\n\u001b[0;32m--> 126\u001b[0m \u001b[38;5;28;01mreturn\u001b[39;00m \u001b[43m_bootstrap\u001b[49m\u001b[38;5;241;43m.\u001b[39;49m\u001b[43m_gcd_import\u001b[49m\u001b[43m(\u001b[49m\u001b[43mname\u001b[49m\u001b[43m[\u001b[49m\u001b[43mlevel\u001b[49m\u001b[43m:\u001b[49m\u001b[43m]\u001b[49m\u001b[43m,\u001b[49m\u001b[43m \u001b[49m\u001b[43mpackage\u001b[49m\u001b[43m,\u001b[49m\u001b[43m \u001b[49m\u001b[43mlevel\u001b[49m\u001b[43m)\u001b[49m\n",
      "File \u001b[0;32m<frozen importlib._bootstrap>:1050\u001b[0m, in \u001b[0;36m_gcd_import\u001b[0;34m(name, package, level)\u001b[0m\n",
      "File \u001b[0;32m<frozen importlib._bootstrap>:1027\u001b[0m, in \u001b[0;36m_find_and_load\u001b[0;34m(name, import_)\u001b[0m\n",
      "File \u001b[0;32m<frozen importlib._bootstrap>:1004\u001b[0m, in \u001b[0;36m_find_and_load_unlocked\u001b[0;34m(name, import_)\u001b[0m\n",
      "\u001b[0;31mModuleNotFoundError\u001b[0m: No module named 'workflow'"
     ]
    }
   ],
   "source": [
    "from python_workflow_definition.aiida import load_workflow_json\n",
    "\n",
    "# Create the JSON workflow file path\n",
    "json_file = Path.cwd().parent / \"example_workflows\" / \"while_loop\" / \"simple_counter.json\"\n",
    "\n",
    "# Load the workflow\n",
    "wg = load_workflow_json(str(json_file))\n",
    "\n",
    "print(f\"Loaded WorkGraph with {len(wg.tasks)} tasks\")\n",
    "print(f\"Tasks: {[t.name for t in wg.tasks]}\")"
   ]
  },
  {
   "cell_type": "markdown",
   "metadata": {},
   "source": [
    "## Example 2: Build WorkGraph and Run\n",
    "\n",
    "Build and execute the while loop workflow."
   ]
  },
  {
   "cell_type": "code",
   "execution_count": null,
   "metadata": {},
   "outputs": [],
   "source": [
    "# Submit the workflow\n",
    "wg.submit(wait=True)\n",
    "\n",
    "print(f\"Workflow state: {wg.state}\")\n",
    "print(f\"Result: {wg.tasks[-1].outputs}\")"
   ]
  },
  {
   "cell_type": "markdown",
   "metadata": {},
   "source": [
    "## Example 3: Expression-based Condition\n",
    "\n",
    "Load a while loop with expression-based condition."
   ]
  },
  {
   "cell_type": "code",
   "execution_count": null,
   "metadata": {},
   "outputs": [],
   "source": [
    "json_file_expr = Path.cwd().parent / \"example_workflows\" / \"while_loop\" / \"simple_counter_expression.json\"\n",
    "\n",
    "wg_expr = load_workflow_json(str(json_file_expr))\n",
    "wg_expr.submit(wait=True)\n",
    "\n",
    "print(f\"Expression-based workflow state: {wg_expr.state}\")"
   ]
  },
  {
   "cell_type": "markdown",
   "metadata": {},
   "source": [
    "## Example 4: Create While Loop Manually\n",
    "\n",
    "Create a while loop workflow using Python API and export to JSON."
   ]
  },
  {
   "cell_type": "code",
   "execution_count": null,
   "metadata": {},
   "outputs": [],
   "source": [
    "from python_workflow_definition.models import (\n",
    "    PythonWorkflowDefinitionWorkflow,\n",
    "    PythonWorkflowDefinitionWhileNode,\n",
    "    PythonWorkflowDefinitionInputNode,\n",
    "    PythonWorkflowDefinitionOutputNode,\n",
    "    PythonWorkflowDefinitionEdge,\n",
    ")\n",
    "\n",
    "# Define workflow\n",
    "workflow = PythonWorkflowDefinitionWorkflow(\n",
    "    version=\"0.1.0\",\n",
    "    nodes=[\n",
    "        PythonWorkflowDefinitionInputNode(id=0, type=\"input\", name=\"n\", value=5),\n",
    "        PythonWorkflowDefinitionInputNode(id=1, type=\"input\", name=\"m\", value=0),\n",
    "        PythonWorkflowDefinitionWhileNode(\n",
    "            id=2,\n",
    "            type=\"while\",\n",
    "            conditionExpression=\"m < n\",\n",
    "            bodyFunction=\"workflow.increment_m\",\n",
    "            maxIterations=100,\n",
    "        ),\n",
    "        PythonWorkflowDefinitionOutputNode(id=3, type=\"output\", name=\"result\"),\n",
    "    ],\n",
    "    edges=[\n",
    "        PythonWorkflowDefinitionEdge(source=0, target=2, targetPort=\"n\"),\n",
    "        PythonWorkflowDefinitionEdge(source=1, target=2, targetPort=\"m\"),\n",
    "        PythonWorkflowDefinitionEdge(source=2, sourcePort=\"m\", target=3),\n",
    "    ],\n",
    ")\n",
    "\n",
    "# Save to JSON\n",
    "output_file = Path(\"/tmp/custom_while_loop.json\")\n",
    "workflow.dump_json_file(output_file)\n",
    "\n",
    "print(f\"Saved workflow to {output_file}\")\n",
    "print(workflow.dump_json())"
   ]
  },
  {
   "cell_type": "markdown",
   "metadata": {},
   "source": [
    "## Example 5: Load and Execute Custom Workflow"
   ]
  },
  {
   "cell_type": "code",
   "execution_count": null,
   "metadata": {},
   "outputs": [],
   "source": [
    "# Load the custom workflow\n",
    "wg_custom = load_workflow_json(str(output_file))\n",
    "wg_custom.submit(wait=True)\n",
    "\n",
    "print(f\"Custom workflow completed with state: {wg_custom.state}\")"
   ]
  },
  {
   "cell_type": "markdown",
   "metadata": {},
   "source": [
    "## Summary\n",
    "\n",
    "This notebook demonstrated:\n",
    "1. Loading while loop workflows from JSON\n",
    "2. Executing workflows with AiiDA WorkGraph\n",
    "3. Using both function-based and expression-based conditions\n",
    "4. Creating workflows programmatically with the Python API\n",
    "5. Exporting workflows to JSON format"
   ]
  }
 ],
 "metadata": {
  "kernelspec": {
   "display_name": "PWD",
   "language": "python",
   "name": "pwd"
  },
  "language_info": {
   "codemirror_mode": {
    "name": "ipython",
    "version": 3
   },
   "file_extension": ".py",
   "mimetype": "text/x-python",
   "name": "python",
   "nbconvert_exporter": "python",
   "pygments_lexer": "ipython3",
   "version": "3.10.12"
  }
 },
 "nbformat": 4,
 "nbformat_minor": 4
}