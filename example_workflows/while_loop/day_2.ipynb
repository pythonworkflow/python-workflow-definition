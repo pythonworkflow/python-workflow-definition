{
 "cells": [
  {
   "cell_type": "markdown",
   "id": "168e0c74-f2f2-435c-aed2-d74054cef224",
   "metadata": {},
   "source": [
    "# Python"
   ]
  },
  {
   "cell_type": "markdown",
   "id": "e55a0c60-be82-46f9-83ad-281ab51707f5",
   "metadata": {},
   "source": [
    "## Basic while loop"
   ]
  },
  {
   "cell_type": "code",
   "execution_count": 1,
   "id": "4f958a3a-f6e0-4459-95c8-0ec2e5e85025",
   "metadata": {},
   "outputs": [
    {
     "name": "stdout",
     "output_type": "stream",
     "text": [
      "5\n"
     ]
    }
   ],
   "source": [
    "x=0\n",
    "limit = 5\n",
    "\n",
    "while x < limit:\n",
    "    x +=1\n",
    "\n",
    "print(x)"
   ]
  },
  {
   "cell_type": "markdown",
   "id": "0c777177-6e09-421b-bca8-0ce3af9dd033",
   "metadata": {},
   "source": [
    "## Recursive "
   ]
  },
  {
   "cell_type": "code",
   "execution_count": 2,
   "id": "4cf92ab8-67e6-453e-a945-e43b7220bd92",
   "metadata": {},
   "outputs": [
    {
     "data": {
      "text/plain": [
       "5"
      ]
     },
     "execution_count": 2,
     "metadata": {},
     "output_type": "execute_result"
    }
   ],
   "source": [
    "def while_loop(x, limit):\n",
    "    if not (x < limit):\n",
    "        return x\n",
    "    x += 1\n",
    "    return while_loop(x=x, limit=limit)\n",
    "\n",
    "while_loop(limit=5, x=0)"
   ]
  },
  {
   "cell_type": "markdown",
   "id": "f73d4ba6-0761-4935-8a66-96a968c3800f",
   "metadata": {},
   "source": [
    "## Functional "
   ]
  },
  {
   "cell_type": "code",
   "execution_count": 3,
   "id": "74a374fe-0c63-42ac-abe3-594782fcaedb",
   "metadata": {},
   "outputs": [],
   "source": [
    "def condition(x, limit):\n",
    "    return limit > x"
   ]
  },
  {
   "cell_type": "code",
   "execution_count": 4,
   "id": "bcf88d3a-eded-4263-b1f5-16e5c496a45b",
   "metadata": {},
   "outputs": [],
   "source": [
    "def function_body(x):\n",
    "    return x + 1"
   ]
  },
  {
   "cell_type": "code",
   "execution_count": 5,
   "id": "f9f5a531-d530-4e24-a99c-237b56ee1cc9",
   "metadata": {},
   "outputs": [],
   "source": [
    "def abstract_while(x, limit):\n",
    "    if not condition(x=x, limit=limit):\n",
    "        return x\n",
    "    x = function_body(x=x)\n",
    "    return abstract_while(x=x, limit=limit)"
   ]
  },
  {
   "cell_type": "code",
   "execution_count": 6,
   "id": "0d6cfdc7-b6a4-433a-9d6b-3d6456f3ae76",
   "metadata": {},
   "outputs": [
    {
     "data": {
      "text/plain": [
       "5"
      ]
     },
     "execution_count": 6,
     "metadata": {},
     "output_type": "execute_result"
    }
   ],
   "source": [
    "abstract_while(x=0, limit=5)"
   ]
  },
  {
   "cell_type": "markdown",
   "id": "4ba10282-0422-45f8-995c-ac6791a7f5ef",
   "metadata": {},
   "source": [
    "# Workflow Manager"
   ]
  },
  {
   "cell_type": "markdown",
   "id": "c42cc98a-5034-45d0-b0e4-04b76469fee1",
   "metadata": {},
   "source": [
    "## Aiida workgraph"
   ]
  },
  {
   "cell_type": "code",
   "execution_count": 7,
   "id": "32baafff-99fb-4d99-ba20-6ff6da05a866",
   "metadata": {},
   "outputs": [
    {
     "data": {
      "text/plain": [
       "Profile<uuid='9dbed49d67a84dc8b98daf3a735caafe' name='presto'>"
      ]
     },
     "execution_count": 7,
     "metadata": {},
     "output_type": "execute_result"
    }
   ],
   "source": [
    "from aiida_workgraph import task\n",
    "from aiida import load_profile\n",
    "load_profile()"
   ]
  },
  {
   "cell_type": "code",
   "execution_count": 8,
   "id": "d1c2dc59-ff59-4301-afd4-91167cbadbfb",
   "metadata": {},
   "outputs": [],
   "source": [
    "def condition(x, limit):\n",
    "    return limit > x"
   ]
  },
  {
   "cell_type": "code",
   "execution_count": 9,
   "id": "27539c6e-1fae-4c7c-9540-e9d31b4597da",
   "metadata": {},
   "outputs": [],
   "source": [
    "@task\n",
    "def function_body(x):\n",
    "    return x + 1"
   ]
  },
  {
   "cell_type": "code",
   "execution_count": 10,
   "id": "7533fc03-4d8f-4286-8986-6252c5f6ed89",
   "metadata": {},
   "outputs": [],
   "source": [
    "@task.graph\n",
    "def abstract_while_aiida(x, limit):\n",
    "    if not condition(x=x, limit=limit):\n",
    "        # if not limit > x:\n",
    "        return x\n",
    "    x = function_body(x=x).result\n",
    "    return abstract_while_aiida(x=x, limit=limit)"
   ]
  },
  {
   "cell_type": "code",
   "execution_count": 11,
   "id": "816f53d0-d252-44a2-860a-183e77ba9c4f",
   "metadata": {},
   "outputs": [
    {
     "name": "stderr",
     "output_type": "stream",
     "text": [
      "10/22/2025 09:17:05 AM <901431> aiida.orm.nodes.process.workflow.workchain.WorkChainNode: [REPORT] [619|WorkGraphEngine|continue_workgraph]: tasks ready to run: function_body\n",
      "10/22/2025 09:17:06 AM <901431> aiida.orm.nodes.process.workflow.workchain.WorkChainNode: [REPORT] [619|WorkGraphEngine|update_task_state]: Task: function_body, type: PYFUNCTION, finished.\n",
      "10/22/2025 09:17:06 AM <901431> aiida.orm.nodes.process.workflow.workchain.WorkChainNode: [REPORT] [619|WorkGraphEngine|continue_workgraph]: tasks ready to run: abstract_while_aiida\n",
      "10/22/2025 09:17:06 AM <901431> aiida.orm.nodes.process.workflow.workchain.WorkChainNode: [REPORT] [619|WorkGraphEngine|on_wait]: Process status: Waiting for child processes: 622\n",
      "10/22/2025 09:17:07 AM <901431> aiida.orm.nodes.process.workflow.workchain.WorkChainNode: [REPORT] [622|WorkGraphEngine|continue_workgraph]: tasks ready to run: function_body\n",
      "10/22/2025 09:17:07 AM <901431> aiida.orm.nodes.process.workflow.workchain.WorkChainNode: [REPORT] [622|WorkGraphEngine|update_task_state]: Task: function_body, type: PYFUNCTION, finished.\n",
      "10/22/2025 09:17:07 AM <901431> aiida.orm.nodes.process.workflow.workchain.WorkChainNode: [REPORT] [622|WorkGraphEngine|continue_workgraph]: tasks ready to run: abstract_while_aiida\n",
      "10/22/2025 09:17:08 AM <901431> aiida.orm.nodes.process.workflow.workchain.WorkChainNode: [REPORT] [622|WorkGraphEngine|on_wait]: Process status: Waiting for child processes: 625\n",
      "10/22/2025 09:17:08 AM <901431> aiida.orm.nodes.process.workflow.workchain.WorkChainNode: [REPORT] [625|WorkGraphEngine|continue_workgraph]: tasks ready to run: function_body\n",
      "10/22/2025 09:17:09 AM <901431> aiida.orm.nodes.process.workflow.workchain.WorkChainNode: [REPORT] [625|WorkGraphEngine|update_task_state]: Task: function_body, type: PYFUNCTION, finished.\n",
      "10/22/2025 09:17:09 AM <901431> aiida.orm.nodes.process.workflow.workchain.WorkChainNode: [REPORT] [625|WorkGraphEngine|continue_workgraph]: tasks ready to run: abstract_while_aiida\n",
      "10/22/2025 09:17:10 AM <901431> aiida.orm.nodes.process.workflow.workchain.WorkChainNode: [REPORT] [625|WorkGraphEngine|on_wait]: Process status: Waiting for child processes: 628\n",
      "10/22/2025 09:17:10 AM <901431> aiida.orm.nodes.process.workflow.workchain.WorkChainNode: [REPORT] [628|WorkGraphEngine|continue_workgraph]: tasks ready to run: function_body\n",
      "10/22/2025 09:17:11 AM <901431> aiida.orm.nodes.process.workflow.workchain.WorkChainNode: [REPORT] [628|WorkGraphEngine|update_task_state]: Task: function_body, type: PYFUNCTION, finished.\n",
      "10/22/2025 09:17:11 AM <901431> aiida.orm.nodes.process.workflow.workchain.WorkChainNode: [REPORT] [628|WorkGraphEngine|continue_workgraph]: tasks ready to run: abstract_while_aiida\n",
      "10/22/2025 09:17:11 AM <901431> aiida.orm.nodes.process.workflow.workchain.WorkChainNode: [REPORT] [628|WorkGraphEngine|on_wait]: Process status: Waiting for child processes: 631\n",
      "10/22/2025 09:17:12 AM <901431> aiida.orm.nodes.process.workflow.workchain.WorkChainNode: [REPORT] [631|WorkGraphEngine|continue_workgraph]: tasks ready to run: function_body\n",
      "10/22/2025 09:17:12 AM <901431> aiida.orm.nodes.process.workflow.workchain.WorkChainNode: [REPORT] [631|WorkGraphEngine|update_task_state]: Task: function_body, type: PYFUNCTION, finished.\n",
      "10/22/2025 09:17:12 AM <901431> aiida.orm.nodes.process.workflow.workchain.WorkChainNode: [REPORT] [631|WorkGraphEngine|continue_workgraph]: tasks ready to run: abstract_while_aiida\n",
      "10/22/2025 09:17:13 AM <901431> aiida.orm.nodes.process.workflow.workchain.WorkChainNode: [REPORT] [631|WorkGraphEngine|on_wait]: Process status: Waiting for child processes: 634\n",
      "10/22/2025 09:17:13 AM <901431> aiida.orm.nodes.process.workflow.workchain.WorkChainNode: [REPORT] [634|WorkGraphEngine|continue_workgraph]: tasks ready to run: \n",
      "10/22/2025 09:17:13 AM <901431> aiida.orm.nodes.process.workflow.workchain.WorkChainNode: [REPORT] [634|WorkGraphEngine|finalize]: Finalize workgraph.\n",
      "10/22/2025 09:17:13 AM <901431> aiida.orm.nodes.process.workflow.workchain.WorkChainNode: [REPORT] [631|WorkGraphEngine|update_task_state]: Task: abstract_while_aiida, type: GRAPH, finished.\n",
      "10/22/2025 09:17:14 AM <901431> aiida.orm.nodes.process.workflow.workchain.WorkChainNode: [REPORT] [631|WorkGraphEngine|continue_workgraph]: tasks ready to run: \n",
      "10/22/2025 09:17:14 AM <901431> aiida.orm.nodes.process.workflow.workchain.WorkChainNode: [REPORT] [631|WorkGraphEngine|finalize]: Finalize workgraph.\n",
      "10/22/2025 09:17:14 AM <901431> aiida.orm.nodes.process.workflow.workchain.WorkChainNode: [REPORT] [628|WorkGraphEngine|update_task_state]: Task: abstract_while_aiida, type: GRAPH, finished.\n",
      "10/22/2025 09:17:14 AM <901431> aiida.orm.nodes.process.workflow.workchain.WorkChainNode: [REPORT] [628|WorkGraphEngine|continue_workgraph]: tasks ready to run: \n",
      "10/22/2025 09:17:14 AM <901431> aiida.orm.nodes.process.workflow.workchain.WorkChainNode: [REPORT] [628|WorkGraphEngine|finalize]: Finalize workgraph.\n",
      "10/22/2025 09:17:15 AM <901431> aiida.orm.nodes.process.workflow.workchain.WorkChainNode: [REPORT] [625|WorkGraphEngine|update_task_state]: Task: abstract_while_aiida, type: GRAPH, finished.\n",
      "10/22/2025 09:17:15 AM <901431> aiida.orm.nodes.process.workflow.workchain.WorkChainNode: [REPORT] [625|WorkGraphEngine|continue_workgraph]: tasks ready to run: \n",
      "10/22/2025 09:17:15 AM <901431> aiida.orm.nodes.process.workflow.workchain.WorkChainNode: [REPORT] [625|WorkGraphEngine|finalize]: Finalize workgraph.\n",
      "10/22/2025 09:17:15 AM <901431> aiida.orm.nodes.process.workflow.workchain.WorkChainNode: [REPORT] [622|WorkGraphEngine|update_task_state]: Task: abstract_while_aiida, type: GRAPH, finished.\n",
      "10/22/2025 09:17:16 AM <901431> aiida.orm.nodes.process.workflow.workchain.WorkChainNode: [REPORT] [622|WorkGraphEngine|continue_workgraph]: tasks ready to run: \n",
      "10/22/2025 09:17:16 AM <901431> aiida.orm.nodes.process.workflow.workchain.WorkChainNode: [REPORT] [622|WorkGraphEngine|finalize]: Finalize workgraph.\n",
      "10/22/2025 09:17:16 AM <901431> aiida.orm.nodes.process.workflow.workchain.WorkChainNode: [REPORT] [619|WorkGraphEngine|update_task_state]: Task: abstract_while_aiida, type: GRAPH, finished.\n",
      "10/22/2025 09:17:16 AM <901431> aiida.orm.nodes.process.workflow.workchain.WorkChainNode: [REPORT] [619|WorkGraphEngine|continue_workgraph]: tasks ready to run: \n",
      "10/22/2025 09:17:16 AM <901431> aiida.orm.nodes.process.workflow.workchain.WorkChainNode: [REPORT] [619|WorkGraphEngine|finalize]: Finalize workgraph.\n"
     ]
    },
    {
     "data": {
      "text/plain": [
       "{'result': <Int: uuid: afb6d187-4d85-4180-8a00-d4b60b5c3e67 (pk: 633) value: 5>}"
      ]
     },
     "execution_count": 11,
     "metadata": {},
     "output_type": "execute_result"
    }
   ],
   "source": [
    "wg = abstract_while_aiida.build(x=0, limit=5)\n",
    "wg.run()"
   ]
  },
  {
   "cell_type": "markdown",
   "id": "018e121a-3474-4d01-884c-9301724d8f68",
   "metadata": {},
   "source": [
    "## jobflow "
   ]
  },
  {
   "cell_type": "code",
   "execution_count": 12,
   "id": "64713160-d3db-470f-af5b-e9b49a2910c0",
   "metadata": {},
   "outputs": [],
   "source": [
    "from jobflow import job, Flow, Response\n",
    "from jobflow.managers.local import run_locally"
   ]
  },
  {
   "cell_type": "code",
   "execution_count": 13,
   "id": "bbf832a5-c4cd-415d-b5dc-4fc227f5fef4",
   "metadata": {},
   "outputs": [],
   "source": [
    "def condition(x, limit):\n",
    "    return limit > x"
   ]
  },
  {
   "cell_type": "code",
   "execution_count": 14,
   "id": "94e09c9e-30e6-4f3a-b7cf-01c843096215",
   "metadata": {},
   "outputs": [],
   "source": [
    "def function_body(x):\n",
    "    return x + 1"
   ]
  },
  {
   "cell_type": "code",
   "execution_count": 15,
   "id": "17199730-0334-410d-80d7-219821a6ca5e",
   "metadata": {},
   "outputs": [],
   "source": [
    "@job\n",
    "def abstract_while_jobflow(x, limit):\n",
    "    if not condition(x, limit): \n",
    "        return x\n",
    "    x = function_body(x)\n",
    "    job_obj = abstract_while_jobflow(x=x, limit=limit)\n",
    "    return Response(replace=job_obj, output=job_obj.output)"
   ]
  },
  {
   "cell_type": "code",
   "execution_count": 16,
   "id": "614fcd79-2c96-413e-b351-581ed9d7928e",
   "metadata": {},
   "outputs": [
    {
     "name": "stdout",
     "output_type": "stream",
     "text": [
      "2025-10-22 03:28:06,229 INFO Started executing jobs locally\n",
      "2025-10-22 03:28:06,492 INFO Starting job - abstract_while_jobflow (c3076712-2ba3-42d6-b95f-8114d9df440f)\n",
      "2025-10-22 03:28:06,494 INFO Finished job - abstract_while_jobflow (c3076712-2ba3-42d6-b95f-8114d9df440f)\n",
      "2025-10-22 03:28:06,495 INFO Starting job - abstract_while_jobflow (c3076712-2ba3-42d6-b95f-8114d9df440f, 2)\n",
      "2025-10-22 03:28:06,496 INFO Finished job - abstract_while_jobflow (c3076712-2ba3-42d6-b95f-8114d9df440f, 2)\n",
      "2025-10-22 03:28:06,497 INFO Starting job - abstract_while_jobflow (c3076712-2ba3-42d6-b95f-8114d9df440f, 3)\n",
      "2025-10-22 03:28:06,498 INFO Finished job - abstract_while_jobflow (c3076712-2ba3-42d6-b95f-8114d9df440f, 3)\n",
      "2025-10-22 03:28:06,498 INFO Starting job - abstract_while_jobflow (c3076712-2ba3-42d6-b95f-8114d9df440f, 4)\n",
      "2025-10-22 03:28:06,499 INFO Finished job - abstract_while_jobflow (c3076712-2ba3-42d6-b95f-8114d9df440f, 4)\n",
      "2025-10-22 03:28:06,500 INFO Starting job - abstract_while_jobflow (c3076712-2ba3-42d6-b95f-8114d9df440f, 5)\n",
      "2025-10-22 03:28:06,501 INFO Finished job - abstract_while_jobflow (c3076712-2ba3-42d6-b95f-8114d9df440f, 5)\n",
      "2025-10-22 03:28:06,502 INFO Starting job - abstract_while_jobflow (c3076712-2ba3-42d6-b95f-8114d9df440f, 6)\n",
      "2025-10-22 03:28:06,504 INFO Finished job - abstract_while_jobflow (c3076712-2ba3-42d6-b95f-8114d9df440f, 6)\n",
      "2025-10-22 03:28:06,507 INFO Finished executing jobs locally\n"
     ]
    },
    {
     "data": {
      "text/plain": [
       "{'c3076712-2ba3-42d6-b95f-8114d9df440f': {1: Response(output=OutputReference(c3076712-2ba3-42d6-b95f-8114d9df440f), detour=None, addition=None, replace=Flow(name='Flow', uuid='ab1426c4-f5ca-457d-b862-06420486e4e0')\n",
       "  1. Job(name='abstract_while_jobflow', uuid='c3076712-2ba3-42d6-b95f-8114d9df440f'), stored_data=None, stop_children=False, stop_jobflow=False, job_dir=PosixPath('/home/jovyan')),\n",
       "  2: Response(output=OutputReference(c3076712-2ba3-42d6-b95f-8114d9df440f), detour=None, addition=None, replace=Flow(name='Flow', uuid='8d1e656e-a405-4379-92e6-b76de0ce8d10')\n",
       "  1. Job(name='abstract_while_jobflow', uuid='c3076712-2ba3-42d6-b95f-8114d9df440f'), stored_data=None, stop_children=False, stop_jobflow=False, job_dir=PosixPath('/home/jovyan')),\n",
       "  3: Response(output=OutputReference(c3076712-2ba3-42d6-b95f-8114d9df440f), detour=None, addition=None, replace=Flow(name='Flow', uuid='33af5a51-18f4-43cc-9515-5e5df5b960b4')\n",
       "  1. Job(name='abstract_while_jobflow', uuid='c3076712-2ba3-42d6-b95f-8114d9df440f'), stored_data=None, stop_children=False, stop_jobflow=False, job_dir=PosixPath('/home/jovyan')),\n",
       "  4: Response(output=OutputReference(c3076712-2ba3-42d6-b95f-8114d9df440f), detour=None, addition=None, replace=Flow(name='Flow', uuid='ac44bc23-5a91-4ac6-bdbf-03c0f57bdcc2')\n",
       "  1. Job(name='abstract_while_jobflow', uuid='c3076712-2ba3-42d6-b95f-8114d9df440f'), stored_data=None, stop_children=False, stop_jobflow=False, job_dir=PosixPath('/home/jovyan')),\n",
       "  5: Response(output=OutputReference(c3076712-2ba3-42d6-b95f-8114d9df440f), detour=None, addition=None, replace=Flow(name='Flow', uuid='f97c0421-621d-45fd-aa9d-419ff3cdb2c3')\n",
       "  1. Job(name='abstract_while_jobflow', uuid='c3076712-2ba3-42d6-b95f-8114d9df440f'), stored_data=None, stop_children=False, stop_jobflow=False, job_dir=PosixPath('/home/jovyan')),\n",
       "  6: Response(output=5, detour=None, addition=None, replace=None, stored_data=None, stop_children=False, stop_jobflow=False, job_dir=PosixPath('/home/jovyan'))}}"
      ]
     },
     "execution_count": 16,
     "metadata": {},
     "output_type": "execute_result"
    }
   ],
   "source": [
    "flow = Flow([abstract_while_jobflow(limit=5, x=0)])\n",
    "run_locally(flow)"
   ]
  },
  {
   "cell_type": "markdown",
   "id": "9c5df73c-e792-4fa1-912d-a83da5c1748e",
   "metadata": {},
   "source": [
    "## pyiron_base"
   ]
  },
  {
   "cell_type": "code",
   "execution_count": 17,
   "id": "6d3450c2-8394-4844-a4ea-73b795603a83",
   "metadata": {},
   "outputs": [],
   "source": [
    "from pyiron_base import job, Project"
   ]
  },
  {
   "cell_type": "code",
   "execution_count": 18,
   "id": "871d74ae-8f9e-4ff3-b6c4-b6950102ad34",
   "metadata": {},
   "outputs": [],
   "source": [
    "def condition(x, limit):\n",
    "    return limit > x"
   ]
  },
  {
   "cell_type": "code",
   "execution_count": 19,
   "id": "b67e3205-3448-456d-ba0d-31bf09204b7b",
   "metadata": {},
   "outputs": [],
   "source": [
    "@job\n",
    "def function_body(x):\n",
    "    return x + 1"
   ]
  },
  {
   "cell_type": "code",
   "execution_count": 20,
   "id": "36979cb7-fd46-4f1d-8540-43612ba2b30b",
   "metadata": {},
   "outputs": [],
   "source": [
    "# internal function\n",
    "def while_generator(condition, function_body):\n",
    "    def abstract_while_pyiron(x, limit, pyiron_project=Project(\".\")):\n",
    "        if not condition(x=x, limit=limit):\n",
    "            return x\n",
    "        x = function_body(x=x, pyiron_project=pyiron_project).pull()\n",
    "        return abstract_while_pyiron(x=x, limit=limit, pyiron_project=pyiron_project)\n",
    "\n",
    "    return abstract_while_pyiron"
   ]
  },
  {
   "cell_type": "code",
   "execution_count": 21,
   "id": "d509fe7c-8bc2-4c6a-b731-142f138cdf7d",
   "metadata": {},
   "outputs": [
    {
     "data": {
      "application/vnd.jupyter.widget-view+json": {
       "model_id": "638b08b072e6411da227b283d2bc3834",
       "version_major": 2,
       "version_minor": 0
      },
      "text/plain": [
       "0it [00:00, ?it/s]"
      ]
     },
     "metadata": {},
     "output_type": "display_data"
    }
   ],
   "source": [
    "pr = Project(\"test\")\n",
    "pr.remove_jobs(recursive=True, silently=True)"
   ]
  },
  {
   "cell_type": "code",
   "execution_count": 22,
   "id": "2114315c-af3a-4e0d-b8d8-36f974b47365",
   "metadata": {},
   "outputs": [
    {
     "name": "stdout",
     "output_type": "stream",
     "text": [
      "The job function_body_22fe092ee8c05b103ea1dd8cd57b603c was saved and received the ID: 1\n",
      "The job function_body_0f4f6df822da6a6f04b8395467657bcc was saved and received the ID: 2\n",
      "The job function_body_b1f9a2ea87658f57059d78a1a0368663 was saved and received the ID: 3\n",
      "The job function_body_efaaa22b1b57e349af45c64dd0ef749d was saved and received the ID: 4\n",
      "The job function_body_0b694a991ff7d973644d5ee70b7c8142 was saved and received the ID: 5\n"
     ]
    },
    {
     "data": {
      "text/plain": [
       "5"
      ]
     },
     "execution_count": 22,
     "metadata": {},
     "output_type": "execute_result"
    }
   ],
   "source": [
    "while_generator(condition=condition, function_body=function_body)(x=0, limit=5, pyiron_project=pr)"
   ]
  },
  {
   "cell_type": "markdown",
   "id": "7b5ef791-937f-42f8-a625-a1866652aa04",
   "metadata": {},
   "source": [
    "# Abstract Syntax Tree"
   ]
  },
  {
   "cell_type": "code",
   "execution_count": 23,
   "id": "c770a3bb-e82e-41a0-9a05-3b84bffb4d75",
   "metadata": {},
   "outputs": [],
   "source": [
    "from ast import dump, parse"
   ]
  },
  {
   "cell_type": "code",
   "execution_count": 24,
   "id": "c480efbe-91ca-46c5-9331-cf8af257497c",
   "metadata": {},
   "outputs": [],
   "source": [
    "while_code = \"\"\"\\\n",
    "x = 0 \n",
    "while x < 5:\n",
    "    x += 1\n",
    "\"\"\""
   ]
  },
  {
   "cell_type": "code",
   "execution_count": 25,
   "id": "1f67fb48-c98b-490b-91a4-90d4ed735743",
   "metadata": {},
   "outputs": [
    {
     "name": "stdout",
     "output_type": "stream",
     "text": [
      "Module(\n",
      "    body=[\n",
      "        Assign(\n",
      "            targets=[\n",
      "                Name(id='x', ctx=Store())],\n",
      "            value=Constant(value=0)),\n",
      "        While(\n",
      "            test=Compare(\n",
      "                left=Name(id='x', ctx=Load()),\n",
      "                ops=[\n",
      "                    Lt()],\n",
      "                comparators=[\n",
      "                    Constant(value=5)]),\n",
      "            body=[\n",
      "                AugAssign(\n",
      "                    target=Name(id='x', ctx=Store()),\n",
      "                    op=Add(),\n",
      "                    value=Constant(value=1))],\n",
      "            orelse=[])],\n",
      "    type_ignores=[])\n"
     ]
    }
   ],
   "source": [
    "print(dump(parse(while_code), indent=4))"
   ]
  },
  {
   "cell_type": "code",
   "execution_count": null,
   "id": "42152476-4c21-4da8-a4ca-45ba3b56e0ff",
   "metadata": {},
   "outputs": [],
   "source": []
  }
 ],
 "metadata": {
  "kernelspec": {
   "display_name": "Python 3 (ipykernel)",
   "language": "python",
   "name": "python3"
  },
  "language_info": {
   "codemirror_mode": {
    "name": "ipython",
    "version": 3
   },
   "file_extension": ".py",
   "mimetype": "text/x-python",
   "name": "python",
   "nbconvert_exporter": "python",
   "pygments_lexer": "ipython3",
   "version": "3.10.12"
  }
 },
 "nbformat": 4,
 "nbformat_minor": 5
}
