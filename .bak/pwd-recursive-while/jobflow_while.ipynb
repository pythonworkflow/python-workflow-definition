{
 "cells": [
  {
   "cell_type": "markdown",
   "metadata": {},
   "source": [
    "# While Loop with Jobflow\n",
    "\n",
    "This notebook demonstrates using the WhileNode with Jobflow backend.\n",
    "\n",
    "## Setup"
   ]
  },
  {
   "cell_type": "code",
   "execution_count": null,
   "metadata": {},
   "outputs": [],
   "source": "import sys\nfrom pathlib import Path\n\n# Add source to path\nsrc_path = Path.cwd().parent / \"python_workflow_definition\" / \"src\"\nsys.path.insert(0, str(src_path))\n\n# Add workflow examples to path so they can be imported\nworkflow_examples_path = Path.cwd().parent / \"example_workflows\" / \"while_loop\"\nsys.path.insert(0, str(workflow_examples_path))\n\nfrom jobflow import run_locally"
  },
  {
   "cell_type": "markdown",
   "metadata": {},
   "source": [
    "## Example 1: Load While Loop from JSON\n",
    "\n",
    "Load a simple counter workflow with while loop from JSON."
   ]
  },
  {
   "cell_type": "code",
   "execution_count": null,
   "metadata": {},
   "outputs": [],
   "source": [
    "from python_workflow_definition.jobflow import load_workflow_json\n",
    "\n",
    "# Create the JSON workflow file path\n",
    "json_file = Path.cwd().parent / \"example_workflows\" / \"while_loop\" / \"simple_counter.json\"\n",
    "\n",
    "# Load the workflow\n",
    "flow = load_workflow_json(str(json_file))\n",
    "\n",
    "print(f\"Loaded Flow with {len(flow.jobs)} jobs\")\n",
    "print(f\"Job names: {[job.name for job in flow.jobs]}\")"
   ]
  },
  {
   "cell_type": "markdown",
   "metadata": {},
   "source": [
    "## Example 2: Run the Flow\n",
    "\n",
    "Execute the while loop workflow locally."
   ]
  },
  {
   "cell_type": "code",
   "execution_count": null,
   "metadata": {},
   "outputs": [],
   "source": [
    "# Run the flow locally\n",
    "responses = run_locally(flow)\n",
    "\n",
    "print(\"Flow completed!\")\n",
    "print(f\"Number of responses: {len(responses)}\")\n",
    "\n",
    "# Get the final result\n",
    "for response in responses.values():\n",
    "    print(f\"Result: {response[1].output}\")"
   ]
  },
  {
   "cell_type": "markdown",
   "metadata": {},
   "source": [
    "## Example 3: Expression-based Condition\n",
    "\n",
    "Load and run a while loop with expression-based condition."
   ]
  },
  {
   "cell_type": "code",
   "execution_count": null,
   "metadata": {},
   "outputs": [],
   "source": [
    "json_file_expr = Path.cwd().parent / \"example_workflows\" / \"while_loop\" / \"simple_counter_expression.json\"\n",
    "\n",
    "flow_expr = load_workflow_json(str(json_file_expr))\n",
    "responses_expr = run_locally(flow_expr)\n",
    "\n",
    "print(\"Expression-based flow completed!\")\n",
    "for response in responses_expr.values():\n",
    "    print(f\"Result: {response[1].output}\")"
   ]
  },
  {
   "cell_type": "markdown",
   "metadata": {},
   "source": [
    "## Example 4: Create While Loop Manually\n",
    "\n",
    "Create a while loop workflow using Python API and export to JSON."
   ]
  },
  {
   "cell_type": "code",
   "execution_count": null,
   "metadata": {},
   "outputs": [],
   "source": [
    "from python_workflow_definition.models import (\n",
    "    PythonWorkflowDefinitionWorkflow,\n",
    "    PythonWorkflowDefinitionWhileNode,\n",
    "    PythonWorkflowDefinitionInputNode,\n",
    "    PythonWorkflowDefinitionOutputNode,\n",
    "    PythonWorkflowDefinitionEdge,\n",
    ")\n",
    "\n",
    "# Define workflow with custom parameters\n",
    "workflow = PythonWorkflowDefinitionWorkflow(\n",
    "    version=\"0.1.0\",\n",
    "    nodes=[\n",
    "        PythonWorkflowDefinitionInputNode(id=0, type=\"input\", name=\"n\", value=20),\n",
    "        PythonWorkflowDefinitionInputNode(id=1, type=\"input\", name=\"m\", value=0),\n",
    "        PythonWorkflowDefinitionWhileNode(\n",
    "            id=2,\n",
    "            type=\"while\",\n",
    "            conditionFunction=\"workflow.is_less_than\",\n",
    "            bodyFunction=\"workflow.increment_m\",\n",
    "            maxIterations=500,\n",
    "        ),\n",
    "        PythonWorkflowDefinitionOutputNode(id=3, type=\"output\", name=\"result\"),\n",
    "    ],\n",
    "    edges=[\n",
    "        PythonWorkflowDefinitionEdge(source=0, target=2, targetPort=\"n\"),\n",
    "        PythonWorkflowDefinitionEdge(source=1, target=2, targetPort=\"m\"),\n",
    "        PythonWorkflowDefinitionEdge(source=2, sourcePort=\"m\", target=3),\n",
    "    ],\n",
    ")\n",
    "\n",
    "# Save to JSON\n",
    "output_file = Path(\"/tmp/custom_while_loop_jobflow.json\")\n",
    "workflow.dump_json_file(output_file)\n",
    "\n",
    "print(f\"Saved workflow to {output_file}\")\n",
    "print(workflow.dump_json())"
   ]
  },
  {
   "cell_type": "markdown",
   "metadata": {},
   "source": [
    "## Example 5: Load and Execute Custom Workflow"
   ]
  },
  {
   "cell_type": "code",
   "execution_count": null,
   "metadata": {},
   "outputs": [],
   "source": [
    "# Load and run the custom workflow\n",
    "flow_custom = load_workflow_json(str(output_file))\n",
    "responses_custom = run_locally(flow_custom)\n",
    "\n",
    "print(\"Custom workflow completed!\")\n",
    "for response in responses_custom.values():\n",
    "    result = response[1].output\n",
    "    print(f\"Final result: {result}\")\n",
    "    if isinstance(result, dict) and \"m\" in result:\n",
    "        print(f\"Counter reached: {result['m']}\")"
   ]
  },
  {
   "cell_type": "markdown",
   "metadata": {},
   "source": [
    "## Example 6: Fibonacci with Accumulator\n",
    "\n",
    "More complex example using accumulator pattern."
   ]
  },
  {
   "cell_type": "code",
   "execution_count": null,
   "metadata": {},
   "outputs": [],
   "source": [
    "# Create Fibonacci workflow\n",
    "fib_workflow = PythonWorkflowDefinitionWorkflow(\n",
    "    version=\"0.1.0\",\n",
    "    nodes=[\n",
    "        PythonWorkflowDefinitionInputNode(id=0, type=\"input\", name=\"n\", value=10),\n",
    "        PythonWorkflowDefinitionInputNode(id=1, type=\"input\", name=\"current\", value=0),\n",
    "        PythonWorkflowDefinitionInputNode(id=2, type=\"input\", name=\"a\", value=0),\n",
    "        PythonWorkflowDefinitionInputNode(id=3, type=\"input\", name=\"b\", value=1),\n",
    "        PythonWorkflowDefinitionInputNode(id=4, type=\"input\", name=\"results\", value=[]),\n",
    "        PythonWorkflowDefinitionWhileNode(\n",
    "            id=5,\n",
    "            type=\"while\",\n",
    "            conditionExpression=\"current < n\",\n",
    "            bodyFunction=\"nested_workflow.fibonacci_step\",  # You'd need to define this\n",
    "            maxIterations=50,\n",
    "        ),\n",
    "        PythonWorkflowDefinitionOutputNode(id=6, type=\"output\", name=\"fibonacci_result\"),\n",
    "    ],\n",
    "    edges=[\n",
    "        PythonWorkflowDefinitionEdge(source=0, target=5, targetPort=\"n\"),\n",
    "        PythonWorkflowDefinitionEdge(source=1, target=5, targetPort=\"current\"),\n",
    "        PythonWorkflowDefinitionEdge(source=2, target=5, targetPort=\"a\"),\n",
    "        PythonWorkflowDefinitionEdge(source=3, target=5, targetPort=\"b\"),\n",
    "        PythonWorkflowDefinitionEdge(source=4, target=5, targetPort=\"results\"),\n",
    "        PythonWorkflowDefinitionEdge(source=5, target=6),\n",
    "    ],\n",
    ")\n",
    "\n",
    "print(\"Fibonacci workflow created (note: requires fibonacci_step function to be defined)\")"
   ]
  },
  {
   "cell_type": "markdown",
   "metadata": {},
   "source": [
    "## Summary\n",
    "\n",
    "This notebook demonstrated:\n",
    "1. Loading while loop workflows from JSON into Jobflow\n",
    "2. Running workflows locally with `run_locally()`\n",
    "3. Using both function-based and expression-based conditions\n",
    "4. Creating workflows programmatically with the Python API\n",
    "5. Exporting workflows to JSON format\n",
    "6. More complex workflows with accumulator patterns"
   ]
  }
 ],
 "metadata": {
  "kernelspec": {
   "display_name": "Python 3",
   "language": "python",
   "name": "python3"
  },
  "language_info": {
   "name": "python",
   "version": "3.10.0"
  }
 },
 "nbformat": 4,
 "nbformat_minor": 4
}